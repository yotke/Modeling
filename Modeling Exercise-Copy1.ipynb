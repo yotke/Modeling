{
 "cells": [
  {
   "cell_type": "markdown",
   "id": "05bb7c4c-452a-408f-ac26-b184f1e10862",
   "metadata": {
    "tags": []
   },
   "source": [
    "# Modeling exercise"
   ]
  },
  {
   "cell_type": "markdown",
   "id": "38dbae80-7f28-4596-945e-a0784e384e4c",
   "metadata": {},
   "source": [
    "## General Instructions"
   ]
  },
  {
   "cell_type": "markdown",
   "id": "a5650156-42a5-4fb7-b74a-dec08bafd6c1",
   "metadata": {},
   "source": [
    "* Submission date: 14.5.2023\n",
    "* Submission Method: Link to your solution notebook in [this sheet](https://docs.google.com/spreadsheets/d/1GNPESGIhJpPb7LwMAyjF5qpJfZQak_mLkE3i5Y7a_VA/edit?usp=sharing)."
   ]
  },
  {
   "cell_type": "code",
   "execution_count": 2,
   "id": "5e136158-e12c-4d15-9c47-3cd726054a71",
   "metadata": {},
   "outputs": [],
   "source": [
    "import sys; sys.path.append('../src')\n",
    "import numpy as np\n",
    "import plotly_express as px"
   ]
  },
  {
   "cell_type": "code",
   "execution_count": 3,
   "id": "b53824c3-ccb9-4f1b-9420-bb0b57509862",
   "metadata": {},
   "outputs": [],
   "source": [
    "import pandas as pd\n",
    "import ipywidgets as widgets"
   ]
  },
  {
   "cell_type": "code",
   "execution_count": 4,
   "id": "da0716a6-a156-49a2-83d2-24d5ef36af3a",
   "metadata": {},
   "outputs": [],
   "source": [
    "from datasets import make_circles_dataframe, make_moons_dataframe"
   ]
  },
  {
   "cell_type": "markdown",
   "id": "513df470-6d24-4611-9fe8-61c25397763a",
   "metadata": {
    "tags": []
   },
   "source": [
    "## Fitting and Overfiting "
   ]
  },
  {
   "cell_type": "markdown",
   "id": "2d1e502f-4b12-4bf1-a981-7135b36e0830",
   "metadata": {},
   "source": [
    "The goal of the following exercise is to:\n",
    "* Observe overfitting due to insuffient data\n",
    "* Observe Overfitting due to overly complex model\n",
    "* Identify the overfitting point by looking at Train vs Test error dynamic\n",
    "* Observe how noise levels effect the needed data samples and model capacity"
   ]
  },
  {
   "cell_type": "markdown",
   "id": "7ce66863-5dcb-4040-93fe-663b5a69d2d4",
   "metadata": {
    "tags": []
   },
   "source": [
    "### CREATED FUNCTIONS TO RUN ON"
   ]
  },
  {
   "cell_type": "code",
   "execution_count": 5,
   "id": "632cec77-07ed-41e8-a99c-dd9bbc03a843",
   "metadata": {},
   "outputs": [],
   "source": [
    "from sklearn.linear_model import LogisticRegression\n",
    "from sklearn.model_selection import train_test_split\n",
    "from sklearn.metrics import accuracy_score\n",
    "import math\n",
    "### IMPORT THE LIBRARIES FOR SVM CALCULATION\n",
    "from sklearn.model_selection import train_test_split # for splitting the data into train and test samples\n",
    "from sklearn.metrics import classification_report # for model evaluation metrics\n",
    "from sklearn.svm import SVC # for Support Vector Classification model\n",
    "import plotly.express as px  # for data visualization\n",
    "import plotly.graph_objects as go # for data visualization\n",
    "\n",
    "from sklearn.ensemble import RandomForestClassifier\n",
    "\n",
    "### FOR PARALLEL LOOPS\n",
    "import multiprocessing\n",
    "import joblib\n",
    "import asyncio\n",
    "import time\n",
    "pool_obj = multiprocessing.Pool()"
   ]
  },
  {
   "cell_type": "code",
   "execution_count": 6,
   "id": "23749887-bc6b-4f9e-b305-b4248433a4a4",
   "metadata": {},
   "outputs": [],
   "source": [
    "### CREATE LOGISTIC REGRESSION FUNCTION \n",
    "def logsticRegression_Func(x_train,x_test,y_train,y_test,HP,RR):\n",
    "    logreg=LogisticRegression(C=1/RR)\n",
    "    logreg.fit(x_train,y_train)\n",
    "    predictTest=logreg.predict(x_test)\n",
    "    predictTrain = logreg.predict(x_train)\n",
    "    return [accuracy_score(y_test,predictTest),accuracy_score(y_train,predictTrain)]\n"
   ]
  },
  {
   "cell_type": "code",
   "execution_count": 7,
   "id": "459d26bd-8863-477c-9803-cfb09e634982",
   "metadata": {},
   "outputs": [],
   "source": [
    "def rgf_SVM_func(x_train,x_test,y_train,y_test,HP,RR):\n",
    "    clf = SVC(kernel='rbf', C=1/RR, gamma=HP)\n",
    "    clf.fit(x_train, y_train)\n",
    "    predictTest = clf.predict(x_test)\n",
    "    predictTrain = clf.predict(x_train)\n",
    "    return [accuracy_score(y_test,predictTest),accuracy_score(y_train,predictTrain)]\n"
   ]
  },
  {
   "cell_type": "code",
   "execution_count": 8,
   "id": "6d24efc7-216b-40a5-b42c-86a5b0f8d661",
   "metadata": {},
   "outputs": [],
   "source": [
    "def knn_func(k,x_train,x_test,y_train,y_test,HP,RR):\n",
    "    knn_classifier = KNeighborsClassifier(k)\n",
    "    knn_classifier.fit(x_train,y_train)\n",
    "    knn_res= knn_classifier.predict(x_test)\n",
    "    predictTrain = knn_classifier.predict(x_train)\n",
    "    return [accuracy_score(y_test,predictTest),accuracy_score(y_train,predictTrain)]\n"
   ]
  },
  {
   "cell_type": "code",
   "execution_count": 9,
   "id": "ddfc1e7d-baf8-428e-8147-83a65cbe66d6",
   "metadata": {},
   "outputs": [],
   "source": [
    "def randomForest_func(x_train,x_test,y_train,y_test,HP,RR):\n",
    "    clf = RandomForestClassifier(max_depth=2, random_state=0,ccp_alpha=HP)\n",
    "    clf.fit(x_train, y_train)\n",
    "    predictTest = clf.predict(x_test)\n",
    "    predictTrain = clf.predict(x_train)\n",
    "    return  [accuracy_score(y_test,predictTest),accuracy_score(y_train,predictTrain)]\n",
    "        "
   ]
  },
  {
   "cell_type": "markdown",
   "id": "c80b1cdc-fcfb-4ac7-841c-a5a534d569cd",
   "metadata": {},
   "source": [
    "To do so, you'll code an experiment in the first part, and analyze the experiment result in the second part."
   ]
  },
  {
   "cell_type": "markdown",
   "id": "95f343cc-0b25-4302-ab24-fc290c07b6ee",
   "metadata": {
    "tags": []
   },
   "source": [
    "### Building an experiment"
   ]
  },
  {
   "cell_type": "markdown",
   "id": "0e2a17e0-fb6f-479c-98bb-e5a6fc81e1ad",
   "metadata": {},
   "source": [
    "Code:\n",
    "\n",
    "1. Create data of size N with noise level of magnitude NL from datasets DS_NAME. \n",
    "1. Split it to training and validation data (no need for test set), use 80%-20%. \n",
    "1. Use Logistic regression and Choose one complex model of your choice: [KNN](https://scikit-learn.org/stable/modules/generated/sklearn.neighbors.KNeighborsClassifier.html), [SVM with RBF kernel](https://scikit-learn.org/stable/modules/svm.html) with different `gamma` values or [Random forest classifier](https://scikit-learn.org/stable/modules/generated/sklearn.ensemble.RandomForestClassifier.html) with differnt number of `min_samples_split`. \n",
    "1. Train on the train set for different hyper parameter values. compute:\n",
    "   1. Classification accuracy on the training set (TRE)\n",
    "   1. Classification accuracy on the validation set (TESTE)\n",
    "   1. The difference beteen the two above (E_DIFF)\n",
    "1. Save DS_NAME, N, NL, CLF_NAME, K, TRE, TESTE, E_DIFF and the regularization/hyper param (K, gamma or min_samples_split and regularization value for the linear regression classifier)\n",
    "\n",
    "Repeat for:\n",
    "* DS_NAME in Moons, Circles\n",
    "* N (number of samples) in [5, 10, 50, 100, 1000, 10000]\n",
    "* NL (noise level) in [0, 0.1, 0.2, 0.3, 0.4, 0.5]\n",
    "* For the complex model: 10 Values of hyper parameter of the complex model you've chosen.\n",
    "* For the linear model: 5 values of ridge (l2) regularization - [0.001, 0.01, 0.1, 1, 10, 100, 1000]"
   ]
  },
  {
   "cell_type": "markdown",
   "id": "1fe1bfe7-59c8-43af-8e88-c26d744ac954",
   "metadata": {
    "tags": []
   },
   "source": [
    "### FIRST TRY LOGISTIC REGRESTION"
   ]
  },
  {
   "cell_type": "code",
   "execution_count": 10,
   "id": "6fa61ced-6395-4c7c-9720-8f4fadc73f18",
   "metadata": {
    "tags": []
   },
   "outputs": [],
   "source": [
    "from sklearn.linear_model import LogisticRegression\n",
    "from sklearn.model_selection import train_test_split\n",
    "from sklearn.metrics import accuracy_score\n",
    "import math\n"
   ]
  },
  {
   "cell_type": "code",
   "execution_count": 11,
   "id": "eb2ecddd-41a5-4545-a4ef-496548d0e818",
   "metadata": {
    "tags": []
   },
   "outputs": [
    {
     "data": {
      "text/html": [
       "<div>\n",
       "<style scoped>\n",
       "    .dataframe tbody tr th:only-of-type {\n",
       "        vertical-align: middle;\n",
       "    }\n",
       "\n",
       "    .dataframe tbody tr th {\n",
       "        vertical-align: top;\n",
       "    }\n",
       "\n",
       "    .dataframe thead th {\n",
       "        text-align: right;\n",
       "    }\n",
       "</style>\n",
       "<table border=\"1\" class=\"dataframe\">\n",
       "  <thead>\n",
       "    <tr style=\"text-align: right;\">\n",
       "      <th></th>\n",
       "      <th>x</th>\n",
       "      <th>y</th>\n",
       "      <th>label</th>\n",
       "    </tr>\n",
       "  </thead>\n",
       "  <tbody>\n",
       "    <tr>\n",
       "      <th>0</th>\n",
       "      <td>-0.850994</td>\n",
       "      <td>0.525175</td>\n",
       "      <td>A</td>\n",
       "    </tr>\n",
       "    <tr>\n",
       "      <th>1</th>\n",
       "      <td>0.509939</td>\n",
       "      <td>-0.616411</td>\n",
       "      <td>B</td>\n",
       "    </tr>\n",
       "    <tr>\n",
       "      <th>2</th>\n",
       "      <td>0.411552</td>\n",
       "      <td>0.686021</td>\n",
       "      <td>B</td>\n",
       "    </tr>\n",
       "    <tr>\n",
       "      <th>3</th>\n",
       "      <td>0.247214</td>\n",
       "      <td>-0.760845</td>\n",
       "      <td>B</td>\n",
       "    </tr>\n",
       "    <tr>\n",
       "      <th>4</th>\n",
       "      <td>-0.247214</td>\n",
       "      <td>0.760845</td>\n",
       "      <td>B</td>\n",
       "    </tr>\n",
       "  </tbody>\n",
       "</table>\n",
       "</div>"
      ],
      "text/plain": [
       "          x         y label\n",
       "0 -0.850994  0.525175     A\n",
       "1  0.509939 -0.616411     B\n",
       "2  0.411552  0.686021     B\n",
       "3  0.247214 -0.760845     B\n",
       "4 -0.247214  0.760845     B"
      ]
     },
     "execution_count": 11,
     "metadata": {},
     "output_type": "execute_result"
    }
   ],
   "source": [
    "# CREATE DATA FRAME WITH NOISE LEVEL \n",
    "circles_df = make_circles_dataframe(n_samples=500, noise_level=0)\n",
    "circles_df.head()"
   ]
  },
  {
   "cell_type": "code",
   "execution_count": 12,
   "id": "bcd3afe4-6b35-4bc4-919d-18534c26bd2c",
   "metadata": {
    "tags": []
   },
   "outputs": [
    {
     "data": {
      "application/vnd.jupyter.widget-view+json": {
       "model_id": "a8c8b74ff6dd4a439f808e3bc9b15399",
       "version_major": 2,
       "version_minor": 0
      },
      "text/plain": [
       "interactive(children=(FloatSlider(value=0.0, description='noise_level', max=0.5, step=0.05), Output()), _dom_c…"
      ]
     },
     "metadata": {},
     "output_type": "display_data"
    }
   ],
   "source": [
    "@widgets.interact\n",
    "def plot_noisy_circles(noise_level = widgets.FloatSlider(value=0, min=0, max=0.5, step=0.05)):\n",
    "    df = make_circles_dataframe(1000, noise_level)\n",
    "    return px.scatter(df, x='x', y='y', color = 'label')"
   ]
  },
  {
   "cell_type": "code",
   "execution_count": 13,
   "id": "903bbe94-21fc-424b-a895-c395a8d78930",
   "metadata": {
    "tags": []
   },
   "outputs": [
    {
     "data": {
      "text/plain": [
       "0.4533333333333333"
      ]
     },
     "execution_count": 13,
     "metadata": {},
     "output_type": "execute_result"
    }
   ],
   "source": [
    "### CREATE LOGISTIC REGRESSION ON DATA FRAME\n",
    "\n",
    "logreg=LogisticRegression()\n",
    "x_train,x_test,y_train,y_test=train_test_split(circles_df.loc[:,['x','y']],circles_df.label,test_size=0.3,random_state=42)\n",
    "logreg.fit(x_train,y_train)\n",
    "predict=logreg.predict(x_test)\n",
    "accuracy_score(y_test,predict)\n"
   ]
  },
  {
   "cell_type": "code",
   "execution_count": 14,
   "id": "1cd553cb-3519-4143-b699-c1cd69b49e74",
   "metadata": {
    "tags": []
   },
   "outputs": [
    {
     "name": "stdout",
     "output_type": "stream",
     "text": [
      "            x         y\n",
      "5    0.127029  0.872971\n",
      "116  0.592318  0.047682\n",
      "45   0.553270  0.086730\n",
      "16   0.607810  0.032190\n",
      "462  0.244320  0.395680\n",
      "            x         y\n",
      "5   -0.356412  0.934329\n",
      "116 -0.769622  0.218362\n",
      "45   0.743821 -0.294500\n",
      "16  -0.779621 -0.179417\n",
      "462  0.494288 -0.629031\n"
     ]
    }
   ],
   "source": [
    "### CREATE LOGITIC REGRESSION WITH BIGGER MODELING CAPACITY\n",
    "x_train,x_test,y_train,y_test=train_test_split(circles_df.loc[:,['x','y']],circles_df.label,test_size=0.3,random_state=42)\n",
    "adapted_x_train = np.square(x_train)\n",
    "print(adapted_x_train.head())\n",
    "print(x_train.head())"
   ]
  },
  {
   "cell_type": "markdown",
   "id": "d5c6e4f3-f229-4bf9-9667-68b0667e63de",
   "metadata": {
    "tags": []
   },
   "source": [
    "### CREATE LOGSTIC REGRESTION TRANSFORMATION"
   ]
  },
  {
   "cell_type": "code",
   "execution_count": 15,
   "id": "bf57221d-14d4-4dfa-917a-7af37a905e19",
   "metadata": {
    "tags": []
   },
   "outputs": [
    {
     "data": {
      "application/vnd.jupyter.widget-view+json": {
       "model_id": "593ebb84ca734a849553c7a6374c66ca",
       "version_major": 2,
       "version_minor": 0
      },
      "text/plain": [
       "interactive(children=(FloatSlider(value=0.0, description='noise_level', max=0.5, step=0.05), Output()), _dom_c…"
      ]
     },
     "metadata": {},
     "output_type": "display_data"
    }
   ],
   "source": [
    "### CREATE LOGITIC REGRESSION WITH FOURIER TRANSFORM\n",
    "x_train,x_test,y_train,y_test=train_test_split(circles_df.loc[:,['x','y']],circles_df.label,test_size=0.3,random_state=42)\n",
    "\n",
    "power = (x_train.x**2+x_train.y**2).apply(math.sqrt)\n",
    "teta = np.arctan(x_train.y/x_train.x)\n",
    "x_transformed =(x_train.y/x_train.x).apply(math.cos)\n",
    "y_transformed =(x_train.y/x_train.x).apply(math.sin)\n",
    "x_train.x=power*x_transformed\n",
    "x_train.y=power*y_transformed\n",
    "\n",
    "\n",
    "### CREATE DATA FRAME FROM POWER AND TETA \n",
    "\n",
    "# df = pd.concat((power,teta),axis=1)\n",
    "# df=pd.DataFrame({\"power\":power,\"teta\":teta,\"label\":y_train})\n",
    "# px.scatter(data, x='power', y='teta')\n",
    "\n",
    "# df.head()\n",
    "@widgets.interact\n",
    "def plot_noisy_circles(noise_level = widgets.FloatSlider(value=0, min=0, max=0.5, step=0.05)):\n",
    "    logreg=LogisticRegression()\n",
    "    circles_df = make_circles_dataframe(1000, noise_level)\n",
    "    power = (circles_df.x**2+circles_df.y**2).apply(math.sqrt)\n",
    "    teta = np.arctan(circles_df.y/circles_df.x)\n",
    "    df=pd.DataFrame({\"power\":power,\"teta\":teta,\"label\":circles_df.label})\n",
    "    x_train,x_test,y_train,y_test=train_test_split(df.loc[:,['power','teta']],df.label,test_size=0.3,random_state=42)\n",
    "    df_train=pd.DataFrame({\"power\":x_train.power,\"teta\":x_train.teta,\"label\":y_train})\n",
    "    df_test=pd.DataFrame({\"power\":x_train.power,\"teta\":x_train.teta,\"label\":y_test})\n",
    "    \n",
    "    logreg.fit(df_train[['power','teta']],y_train)\n",
    "    predict=logreg.predict(x_test)\n",
    "    print(\"Accuracy score on training set is {}\".format(accuracy_score(logreg.predict(x_train),y_train)))\n",
    "    print(\"Accuracy score on test set is {}\".format(accuracy_score(predict,y_test)))\n",
    "    return px.scatter(df, x='power', y='teta', color = 'label')\n",
    "\n",
    "\n"
   ]
  },
  {
   "cell_type": "markdown",
   "id": "06b5259d-6606-4ccf-a812-8d5c52b1db8d",
   "metadata": {
    "tags": []
   },
   "source": [
    "### SVM TRY TO CREATE"
   ]
  },
  {
   "cell_type": "code",
   "execution_count": 16,
   "id": "ca267f47-d65d-4378-bee8-ded4cde348ba",
   "metadata": {
    "tags": []
   },
   "outputs": [
    {
     "data": {
      "text/html": [
       "<a href=\"https://towardsdatascience.com/svm-classifier-and-rbf-kernel-how-to-make-better-models-in-python-73bb4914af5b\"> SVM with RBF kernel</a>\n"
      ],
      "text/plain": [
       "<IPython.core.display.HTML object>"
      ]
     },
     "metadata": {},
     "output_type": "display_data"
    }
   ],
   "source": [
    "%%html\n",
    "<a href=\"https://towardsdatascience.com/svm-classifier-and-rbf-kernel-how-to-make-better-models-in-python-73bb4914af5b\"> SVM with RBF kernel</a>\n"
   ]
  },
  {
   "cell_type": "code",
   "execution_count": 17,
   "id": "9e030b14-cff9-4ab6-8906-4d381d908093",
   "metadata": {
    "tags": []
   },
   "outputs": [],
   "source": [
    "### IMPORT THE LIBRARIES FOR SVM CALCULATION\n",
    "from sklearn.model_selection import train_test_split # for splitting the data into train and test samples\n",
    "from sklearn.metrics import classification_report # for model evaluation metrics\n",
    "from sklearn.svm import SVC # for Support Vector Classification model\n",
    "\n",
    "import plotly.express as px  # for data visualization\n",
    "import plotly.graph_objects as go # for data visualization"
   ]
  },
  {
   "cell_type": "code",
   "execution_count": 18,
   "id": "6b28cab7-404a-4792-91f9-125612f99a44",
   "metadata": {
    "tags": []
   },
   "outputs": [],
   "source": [
    "def fittingSVM(X, y, C, gamma):\n",
    "    x_train,x_test,y_train,y_test=train_test_split(X, y,test_size=0.3,random_state=42)\n",
    "\n",
    "    # Fit the model\n",
    "    # Note, available kernels: {‘linear’, ‘poly’, ‘rbf’, ‘sigmoid’, ‘precomputed’}, default=’rbf’\n",
    "    model = SVC(kernel='rbf', probability=True, C=C, gamma=gamma)\n",
    "    clf = model.fit(x_train, y_train)\n",
    "    \n",
    "    # Predict class labels on training data\n",
    "    pred_labels_tr = model.predict(x_train)\n",
    "    # Predict class labels on a test data\n",
    "    pred_labels_te = model.predict(x_test)\n",
    "    \n",
    "    # Use score method to get accuracy of the model\n",
    "    print('----- Evaluation on Test Data -----')\n",
    "    score_te = model.score(x_test, y_test)\n",
    "    print('Accuracy Score: ', score_te)\n",
    "    # Look at classification report to evaluate the model\n",
    "    print(classification_report(y_test, pred_labels_te))\n",
    "    print('--------------------------------------------------------')\n",
    "\n",
    "    print('----- Evaluation on Training Data -----')\n",
    "    score_tr = model.score(x_train, y_train)\n",
    "    print('Accuracy Score: ', score_tr)\n",
    "    # Look at classification report to evaluate the model\n",
    "    print(classification_report(y_train, pred_labels_tr))\n",
    "    print('--------------------------------------------------------')\n",
    "    \n",
    "    # Return relevant data for chart plotting\n",
    "    return x_train, x_test, y_train, y_test, clf"
   ]
  },
  {
   "cell_type": "code",
   "execution_count": 19,
   "id": "b4a4e0de-6eee-45d0-9084-bb5964398866",
   "metadata": {
    "tags": []
   },
   "outputs": [],
   "source": [
    "def Plot_3D_SVM(X, X_test, y_test, clf):\n",
    "            \n",
    "    # Specify a size of the mesh to be used\n",
    "    mesh_size = 5\n",
    "    margin = 1\n",
    "\n",
    "    # Create a mesh grid on which we will run our model\n",
    "    x_min, x_max = X.iloc[:, 0].fillna(X.mean()).min() - margin, X.iloc[:, 0].fillna(X.mean()).max() + margin\n",
    "    y_min, y_max = X.iloc[:, 1].fillna(X.mean()).min() - margin, X.iloc[:, 1].fillna(X.mean()).max() + margin\n",
    "    xrange = np.arange(x_min, x_max, mesh_size)\n",
    "    yrange = np.arange(y_min, y_max, mesh_size)\n",
    "    xx, yy = np.meshgrid(xrange, yrange)\n",
    "            \n",
    "    # Calculate predictions on grid\n",
    "    Z = clf.predict_proba(np.c_[xx.ravel(), yy.ravel()])[:, 1]\n",
    "    Z = Z.reshape(xx.shape)\n",
    "\n",
    "    # Create a 3D scatter plot with predictions\n",
    "    fig = px.scatter_3d(x=X_test['x'], y=X_test['y'], z=y_test, \n",
    "                     opacity=0.8, color_discrete_sequence=['black'])\n",
    "\n",
    "    # Set figure title and colors\n",
    "    fig.update_layout(#title_text=\"Scatter 3D Plot with SVM Prediction Surface\",\n",
    "                      paper_bgcolor = 'white',\n",
    "                      scene = dict(xaxis=dict(backgroundcolor='white',\n",
    "                                              color='black',\n",
    "                                              gridcolor='#f0f0f0'),\n",
    "                                   yaxis=dict(backgroundcolor='white',\n",
    "                                              color='black',\n",
    "                                              gridcolor='#f0f0f0'\n",
    "                                              ),\n",
    "                                   zaxis=dict(backgroundcolor='lightgrey',\n",
    "                                              color='black', \n",
    "                                              gridcolor='#f0f0f0', \n",
    "                                              )))\n",
    "    # Update marker size\n",
    "    fig.update_traces(marker=dict(size=1))\n",
    "\n",
    "    # Add prediction plane\n",
    "    fig.add_traces(go.Surface(x=xrange, y=yrange, z=Z, name='SVM Prediction',\n",
    "                              colorscale='RdBu', showscale=False, \n",
    "                              contours = {\"z\": {\"show\": True, \"start\": 0.2, \"end\": 0.8, \"size\": 0.05}}))\n",
    "    fig.show()\n",
    "\n"
   ]
  },
  {
   "cell_type": "code",
   "execution_count": 20,
   "id": "b590f8aa-d2ba-46b7-baa1-639945b2e86d",
   "metadata": {
    "tags": []
   },
   "outputs": [
    {
     "name": "stdout",
     "output_type": "stream",
     "text": [
      "----- Evaluation on Test Data -----\n",
      "Accuracy Score:  1.0\n",
      "              precision    recall  f1-score   support\n",
      "\n",
      "           A       1.00      1.00      1.00        73\n",
      "           B       1.00      1.00      1.00        77\n",
      "\n",
      "    accuracy                           1.00       150\n",
      "   macro avg       1.00      1.00      1.00       150\n",
      "weighted avg       1.00      1.00      1.00       150\n",
      "\n",
      "--------------------------------------------------------\n",
      "----- Evaluation on Training Data -----\n",
      "Accuracy Score:  1.0\n",
      "              precision    recall  f1-score   support\n",
      "\n",
      "           A       1.00      1.00      1.00       177\n",
      "           B       1.00      1.00      1.00       173\n",
      "\n",
      "    accuracy                           1.00       350\n",
      "   macro avg       1.00      1.00      1.00       350\n",
      "weighted avg       1.00      1.00      1.00       350\n",
      "\n",
      "--------------------------------------------------------\n"
     ]
    }
   ],
   "source": [
    "# Fit the model and display results\n",
    "x_train, x_test, y_train, y_test, clf = fittingSVM(circles_df.loc[:,['x','y']], circles_df.label, 1, 'scale')"
   ]
  },
  {
   "cell_type": "code",
   "execution_count": 21,
   "id": "728aba11-f99a-4f82-8e91-945201ef4ca2",
   "metadata": {
    "tags": []
   },
   "outputs": [
    {
     "name": "stderr",
     "output_type": "stream",
     "text": [
      "/Users/sachar/opt/anaconda3/lib/python3.9/site-packages/sklearn/base.py:439: UserWarning:\n",
      "\n",
      "X does not have valid feature names, but SVC was fitted with feature names\n",
      "\n"
     ]
    },
    {
     "data": {
      "application/vnd.plotly.v1+json": {
       "config": {
        "plotlyServerURL": "https://plot.ly"
       },
       "data": [
        {
         "hovertemplate": "x=%{x}<br>y=%{y}<br>z=%{z}<extra></extra>",
         "legendgroup": "",
         "marker": {
          "color": "black",
          "opacity": 0.8,
          "size": 1,
          "symbol": "circle"
         },
         "mode": "markers",
         "name": "",
         "scene": "scene",
         "showlegend": false,
         "type": "scatter3d",
         "x": [
          0.9620276715860859,
          0.8090169943749475,
          -0.40290643571366275,
          0.4455004931905504,
          0.8639234171928352,
          -0.037690182669934576,
          0.4707039321653325,
          0.23649899702372473,
          -0.9971589002606139,
          0.21200710992205452,
          0.20867320503191777,
          -0.21200710992205485,
          0.8881364488135445,
          0.3941818732386331,
          -0.6753328081210244,
          0.41155162702520515,
          -0.6472135954999578,
          0.05023241562345098,
          -0.7939903986478354,
          0.9949510169813002,
          0.376563145732266,
          0.954864544746643,
          0.7105091590508357,
          -0.379779095521801,
          0.7624425110114479,
          -0.9101059706849958,
          0.9685831611286312,
          -0.22801540997598085,
          -0.42866143598319717,
          -0.7509870861230993,
          0.3406234332520581,
          0.9101059706849955,
          -0.18919919761897974,
          -0.4927273415482917,
          0.41155162702520515,
          0.23649899702372476,
          -0.2608415062898969,
          0.8090169943749473,
          0.7784623015670236,
          -0.5252686046023652,
          0.010052831906682025,
          0.6700224320337135,
          -0.9387338576538741,
          -0.7876514676233644,
          -0.9470983049947443,
          0.658826078102742,
          -0.850994481794692,
          0.40290643571366264,
          0.13779029068463816,
          -0.6700224320337134,
          -0.5775727034222677,
          -0.050232415623450724,
          -0.23649899702372423,
          -0.5692285417674281,
          0.6911387337542682,
          -0.7936917610515823,
          0.5549226446502441,
          -0.4483832160900321,
          -0.303823276417441,
          0.5402662464968195,
          -0.988651744737914,
          -0.9101059706849957,
          0.7289686274214116,
          -0.7796214982292619,
          -0.8763066800438636,
          -0.5358267949789964,
          0.5831749019371293,
          0.8763066800438636,
          -0.8881364488135446,
          0.5144395337815064,
          0.5775727034222673,
          0.6807955854357537,
          0.6178596130903344,
          -0.09028510789878536,
          -0.42866143598319706,
          -0.20867320503191752,
          0.7115356772092853,
          -0.14990505166857968,
          0.5252686046023655,
          0.6753328081210245,
          0.9387338576538741,
          -0.7509870861230993,
          0.7115356772092856,
          -0.7195242012530968,
          -0.6753328081210244,
          -0.030152146135947324,
          -0.16960568793764388,
          0.050232415623450634,
          -0.7959608135850402,
          0.3038232764174409,
          -0.7280847765479966,
          0.7509870861230994,
          0.42577929156507266,
          0.8509944817946918,
          0.7361854778926963,
          0.28512950297060063,
          0.24721359549995797,
          -0.34062343325205835,
          -0.7459411454241819,
          0.7936917610515823,
          -0.7977271202084912,
          -0.03015214613594766,
          0.9620276715860859,
          -0.9297764858882515,
          0.693653305812805,
          0.46205816273781386,
          -0.11023223254771014,
          0.13010973215590713,
          0.4927273415482913,
          -0.22801540997598085,
          -0.5549226446502441,
          0.08785119655074285,
          0.6227698412536189,
          -0.798989565284814,
          -0.3223251485709302,
          0.42866143598319734,
          0.5252686046023652,
          -0.5692285417674283,
          0.42866143598319734,
          0.556875616488188,
          0.3797790955218011,
          -0.7936917610515823,
          0.47832398644601515,
          0.8639234171928353,
          0.7909213957903313,
          0.06279051952931329,
          -0.7748665289029049,
          0.14990505166857962,
          0.012566039883352552,
          0.774866528902905,
          -0.47070393216533246,
          -0.11023223254771047,
          -0.6807955854357536,
          -0.5402662464968195,
          -0.9798550523842469,
          -0.9685831611286311,
          -0.3328195445229862,
          0.6565857557529565,
          -0.693653305812805,
          0.7959608135850402,
          0.63742398974869,
          0.954864544746643,
          -0.8090169943749472,
          0.7876514676233644,
          -0.4455004931905504,
          -0.8375280400421417,
          0.2850192624699766,
          -0.4927273415482914,
          0.11023223254771038,
          -0.7838840419073976
         ],
         "y": [
          -0.2729519355173251,
          0.5877852522924731,
          -0.9152411726209175,
          0.6644767193566502,
          -0.503623201635761,
          0.9992894726405892,
          0.8822912264349533,
          -0.971631732914674,
          0.0753268055279326,
          0.9772681235681935,
          -0.772305311066619,
          -0.9772681235681934,
          0.45957986062148787,
          -0.6961470037356207,
          0.7375131173581739,
          -0.6860213249549219,
          -0.47022820183397873,
          -0.7984213827426173,
          0.6079302976946053,
          -0.1003617148512151,
          0.7058329811479627,
          -0.29704158157703503,
          -0.36766388849719017,
          -0.925077206834458,
          -0.6470559615694442,
          0.41437558099328387,
          -0.2486898871648545,
          0.7668174312139008,
          0.6754623404016122,
          -0.2757143385396138,
          0.7238616419728157,
          -0.41437558099328436,
          0.7773053863317392,
          -0.8701837546695256,
          0.6860213249549219,
          0.971631732914674,
          0.9653816388332739,
          -0.5877852522924732,
          -0.6276913612907002,
          0.603401104588883,
          -0.7999368353630529,
          0.4371154773874153,
          -0.3446429231745172,
          -0.14001844718022088,
          -0.3209436098072095,
          -0.45381515930140526,
          0.5251746299612956,
          0.9152411726209175,
          -0.9904614256966512,
          0.4371154773874154,
          0.8163392507171838,
          0.7984213827426173,
          -0.9716317329146741,
          -0.5621199758390796,
          -0.40289856130860885,
          -0.10026658685144346,
          0.5762472199103255,
          0.8938414241512638,
          0.7400617654675665,
          -0.5900104938865393,
          0.15022558912075712,
          -0.4143755809932841,
          0.6845471059286887,
          0.17941660875950483,
          0.4817536741017152,
          0.8443279255020152,
          0.547637684742951,
          0.4817536741017153,
          -0.4595798606214878,
          0.8575266561936523,
          -0.8163392507171842,
          -0.4201397039690363,
          -0.7862884321366188,
          0.7948890484160067,
          -0.6754623404016122,
          0.7723053110666191,
          0.7026499697988492,
          0.785829800582951,
          -0.6034011045888829,
          0.7375131173581739,
          0.34464292317451706,
          0.27571433853961363,
          -0.702649969798849,
          -0.34969261332074647,
          -0.737513117358174,
          -0.7994315781124715,
          -0.7818144988545548,
          0.7984213827426173,
          0.08028937188097199,
          0.7400617654675665,
          0.33150046479462714,
          -0.2757143385396134,
          -0.9048270524660196,
          0.5251746299612957,
          -0.31309893346976203,
          0.7474631539652896,
          0.7608452130361228,
          -0.7238616419728156,
          -0.6660118674342518,
          -0.10026658685144303,
          0.06026144442234608,
          0.7994315781124715,
          0.2729519355173252,
          0.3681245526846777,
          -0.7203090248879068,
          -0.6530714005737474,
          -0.7923691405573211,
          -0.7893487553662945,
          -0.8701837546695258,
          -0.7668174312139008,
          -0.5762472199103255,
          -0.9961336091431725,
          -0.5021530890325602,
          -0.04019545454381553,
          0.732192938096734,
          0.6754623404016121,
          0.6034011045888831,
          0.5621199758390794,
          -0.675462340401612,
          0.8305958991958127,
          0.925077206834458,
          0.10026658685144328,
          0.6412535878967013,
          0.5036232016357608,
          0.12018047129660565,
          0.9980267284282716,
          -0.19895190973188404,
          0.785829800582951,
          0.9999210442038161,
          -0.1989519097318836,
          -0.8822912264349534,
          0.792369140557321,
          0.4201397039690365,
          0.5900104938865391,
          0.19970998051440705,
          -0.24868988716485502,
          -0.9429905358928646,
          0.7542513807361038,
          0.7203090248879068,
          0.08028937188097192,
          -0.770513242775789,
          0.2970415815770349,
          -0.5877852522924734,
          0.14001844718022086,
          0.6644767193566502,
          0.5463943467342692,
          -0.9585217890173757,
          0.8701837546695258,
          0.792369140557321,
          -0.15976798441152584
         ],
         "z": [
          "A",
          "A",
          "A",
          "B",
          "A",
          "A",
          "A",
          "A",
          "A",
          "A",
          "B",
          "A",
          "A",
          "B",
          "A",
          "B",
          "B",
          "B",
          "A",
          "A",
          "B",
          "A",
          "B",
          "A",
          "A",
          "A",
          "A",
          "B",
          "B",
          "B",
          "B",
          "A",
          "B",
          "A",
          "B",
          "A",
          "A",
          "A",
          "A",
          "B",
          "B",
          "B",
          "A",
          "B",
          "A",
          "B",
          "A",
          "A",
          "A",
          "B",
          "A",
          "B",
          "A",
          "B",
          "B",
          "B",
          "B",
          "A",
          "B",
          "B",
          "A",
          "A",
          "A",
          "B",
          "A",
          "A",
          "B",
          "A",
          "A",
          "A",
          "A",
          "B",
          "A",
          "B",
          "B",
          "B",
          "A",
          "B",
          "B",
          "A",
          "A",
          "B",
          "A",
          "B",
          "A",
          "B",
          "B",
          "B",
          "B",
          "B",
          "B",
          "B",
          "A",
          "A",
          "B",
          "B",
          "B",
          "B",
          "A",
          "B",
          "B",
          "B",
          "A",
          "A",
          "A",
          "B",
          "B",
          "B",
          "A",
          "B",
          "B",
          "A",
          "B",
          "B",
          "B",
          "B",
          "B",
          "B",
          "B",
          "A",
          "A",
          "B",
          "B",
          "A",
          "B",
          "A",
          "B",
          "B",
          "A",
          "B",
          "A",
          "B",
          "B",
          "B",
          "A",
          "A",
          "A",
          "A",
          "A",
          "B",
          "A",
          "A",
          "A",
          "B",
          "B",
          "A",
          "A",
          "A",
          "B",
          "B"
         ]
        },
        {
         "colorscale": [
          [
           0,
           "rgb(103,0,31)"
          ],
          [
           0.1,
           "rgb(178,24,43)"
          ],
          [
           0.2,
           "rgb(214,96,77)"
          ],
          [
           0.3,
           "rgb(244,165,130)"
          ],
          [
           0.4,
           "rgb(253,219,199)"
          ],
          [
           0.5,
           "rgb(247,247,247)"
          ],
          [
           0.6,
           "rgb(209,229,240)"
          ],
          [
           0.7,
           "rgb(146,197,222)"
          ],
          [
           0.8,
           "rgb(67,147,195)"
          ],
          [
           0.9,
           "rgb(33,102,172)"
          ],
          [
           1,
           "rgb(5,48,97)"
          ]
         ],
         "contours": {
          "z": {
           "end": 0.8,
           "show": true,
           "size": 0.05,
           "start": 0.2
          }
         },
         "name": "SVM Prediction",
         "showscale": false,
         "type": "surface",
         "x": [
          -2
         ],
         "y": [
          -1.9999210442038162
         ],
         "z": [
          [
           3.511586512638287e-06
          ]
         ]
        }
       ],
       "layout": {
        "autosize": true,
        "legend": {
         "tracegroupgap": 0
        },
        "margin": {
         "t": 60
        },
        "paper_bgcolor": "white",
        "scene": {
         "aspectmode": "auto",
         "aspectratio": {
          "x": 0.9991844459537694,
          "y": 1.0008162197175239,
          "z": 1
         },
         "domain": {
          "x": [
           0,
           1
          ],
          "y": [
           0,
           1
          ]
         },
         "xaxis": {
          "backgroundcolor": "white",
          "color": "black",
          "gridcolor": "#f0f0f0",
          "title": {
           "text": "x"
          },
          "type": "linear"
         },
         "yaxis": {
          "backgroundcolor": "white",
          "color": "black",
          "gridcolor": "#f0f0f0",
          "title": {
           "text": "y"
          },
          "type": "linear"
         },
         "zaxis": {
          "backgroundcolor": "lightgrey",
          "color": "black",
          "gridcolor": "#f0f0f0",
          "title": {
           "text": "z"
          },
          "type": "category"
         }
        },
        "template": {
         "data": {
          "bar": [
           {
            "error_x": {
             "color": "#2a3f5f"
            },
            "error_y": {
             "color": "#2a3f5f"
            },
            "marker": {
             "line": {
              "color": "#E5ECF6",
              "width": 0.5
             },
             "pattern": {
              "fillmode": "overlay",
              "size": 10,
              "solidity": 0.2
             }
            },
            "type": "bar"
           }
          ],
          "barpolar": [
           {
            "marker": {
             "line": {
              "color": "#E5ECF6",
              "width": 0.5
             },
             "pattern": {
              "fillmode": "overlay",
              "size": 10,
              "solidity": 0.2
             }
            },
            "type": "barpolar"
           }
          ],
          "carpet": [
           {
            "aaxis": {
             "endlinecolor": "#2a3f5f",
             "gridcolor": "white",
             "linecolor": "white",
             "minorgridcolor": "white",
             "startlinecolor": "#2a3f5f"
            },
            "baxis": {
             "endlinecolor": "#2a3f5f",
             "gridcolor": "white",
             "linecolor": "white",
             "minorgridcolor": "white",
             "startlinecolor": "#2a3f5f"
            },
            "type": "carpet"
           }
          ],
          "choropleth": [
           {
            "colorbar": {
             "outlinewidth": 0,
             "ticks": ""
            },
            "type": "choropleth"
           }
          ],
          "contour": [
           {
            "colorbar": {
             "outlinewidth": 0,
             "ticks": ""
            },
            "colorscale": [
             [
              0,
              "#0d0887"
             ],
             [
              0.1111111111111111,
              "#46039f"
             ],
             [
              0.2222222222222222,
              "#7201a8"
             ],
             [
              0.3333333333333333,
              "#9c179e"
             ],
             [
              0.4444444444444444,
              "#bd3786"
             ],
             [
              0.5555555555555556,
              "#d8576b"
             ],
             [
              0.6666666666666666,
              "#ed7953"
             ],
             [
              0.7777777777777778,
              "#fb9f3a"
             ],
             [
              0.8888888888888888,
              "#fdca26"
             ],
             [
              1,
              "#f0f921"
             ]
            ],
            "type": "contour"
           }
          ],
          "contourcarpet": [
           {
            "colorbar": {
             "outlinewidth": 0,
             "ticks": ""
            },
            "type": "contourcarpet"
           }
          ],
          "heatmap": [
           {
            "colorbar": {
             "outlinewidth": 0,
             "ticks": ""
            },
            "colorscale": [
             [
              0,
              "#0d0887"
             ],
             [
              0.1111111111111111,
              "#46039f"
             ],
             [
              0.2222222222222222,
              "#7201a8"
             ],
             [
              0.3333333333333333,
              "#9c179e"
             ],
             [
              0.4444444444444444,
              "#bd3786"
             ],
             [
              0.5555555555555556,
              "#d8576b"
             ],
             [
              0.6666666666666666,
              "#ed7953"
             ],
             [
              0.7777777777777778,
              "#fb9f3a"
             ],
             [
              0.8888888888888888,
              "#fdca26"
             ],
             [
              1,
              "#f0f921"
             ]
            ],
            "type": "heatmap"
           }
          ],
          "heatmapgl": [
           {
            "colorbar": {
             "outlinewidth": 0,
             "ticks": ""
            },
            "colorscale": [
             [
              0,
              "#0d0887"
             ],
             [
              0.1111111111111111,
              "#46039f"
             ],
             [
              0.2222222222222222,
              "#7201a8"
             ],
             [
              0.3333333333333333,
              "#9c179e"
             ],
             [
              0.4444444444444444,
              "#bd3786"
             ],
             [
              0.5555555555555556,
              "#d8576b"
             ],
             [
              0.6666666666666666,
              "#ed7953"
             ],
             [
              0.7777777777777778,
              "#fb9f3a"
             ],
             [
              0.8888888888888888,
              "#fdca26"
             ],
             [
              1,
              "#f0f921"
             ]
            ],
            "type": "heatmapgl"
           }
          ],
          "histogram": [
           {
            "marker": {
             "pattern": {
              "fillmode": "overlay",
              "size": 10,
              "solidity": 0.2
             }
            },
            "type": "histogram"
           }
          ],
          "histogram2d": [
           {
            "colorbar": {
             "outlinewidth": 0,
             "ticks": ""
            },
            "colorscale": [
             [
              0,
              "#0d0887"
             ],
             [
              0.1111111111111111,
              "#46039f"
             ],
             [
              0.2222222222222222,
              "#7201a8"
             ],
             [
              0.3333333333333333,
              "#9c179e"
             ],
             [
              0.4444444444444444,
              "#bd3786"
             ],
             [
              0.5555555555555556,
              "#d8576b"
             ],
             [
              0.6666666666666666,
              "#ed7953"
             ],
             [
              0.7777777777777778,
              "#fb9f3a"
             ],
             [
              0.8888888888888888,
              "#fdca26"
             ],
             [
              1,
              "#f0f921"
             ]
            ],
            "type": "histogram2d"
           }
          ],
          "histogram2dcontour": [
           {
            "colorbar": {
             "outlinewidth": 0,
             "ticks": ""
            },
            "colorscale": [
             [
              0,
              "#0d0887"
             ],
             [
              0.1111111111111111,
              "#46039f"
             ],
             [
              0.2222222222222222,
              "#7201a8"
             ],
             [
              0.3333333333333333,
              "#9c179e"
             ],
             [
              0.4444444444444444,
              "#bd3786"
             ],
             [
              0.5555555555555556,
              "#d8576b"
             ],
             [
              0.6666666666666666,
              "#ed7953"
             ],
             [
              0.7777777777777778,
              "#fb9f3a"
             ],
             [
              0.8888888888888888,
              "#fdca26"
             ],
             [
              1,
              "#f0f921"
             ]
            ],
            "type": "histogram2dcontour"
           }
          ],
          "mesh3d": [
           {
            "colorbar": {
             "outlinewidth": 0,
             "ticks": ""
            },
            "type": "mesh3d"
           }
          ],
          "parcoords": [
           {
            "line": {
             "colorbar": {
              "outlinewidth": 0,
              "ticks": ""
             }
            },
            "type": "parcoords"
           }
          ],
          "pie": [
           {
            "automargin": true,
            "type": "pie"
           }
          ],
          "scatter": [
           {
            "fillpattern": {
             "fillmode": "overlay",
             "size": 10,
             "solidity": 0.2
            },
            "type": "scatter"
           }
          ],
          "scatter3d": [
           {
            "line": {
             "colorbar": {
              "outlinewidth": 0,
              "ticks": ""
             }
            },
            "marker": {
             "colorbar": {
              "outlinewidth": 0,
              "ticks": ""
             }
            },
            "type": "scatter3d"
           }
          ],
          "scattercarpet": [
           {
            "marker": {
             "colorbar": {
              "outlinewidth": 0,
              "ticks": ""
             }
            },
            "type": "scattercarpet"
           }
          ],
          "scattergeo": [
           {
            "marker": {
             "colorbar": {
              "outlinewidth": 0,
              "ticks": ""
             }
            },
            "type": "scattergeo"
           }
          ],
          "scattergl": [
           {
            "marker": {
             "colorbar": {
              "outlinewidth": 0,
              "ticks": ""
             }
            },
            "type": "scattergl"
           }
          ],
          "scattermapbox": [
           {
            "marker": {
             "colorbar": {
              "outlinewidth": 0,
              "ticks": ""
             }
            },
            "type": "scattermapbox"
           }
          ],
          "scatterpolar": [
           {
            "marker": {
             "colorbar": {
              "outlinewidth": 0,
              "ticks": ""
             }
            },
            "type": "scatterpolar"
           }
          ],
          "scatterpolargl": [
           {
            "marker": {
             "colorbar": {
              "outlinewidth": 0,
              "ticks": ""
             }
            },
            "type": "scatterpolargl"
           }
          ],
          "scatterternary": [
           {
            "marker": {
             "colorbar": {
              "outlinewidth": 0,
              "ticks": ""
             }
            },
            "type": "scatterternary"
           }
          ],
          "surface": [
           {
            "colorbar": {
             "outlinewidth": 0,
             "ticks": ""
            },
            "colorscale": [
             [
              0,
              "#0d0887"
             ],
             [
              0.1111111111111111,
              "#46039f"
             ],
             [
              0.2222222222222222,
              "#7201a8"
             ],
             [
              0.3333333333333333,
              "#9c179e"
             ],
             [
              0.4444444444444444,
              "#bd3786"
             ],
             [
              0.5555555555555556,
              "#d8576b"
             ],
             [
              0.6666666666666666,
              "#ed7953"
             ],
             [
              0.7777777777777778,
              "#fb9f3a"
             ],
             [
              0.8888888888888888,
              "#fdca26"
             ],
             [
              1,
              "#f0f921"
             ]
            ],
            "type": "surface"
           }
          ],
          "table": [
           {
            "cells": {
             "fill": {
              "color": "#EBF0F8"
             },
             "line": {
              "color": "white"
             }
            },
            "header": {
             "fill": {
              "color": "#C8D4E3"
             },
             "line": {
              "color": "white"
             }
            },
            "type": "table"
           }
          ]
         },
         "layout": {
          "annotationdefaults": {
           "arrowcolor": "#2a3f5f",
           "arrowhead": 0,
           "arrowwidth": 1
          },
          "autotypenumbers": "strict",
          "coloraxis": {
           "colorbar": {
            "outlinewidth": 0,
            "ticks": ""
           }
          },
          "colorscale": {
           "diverging": [
            [
             0,
             "#8e0152"
            ],
            [
             0.1,
             "#c51b7d"
            ],
            [
             0.2,
             "#de77ae"
            ],
            [
             0.3,
             "#f1b6da"
            ],
            [
             0.4,
             "#fde0ef"
            ],
            [
             0.5,
             "#f7f7f7"
            ],
            [
             0.6,
             "#e6f5d0"
            ],
            [
             0.7,
             "#b8e186"
            ],
            [
             0.8,
             "#7fbc41"
            ],
            [
             0.9,
             "#4d9221"
            ],
            [
             1,
             "#276419"
            ]
           ],
           "sequential": [
            [
             0,
             "#0d0887"
            ],
            [
             0.1111111111111111,
             "#46039f"
            ],
            [
             0.2222222222222222,
             "#7201a8"
            ],
            [
             0.3333333333333333,
             "#9c179e"
            ],
            [
             0.4444444444444444,
             "#bd3786"
            ],
            [
             0.5555555555555556,
             "#d8576b"
            ],
            [
             0.6666666666666666,
             "#ed7953"
            ],
            [
             0.7777777777777778,
             "#fb9f3a"
            ],
            [
             0.8888888888888888,
             "#fdca26"
            ],
            [
             1,
             "#f0f921"
            ]
           ],
           "sequentialminus": [
            [
             0,
             "#0d0887"
            ],
            [
             0.1111111111111111,
             "#46039f"
            ],
            [
             0.2222222222222222,
             "#7201a8"
            ],
            [
             0.3333333333333333,
             "#9c179e"
            ],
            [
             0.4444444444444444,
             "#bd3786"
            ],
            [
             0.5555555555555556,
             "#d8576b"
            ],
            [
             0.6666666666666666,
             "#ed7953"
            ],
            [
             0.7777777777777778,
             "#fb9f3a"
            ],
            [
             0.8888888888888888,
             "#fdca26"
            ],
            [
             1,
             "#f0f921"
            ]
           ]
          },
          "colorway": [
           "#636efa",
           "#EF553B",
           "#00cc96",
           "#ab63fa",
           "#FFA15A",
           "#19d3f3",
           "#FF6692",
           "#B6E880",
           "#FF97FF",
           "#FECB52"
          ],
          "font": {
           "color": "#2a3f5f"
          },
          "geo": {
           "bgcolor": "white",
           "lakecolor": "white",
           "landcolor": "#E5ECF6",
           "showlakes": true,
           "showland": true,
           "subunitcolor": "white"
          },
          "hoverlabel": {
           "align": "left"
          },
          "hovermode": "closest",
          "mapbox": {
           "style": "light"
          },
          "paper_bgcolor": "white",
          "plot_bgcolor": "#E5ECF6",
          "polar": {
           "angularaxis": {
            "gridcolor": "white",
            "linecolor": "white",
            "ticks": ""
           },
           "bgcolor": "#E5ECF6",
           "radialaxis": {
            "gridcolor": "white",
            "linecolor": "white",
            "ticks": ""
           }
          },
          "scene": {
           "xaxis": {
            "backgroundcolor": "#E5ECF6",
            "gridcolor": "white",
            "gridwidth": 2,
            "linecolor": "white",
            "showbackground": true,
            "ticks": "",
            "zerolinecolor": "white"
           },
           "yaxis": {
            "backgroundcolor": "#E5ECF6",
            "gridcolor": "white",
            "gridwidth": 2,
            "linecolor": "white",
            "showbackground": true,
            "ticks": "",
            "zerolinecolor": "white"
           },
           "zaxis": {
            "backgroundcolor": "#E5ECF6",
            "gridcolor": "white",
            "gridwidth": 2,
            "linecolor": "white",
            "showbackground": true,
            "ticks": "",
            "zerolinecolor": "white"
           }
          },
          "shapedefaults": {
           "line": {
            "color": "#2a3f5f"
           }
          },
          "ternary": {
           "aaxis": {
            "gridcolor": "white",
            "linecolor": "white",
            "ticks": ""
           },
           "baxis": {
            "gridcolor": "white",
            "linecolor": "white",
            "ticks": ""
           },
           "bgcolor": "#E5ECF6",
           "caxis": {
            "gridcolor": "white",
            "linecolor": "white",
            "ticks": ""
           }
          },
          "title": {
           "x": 0.05
          },
          "xaxis": {
           "automargin": true,
           "gridcolor": "white",
           "linecolor": "white",
           "ticks": "",
           "title": {
            "standoff": 15
           },
           "zerolinecolor": "white",
           "zerolinewidth": 2
          },
          "yaxis": {
           "automargin": true,
           "gridcolor": "white",
           "linecolor": "white",
           "ticks": "",
           "title": {
            "standoff": 15
           },
           "zerolinecolor": "white",
           "zerolinewidth": 2
          }
         }
        }
       }
      },
      "image/png": "[encoded data removed]",
      "text/html": [
       "<div>                            <div id=\"be1f4682-fa48-4340-9394-f0918e0a6e26\" class=\"plotly-graph-div\" style=\"height:525px; width:100%;\"></div>            <script type=\"text/javascript\">                require([\"plotly\"], function(Plotly) {                    window.PLOTLYENV=window.PLOTLYENV || {};                                    if (document.getElementById(\"be1f4682-fa48-4340-9394-f0918e0a6e26\")) {                    Plotly.newPlot(                        \"be1f4682-fa48-4340-9394-f0918e0a6e26\",                        [{\"hovertemplate\":\"x=%{x}<br>y=%{y}<br>z=%{z}<extra></extra>\",\"legendgroup\":\"\",\"marker\":{\"color\":\"black\",\"opacity\":0.8,\"symbol\":\"circle\",\"size\":1},\"mode\":\"markers\",\"name\":\"\",\"scene\":\"scene\",\"showlegend\":false,\"x\":[0.9620276715860859,0.8090169943749475,-0.40290643571366275,0.4455004931905504,0.8639234171928352,-0.037690182669934576,0.4707039321653325,0.23649899702372473,-0.9971589002606139,0.21200710992205452,0.20867320503191777,-0.21200710992205485,0.8881364488135445,0.3941818732386331,-0.6753328081210244,0.41155162702520515,-0.6472135954999578,0.05023241562345098,-0.7939903986478354,0.9949510169813002,0.376563145732266,0.954864544746643,0.7105091590508357,-0.379779095521801,0.7624425110114479,-0.9101059706849958,0.9685831611286312,-0.22801540997598085,-0.42866143598319717,-0.7509870861230993,0.3406234332520581,0.9101059706849955,-0.18919919761897974,-0.4927273415482917,0.41155162702520515,0.23649899702372476,-0.2608415062898969,0.8090169943749473,0.7784623015670236,-0.5252686046023652,0.010052831906682025,0.6700224320337135,-0.9387338576538741,-0.7876514676233644,-0.9470983049947443,0.658826078102742,-0.850994481794692,0.40290643571366264,0.13779029068463816,-0.6700224320337134,-0.5775727034222677,-0.050232415623450724,-0.23649899702372423,-0.5692285417674281,0.6911387337542682,-0.7936917610515823,0.5549226446502441,-0.4483832160900321,-0.303823276417441,0.5402662464968195,-0.988651744737914,-0.9101059706849957,0.7289686274214116,-0.7796214982292619,-0.8763066800438636,-0.5358267949789964,0.5831749019371293,0.8763066800438636,-0.8881364488135446,0.5144395337815064,0.5775727034222673,0.6807955854357537,0.6178596130903344,-0.09028510789878536,-0.42866143598319706,-0.20867320503191752,0.7115356772092853,-0.14990505166857968,0.5252686046023655,0.6753328081210245,0.9387338576538741,-0.7509870861230993,0.7115356772092856,-0.7195242012530968,-0.6753328081210244,-0.030152146135947324,-0.16960568793764388,0.050232415623450634,-0.7959608135850402,0.3038232764174409,-0.7280847765479966,0.7509870861230994,0.42577929156507266,0.8509944817946918,0.7361854778926963,0.28512950297060063,0.24721359549995797,-0.34062343325205835,-0.7459411454241819,0.7936917610515823,-0.7977271202084912,-0.03015214613594766,0.9620276715860859,-0.9297764858882515,0.693653305812805,0.46205816273781386,-0.11023223254771014,0.13010973215590713,0.4927273415482913,-0.22801540997598085,-0.5549226446502441,0.08785119655074285,0.6227698412536189,-0.798989565284814,-0.3223251485709302,0.42866143598319734,0.5252686046023652,-0.5692285417674283,0.42866143598319734,0.556875616488188,0.3797790955218011,-0.7936917610515823,0.47832398644601515,0.8639234171928353,0.7909213957903313,0.06279051952931329,-0.7748665289029049,0.14990505166857962,0.012566039883352552,0.774866528902905,-0.47070393216533246,-0.11023223254771047,-0.6807955854357536,-0.5402662464968195,-0.9798550523842469,-0.9685831611286311,-0.3328195445229862,0.6565857557529565,-0.693653305812805,0.7959608135850402,0.63742398974869,0.954864544746643,-0.8090169943749472,0.7876514676233644,-0.4455004931905504,-0.8375280400421417,0.2850192624699766,-0.4927273415482914,0.11023223254771038,-0.7838840419073976],\"y\":[-0.2729519355173251,0.5877852522924731,-0.9152411726209175,0.6644767193566502,-0.503623201635761,0.9992894726405892,0.8822912264349533,-0.971631732914674,0.0753268055279326,0.9772681235681935,-0.772305311066619,-0.9772681235681934,0.45957986062148787,-0.6961470037356207,0.7375131173581739,-0.6860213249549219,-0.47022820183397873,-0.7984213827426173,0.6079302976946053,-0.1003617148512151,0.7058329811479627,-0.29704158157703503,-0.36766388849719017,-0.925077206834458,-0.6470559615694442,0.41437558099328387,-0.2486898871648545,0.7668174312139008,0.6754623404016122,-0.2757143385396138,0.7238616419728157,-0.41437558099328436,0.7773053863317392,-0.8701837546695256,0.6860213249549219,0.971631732914674,0.9653816388332739,-0.5877852522924732,-0.6276913612907002,0.603401104588883,-0.7999368353630529,0.4371154773874153,-0.3446429231745172,-0.14001844718022088,-0.3209436098072095,-0.45381515930140526,0.5251746299612956,0.9152411726209175,-0.9904614256966512,0.4371154773874154,0.8163392507171838,0.7984213827426173,-0.9716317329146741,-0.5621199758390796,-0.40289856130860885,-0.10026658685144346,0.5762472199103255,0.8938414241512638,0.7400617654675665,-0.5900104938865393,0.15022558912075712,-0.4143755809932841,0.6845471059286887,0.17941660875950483,0.4817536741017152,0.8443279255020152,0.547637684742951,0.4817536741017153,-0.4595798606214878,0.8575266561936523,-0.8163392507171842,-0.4201397039690363,-0.7862884321366188,0.7948890484160067,-0.6754623404016122,0.7723053110666191,0.7026499697988492,0.785829800582951,-0.6034011045888829,0.7375131173581739,0.34464292317451706,0.27571433853961363,-0.702649969798849,-0.34969261332074647,-0.737513117358174,-0.7994315781124715,-0.7818144988545548,0.7984213827426173,0.08028937188097199,0.7400617654675665,0.33150046479462714,-0.2757143385396134,-0.9048270524660196,0.5251746299612957,-0.31309893346976203,0.7474631539652896,0.7608452130361228,-0.7238616419728156,-0.6660118674342518,-0.10026658685144303,0.06026144442234608,0.7994315781124715,0.2729519355173252,0.3681245526846777,-0.7203090248879068,-0.6530714005737474,-0.7923691405573211,-0.7893487553662945,-0.8701837546695258,-0.7668174312139008,-0.5762472199103255,-0.9961336091431725,-0.5021530890325602,-0.04019545454381553,0.732192938096734,0.6754623404016121,0.6034011045888831,0.5621199758390794,-0.675462340401612,0.8305958991958127,0.925077206834458,0.10026658685144328,0.6412535878967013,0.5036232016357608,0.12018047129660565,0.9980267284282716,-0.19895190973188404,0.785829800582951,0.9999210442038161,-0.1989519097318836,-0.8822912264349534,0.792369140557321,0.4201397039690365,0.5900104938865391,0.19970998051440705,-0.24868988716485502,-0.9429905358928646,0.7542513807361038,0.7203090248879068,0.08028937188097192,-0.770513242775789,0.2970415815770349,-0.5877852522924734,0.14001844718022086,0.6644767193566502,0.5463943467342692,-0.9585217890173757,0.8701837546695258,0.792369140557321,-0.15976798441152584],\"z\":[\"A\",\"A\",\"A\",\"B\",\"A\",\"A\",\"A\",\"A\",\"A\",\"A\",\"B\",\"A\",\"A\",\"B\",\"A\",\"B\",\"B\",\"B\",\"A\",\"A\",\"B\",\"A\",\"B\",\"A\",\"A\",\"A\",\"A\",\"B\",\"B\",\"B\",\"B\",\"A\",\"B\",\"A\",\"B\",\"A\",\"A\",\"A\",\"A\",\"B\",\"B\",\"B\",\"A\",\"B\",\"A\",\"B\",\"A\",\"A\",\"A\",\"B\",\"A\",\"B\",\"A\",\"B\",\"B\",\"B\",\"B\",\"A\",\"B\",\"B\",\"A\",\"A\",\"A\",\"B\",\"A\",\"A\",\"B\",\"A\",\"A\",\"A\",\"A\",\"B\",\"A\",\"B\",\"B\",\"B\",\"A\",\"B\",\"B\",\"A\",\"A\",\"B\",\"A\",\"B\",\"A\",\"B\",\"B\",\"B\",\"B\",\"B\",\"B\",\"B\",\"A\",\"A\",\"B\",\"B\",\"B\",\"B\",\"A\",\"B\",\"B\",\"B\",\"A\",\"A\",\"A\",\"B\",\"B\",\"B\",\"A\",\"B\",\"B\",\"A\",\"B\",\"B\",\"B\",\"B\",\"B\",\"B\",\"B\",\"A\",\"A\",\"B\",\"B\",\"A\",\"B\",\"A\",\"B\",\"B\",\"A\",\"B\",\"A\",\"B\",\"B\",\"B\",\"A\",\"A\",\"A\",\"A\",\"A\",\"B\",\"A\",\"A\",\"A\",\"B\",\"B\",\"A\",\"A\",\"A\",\"B\",\"B\"],\"type\":\"scatter3d\"},{\"colorscale\":[[0.0,\"rgb(103,0,31)\"],[0.1,\"rgb(178,24,43)\"],[0.2,\"rgb(214,96,77)\"],[0.3,\"rgb(244,165,130)\"],[0.4,\"rgb(253,219,199)\"],[0.5,\"rgb(247,247,247)\"],[0.6,\"rgb(209,229,240)\"],[0.7,\"rgb(146,197,222)\"],[0.8,\"rgb(67,147,195)\"],[0.9,\"rgb(33,102,172)\"],[1.0,\"rgb(5,48,97)\"]],\"contours\":{\"z\":{\"end\":0.8,\"show\":true,\"size\":0.05,\"start\":0.2}},\"name\":\"SVM Prediction\",\"showscale\":false,\"x\":[-2.0],\"y\":[-1.9999210442038162],\"z\":[[3.511586512638287e-06]],\"type\":\"surface\"}],                        {\"template\":{\"data\":{\"histogram2dcontour\":[{\"type\":\"histogram2dcontour\",\"colorbar\":{\"outlinewidth\":0,\"ticks\":\"\"},\"colorscale\":[[0.0,\"#0d0887\"],[0.1111111111111111,\"#46039f\"],[0.2222222222222222,\"#7201a8\"],[0.3333333333333333,\"#9c179e\"],[0.4444444444444444,\"#bd3786\"],[0.5555555555555556,\"#d8576b\"],[0.6666666666666666,\"#ed7953\"],[0.7777777777777778,\"#fb9f3a\"],[0.8888888888888888,\"#fdca26\"],[1.0,\"#f0f921\"]]}],\"choropleth\":[{\"type\":\"choropleth\",\"colorbar\":{\"outlinewidth\":0,\"ticks\":\"\"}}],\"histogram2d\":[{\"type\":\"histogram2d\",\"colorbar\":{\"outlinewidth\":0,\"ticks\":\"\"},\"colorscale\":[[0.0,\"#0d0887\"],[0.1111111111111111,\"#46039f\"],[0.2222222222222222,\"#7201a8\"],[0.3333333333333333,\"#9c179e\"],[0.4444444444444444,\"#bd3786\"],[0.5555555555555556,\"#d8576b\"],[0.6666666666666666,\"#ed7953\"],[0.7777777777777778,\"#fb9f3a\"],[0.8888888888888888,\"#fdca26\"],[1.0,\"#f0f921\"]]}],\"heatmap\":[{\"type\":\"heatmap\",\"colorbar\":{\"outlinewidth\":0,\"ticks\":\"\"},\"colorscale\":[[0.0,\"#0d0887\"],[0.1111111111111111,\"#46039f\"],[0.2222222222222222,\"#7201a8\"],[0.3333333333333333,\"#9c179e\"],[0.4444444444444444,\"#bd3786\"],[0.5555555555555556,\"#d8576b\"],[0.6666666666666666,\"#ed7953\"],[0.7777777777777778,\"#fb9f3a\"],[0.8888888888888888,\"#fdca26\"],[1.0,\"#f0f921\"]]}],\"heatmapgl\":[{\"type\":\"heatmapgl\",\"colorbar\":{\"outlinewidth\":0,\"ticks\":\"\"},\"colorscale\":[[0.0,\"#0d0887\"],[0.1111111111111111,\"#46039f\"],[0.2222222222222222,\"#7201a8\"],[0.3333333333333333,\"#9c179e\"],[0.4444444444444444,\"#bd3786\"],[0.5555555555555556,\"#d8576b\"],[0.6666666666666666,\"#ed7953\"],[0.7777777777777778,\"#fb9f3a\"],[0.8888888888888888,\"#fdca26\"],[1.0,\"#f0f921\"]]}],\"contourcarpet\":[{\"type\":\"contourcarpet\",\"colorbar\":{\"outlinewidth\":0,\"ticks\":\"\"}}],\"contour\":[{\"type\":\"contour\",\"colorbar\":{\"outlinewidth\":0,\"ticks\":\"\"},\"colorscale\":[[0.0,\"#0d0887\"],[0.1111111111111111,\"#46039f\"],[0.2222222222222222,\"#7201a8\"],[0.3333333333333333,\"#9c179e\"],[0.4444444444444444,\"#bd3786\"],[0.5555555555555556,\"#d8576b\"],[0.6666666666666666,\"#ed7953\"],[0.7777777777777778,\"#fb9f3a\"],[0.8888888888888888,\"#fdca26\"],[1.0,\"#f0f921\"]]}],\"surface\":[{\"type\":\"surface\",\"colorbar\":{\"outlinewidth\":0,\"ticks\":\"\"},\"colorscale\":[[0.0,\"#0d0887\"],[0.1111111111111111,\"#46039f\"],[0.2222222222222222,\"#7201a8\"],[0.3333333333333333,\"#9c179e\"],[0.4444444444444444,\"#bd3786\"],[0.5555555555555556,\"#d8576b\"],[0.6666666666666666,\"#ed7953\"],[0.7777777777777778,\"#fb9f3a\"],[0.8888888888888888,\"#fdca26\"],[1.0,\"#f0f921\"]]}],\"mesh3d\":[{\"type\":\"mesh3d\",\"colorbar\":{\"outlinewidth\":0,\"ticks\":\"\"}}],\"scatter\":[{\"fillpattern\":{\"fillmode\":\"overlay\",\"size\":10,\"solidity\":0.2},\"type\":\"scatter\"}],\"parcoords\":[{\"type\":\"parcoords\",\"line\":{\"colorbar\":{\"outlinewidth\":0,\"ticks\":\"\"}}}],\"scatterpolargl\":[{\"type\":\"scatterpolargl\",\"marker\":{\"colorbar\":{\"outlinewidth\":0,\"ticks\":\"\"}}}],\"bar\":[{\"error_x\":{\"color\":\"#2a3f5f\"},\"error_y\":{\"color\":\"#2a3f5f\"},\"marker\":{\"line\":{\"color\":\"#E5ECF6\",\"width\":0.5},\"pattern\":{\"fillmode\":\"overlay\",\"size\":10,\"solidity\":0.2}},\"type\":\"bar\"}],\"scattergeo\":[{\"type\":\"scattergeo\",\"marker\":{\"colorbar\":{\"outlinewidth\":0,\"ticks\":\"\"}}}],\"scatterpolar\":[{\"type\":\"scatterpolar\",\"marker\":{\"colorbar\":{\"outlinewidth\":0,\"ticks\":\"\"}}}],\"histogram\":[{\"marker\":{\"pattern\":{\"fillmode\":\"overlay\",\"size\":10,\"solidity\":0.2}},\"type\":\"histogram\"}],\"scattergl\":[{\"type\":\"scattergl\",\"marker\":{\"colorbar\":{\"outlinewidth\":0,\"ticks\":\"\"}}}],\"scatter3d\":[{\"type\":\"scatter3d\",\"line\":{\"colorbar\":{\"outlinewidth\":0,\"ticks\":\"\"}},\"marker\":{\"colorbar\":{\"outlinewidth\":0,\"ticks\":\"\"}}}],\"scattermapbox\":[{\"type\":\"scattermapbox\",\"marker\":{\"colorbar\":{\"outlinewidth\":0,\"ticks\":\"\"}}}],\"scatterternary\":[{\"type\":\"scatterternary\",\"marker\":{\"colorbar\":{\"outlinewidth\":0,\"ticks\":\"\"}}}],\"scattercarpet\":[{\"type\":\"scattercarpet\",\"marker\":{\"colorbar\":{\"outlinewidth\":0,\"ticks\":\"\"}}}],\"carpet\":[{\"aaxis\":{\"endlinecolor\":\"#2a3f5f\",\"gridcolor\":\"white\",\"linecolor\":\"white\",\"minorgridcolor\":\"white\",\"startlinecolor\":\"#2a3f5f\"},\"baxis\":{\"endlinecolor\":\"#2a3f5f\",\"gridcolor\":\"white\",\"linecolor\":\"white\",\"minorgridcolor\":\"white\",\"startlinecolor\":\"#2a3f5f\"},\"type\":\"carpet\"}],\"table\":[{\"cells\":{\"fill\":{\"color\":\"#EBF0F8\"},\"line\":{\"color\":\"white\"}},\"header\":{\"fill\":{\"color\":\"#C8D4E3\"},\"line\":{\"color\":\"white\"}},\"type\":\"table\"}],\"barpolar\":[{\"marker\":{\"line\":{\"color\":\"#E5ECF6\",\"width\":0.5},\"pattern\":{\"fillmode\":\"overlay\",\"size\":10,\"solidity\":0.2}},\"type\":\"barpolar\"}],\"pie\":[{\"automargin\":true,\"type\":\"pie\"}]},\"layout\":{\"autotypenumbers\":\"strict\",\"colorway\":[\"#636efa\",\"#EF553B\",\"#00cc96\",\"#ab63fa\",\"#FFA15A\",\"#19d3f3\",\"#FF6692\",\"#B6E880\",\"#FF97FF\",\"#FECB52\"],\"font\":{\"color\":\"#2a3f5f\"},\"hovermode\":\"closest\",\"hoverlabel\":{\"align\":\"left\"},\"paper_bgcolor\":\"white\",\"plot_bgcolor\":\"#E5ECF6\",\"polar\":{\"bgcolor\":\"#E5ECF6\",\"angularaxis\":{\"gridcolor\":\"white\",\"linecolor\":\"white\",\"ticks\":\"\"},\"radialaxis\":{\"gridcolor\":\"white\",\"linecolor\":\"white\",\"ticks\":\"\"}},\"ternary\":{\"bgcolor\":\"#E5ECF6\",\"aaxis\":{\"gridcolor\":\"white\",\"linecolor\":\"white\",\"ticks\":\"\"},\"baxis\":{\"gridcolor\":\"white\",\"linecolor\":\"white\",\"ticks\":\"\"},\"caxis\":{\"gridcolor\":\"white\",\"linecolor\":\"white\",\"ticks\":\"\"}},\"coloraxis\":{\"colorbar\":{\"outlinewidth\":0,\"ticks\":\"\"}},\"colorscale\":{\"sequential\":[[0.0,\"#0d0887\"],[0.1111111111111111,\"#46039f\"],[0.2222222222222222,\"#7201a8\"],[0.3333333333333333,\"#9c179e\"],[0.4444444444444444,\"#bd3786\"],[0.5555555555555556,\"#d8576b\"],[0.6666666666666666,\"#ed7953\"],[0.7777777777777778,\"#fb9f3a\"],[0.8888888888888888,\"#fdca26\"],[1.0,\"#f0f921\"]],\"sequentialminus\":[[0.0,\"#0d0887\"],[0.1111111111111111,\"#46039f\"],[0.2222222222222222,\"#7201a8\"],[0.3333333333333333,\"#9c179e\"],[0.4444444444444444,\"#bd3786\"],[0.5555555555555556,\"#d8576b\"],[0.6666666666666666,\"#ed7953\"],[0.7777777777777778,\"#fb9f3a\"],[0.8888888888888888,\"#fdca26\"],[1.0,\"#f0f921\"]],\"diverging\":[[0,\"#8e0152\"],[0.1,\"#c51b7d\"],[0.2,\"#de77ae\"],[0.3,\"#f1b6da\"],[0.4,\"#fde0ef\"],[0.5,\"#f7f7f7\"],[0.6,\"#e6f5d0\"],[0.7,\"#b8e186\"],[0.8,\"#7fbc41\"],[0.9,\"#4d9221\"],[1,\"#276419\"]]},\"xaxis\":{\"gridcolor\":\"white\",\"linecolor\":\"white\",\"ticks\":\"\",\"title\":{\"standoff\":15},\"zerolinecolor\":\"white\",\"automargin\":true,\"zerolinewidth\":2},\"yaxis\":{\"gridcolor\":\"white\",\"linecolor\":\"white\",\"ticks\":\"\",\"title\":{\"standoff\":15},\"zerolinecolor\":\"white\",\"automargin\":true,\"zerolinewidth\":2},\"scene\":{\"xaxis\":{\"backgroundcolor\":\"#E5ECF6\",\"gridcolor\":\"white\",\"linecolor\":\"white\",\"showbackground\":true,\"ticks\":\"\",\"zerolinecolor\":\"white\",\"gridwidth\":2},\"yaxis\":{\"backgroundcolor\":\"#E5ECF6\",\"gridcolor\":\"white\",\"linecolor\":\"white\",\"showbackground\":true,\"ticks\":\"\",\"zerolinecolor\":\"white\",\"gridwidth\":2},\"zaxis\":{\"backgroundcolor\":\"#E5ECF6\",\"gridcolor\":\"white\",\"linecolor\":\"white\",\"showbackground\":true,\"ticks\":\"\",\"zerolinecolor\":\"white\",\"gridwidth\":2}},\"shapedefaults\":{\"line\":{\"color\":\"#2a3f5f\"}},\"annotationdefaults\":{\"arrowcolor\":\"#2a3f5f\",\"arrowhead\":0,\"arrowwidth\":1},\"geo\":{\"bgcolor\":\"white\",\"landcolor\":\"#E5ECF6\",\"subunitcolor\":\"white\",\"showland\":true,\"showlakes\":true,\"lakecolor\":\"white\"},\"title\":{\"x\":0.05},\"mapbox\":{\"style\":\"light\"}}},\"scene\":{\"domain\":{\"x\":[0.0,1.0],\"y\":[0.0,1.0]},\"xaxis\":{\"title\":{\"text\":\"x\"},\"backgroundcolor\":\"white\",\"color\":\"black\",\"gridcolor\":\"#f0f0f0\"},\"yaxis\":{\"title\":{\"text\":\"y\"},\"backgroundcolor\":\"white\",\"color\":\"black\",\"gridcolor\":\"#f0f0f0\"},\"zaxis\":{\"title\":{\"text\":\"z\"},\"backgroundcolor\":\"lightgrey\",\"color\":\"black\",\"gridcolor\":\"#f0f0f0\"}},\"legend\":{\"tracegroupgap\":0},\"margin\":{\"t\":60},\"paper_bgcolor\":\"white\"},                        {\"responsive\": true}                    ).then(function(){\n",
       "                            \n",
       "var gd = document.getElementById('be1f4682-fa48-4340-9394-f0918e0a6e26');\n",
       "var x = new MutationObserver(function (mutations, observer) {{\n",
       "        var display = window.getComputedStyle(gd).display;\n",
       "        if (!display || display === 'none') {{\n",
       "            console.log([gd, 'removed!']);\n",
       "            Plotly.purge(gd);\n",
       "            observer.disconnect();\n",
       "        }}\n",
       "}});\n",
       "\n",
       "// Listen for the removal of the full notebook cells\n",
       "var notebookContainer = gd.closest('#notebook-container');\n",
       "if (notebookContainer) {{\n",
       "    x.observe(notebookContainer, {childList: true});\n",
       "}}\n",
       "\n",
       "// Listen for the clearing of the current output cell\n",
       "var outputEl = gd.closest('.output');\n",
       "if (outputEl) {{\n",
       "    x.observe(outputEl, {childList: true});\n",
       "}}\n",
       "\n",
       "                        })                };                });            </script>        </div>"
      ]
     },
     "metadata": {},
     "output_type": "display_data"
    }
   ],
   "source": [
    "Plot_3D_SVM(circles_df.loc[:,['x','y']], x_test, y_test, clf)"
   ]
  },
  {
   "cell_type": "markdown",
   "id": "0d7def64-a128-406c-ba48-8d79a4a10ae0",
   "metadata": {
    "tags": []
   },
   "source": [
    "### DB SCAN CREATE AND KNN (DB SCAN IS NOT RELEVANT)"
   ]
  },
  {
   "cell_type": "code",
   "execution_count": 22,
   "id": "a4a49f02-c10c-49b3-abeb-a4e719d1b3bf",
   "metadata": {
    "tags": []
   },
   "outputs": [
    {
     "data": {
      "text/html": [
       "<a href=\"https://www.analyticsvidhya.com/blog/2020/09/how-dbscan-clustering-works\"> DB_SCAN_Clustering Algorithm</a>\n"
      ],
      "text/plain": [
       "<IPython.core.display.HTML object>"
      ]
     },
     "metadata": {},
     "output_type": "display_data"
    }
   ],
   "source": [
    "%%html\n",
    "<a href=\"https://www.analyticsvidhya.com/blog/2020/09/how-dbscan-clustering-works\"> DB_SCAN_Clustering Algorithm</a>"
   ]
  },
  {
   "cell_type": "code",
   "execution_count": 23,
   "id": "781581e4-16bf-4cc0-a32a-8cbcdcf3a65f",
   "metadata": {
    "tags": []
   },
   "outputs": [],
   "source": [
    "### KNN (DB_SCAN) ALGORITHM \n",
    "import pandas as pd\n",
    "from sklearn.cluster import DBSCAN\n",
    "from sklearn.metrics.pairwise import euclidean_distances\n",
    "from sklearn.neighbors import KNeighborsClassifier\n",
    "\n",
    "from sklearn.metrics import accuracy_score"
   ]
  },
  {
   "cell_type": "code",
   "execution_count": 24,
   "id": "a95f8fa4-300e-456f-abee-00b8fcbb5ba6",
   "metadata": {
    "tags": []
   },
   "outputs": [
    {
     "data": {
      "text/plain": [
       "count    250000.000000\n",
       "mean          1.156855\n",
       "std           0.549261\n",
       "min           0.000000\n",
       "25%           0.696860\n",
       "50%           1.264223\n",
       "75%           1.611412\n",
       "max           2.000000\n",
       "dtype: float64"
      ]
     },
     "execution_count": 24,
     "metadata": {},
     "output_type": "execute_result"
    }
   ],
   "source": [
    "distances = euclidean_distances(X=circles_df.loc[:,['x','y']])\n",
    "distances = distances.ravel()\n",
    "distances = pd.Series(distances)\n",
    "distances.describe()"
   ]
  },
  {
   "cell_type": "code",
   "execution_count": 25,
   "id": "f8db0db8-2367-43eb-af9b-c076eae4cb46",
   "metadata": {
    "tags": []
   },
   "outputs": [],
   "source": [
    "def calc_sse(grp):\n",
    "    sse=0\n",
    "    for label,group in grp:\n",
    "        centroid = group[['x','y']].mean()\n",
    "        sse+=((group[['x','y']]-centroid)**2).sum().sum()\n",
    "    return sse"
   ]
  },
  {
   "cell_type": "code",
   "execution_count": 26,
   "id": "3b68f5c9-53b1-4953-bf22-1bf90a184d87",
   "metadata": {
    "tags": []
   },
   "outputs": [],
   "source": [
    "class KNN:\n",
    "    def __init__(self,k:int):\n",
    "        self.k = k\n",
    "        print(f'Initiated a {k} nearset neighbors classifier')\n",
    "    \n",
    "    def fit(self,data:pd.DataFrame):\n",
    "        self.data=data\n",
    "    \n",
    "    def predict(self,obsevations:(float,float))->(str,float):\n",
    "        dis_observations = euclidean_distances([obsevations],self.data[['x','y']].values)\n",
    "        index_KNeighbors = np.argsort(dis_observations)[0][:self.k]\n",
    "        data_KNeighbors = self.data.iloc[index_KNeighbors]\n",
    "        KNeighbors_class= data_KNeighbors['labels'].value_counts()\n",
    "        class_observations = KNeighbors_class.idxmax()\n",
    "        class_observations_probability = (KNeighbors_class/sum(KNeighbors_class)).max()\n",
    "        return class_observations,class_observations_probability"
   ]
  },
  {
   "cell_type": "code",
   "execution_count": 27,
   "id": "7715915a-4667-4447-85ed-e4021762ed79",
   "metadata": {
    "tags": []
   },
   "outputs": [
    {
     "name": "stdout",
     "output_type": "stream",
     "text": [
      "Initiated a 2 nearset neighbors classifier\n"
     ]
    }
   ],
   "source": [
    "knn_classifier = KNN(2)\n",
    "x_train,x_test,y_train,y_test=train_test_split(circles_df.loc[:,['x','y']],circles_df.label,test_size=0.3,random_state=42)\n",
    "knn_data=pd.concat((x_train[['x','y']],pd.Series(y_train,name='labels')),axis=1).head()\n",
    "knn_classifier.fit(knn_data)\n",
    "\n",
    "for x,y in zip(circles_df.loc[:,'x'],circles_df.loc[:,'y']):\n",
    "    observations = (x,y)\n",
    "    knn_classifier.predict(observations)"
   ]
  },
  {
   "cell_type": "code",
   "execution_count": null,
   "id": "b52a00ff-5e98-4f84-a4e6-eaa6a60b2531",
   "metadata": {},
   "outputs": [],
   "source": [
    "    "
   ]
  },
  {
   "cell_type": "code",
   "execution_count": 28,
   "id": "19518f9b-d046-4b34-9436-c9bda427835e",
   "metadata": {
    "tags": []
   },
   "outputs": [
    {
     "name": "stdout",
     "output_type": "stream",
     "text": [
      "['A' 'A' 'A' 'B' 'A']\n",
      "361    A\n",
      "73     A\n",
      "374    A\n",
      "155    B\n",
      "104    A\n",
      "Name: label, dtype: object\n"
     ]
    }
   ],
   "source": [
    "knn_classifier = KNeighborsClassifier(5)\n",
    "x_train,x_test,y_train,y_test=train_test_split(circles_df.loc[:,['x','y']],circles_df.label,test_size=0.3,random_state=42) \n",
    "knn_classifier.fit(x_train,y_train)\n",
    "knn_res= knn_classifier.predict(x_test)\n",
    "accuracy_score(y_test,knn_res)\n",
    "print(knn_res[0:5])\n",
    "print(y_test[0:5])\n"
   ]
  },
  {
   "cell_type": "code",
   "execution_count": 29,
   "id": "a01e045b-214a-486d-91c7-1e97ffe29f33",
   "metadata": {
    "tags": []
   },
   "outputs": [
    {
     "data": {
      "application/vnd.jupyter.widget-view+json": {
       "model_id": "bee937edd58d437086c1b839f316c515",
       "version_major": 2,
       "version_minor": 0
      },
      "text/plain": [
       "interactive(children=(FloatSlider(value=0.0, description='noise_level', max=0.5, step=0.05), Output()), _dom_c…"
      ]
     },
     "metadata": {},
     "output_type": "display_data"
    }
   ],
   "source": [
    "@widgets.interact\n",
    "def plot_noisy_circles(noise_level = widgets.FloatSlider(value=0, min=0, max=0.5, step=0.05)):\n",
    "    df = pd.concat((circles_df[['x','y']],pd.Series(knn_res,name='labels')),axis=1)\n",
    "    return px.scatter(df, x='x', y='y', color = 'labels')"
   ]
  },
  {
   "cell_type": "code",
   "execution_count": null,
   "id": "a089f308-18e5-4bbd-b20e-1569f7da9b6b",
   "metadata": {},
   "outputs": [],
   "source": []
  },
  {
   "cell_type": "code",
   "execution_count": null,
   "id": "e0fa9369-2ddb-4139-88bd-1d202ba7bdfd",
   "metadata": {},
   "outputs": [],
   "source": []
  },
  {
   "cell_type": "markdown",
   "id": "4dd72827-1897-46f7-a22a-59ab8b91c286",
   "metadata": {},
   "source": [
    "Repeat for:\n",
    "* DS_NAME in Moons, Circles\n",
    "* N (number of samples) in [5, 10, 50, 100, 1000, 10000]\n",
    "* NL (noise level) in [0, 0.1, 0.2, 0.3, 0.4, 0.5]\n",
    "* For the complex model: 10 Values of hyper parameter of the complex model you've chosen.\n",
    "* For the linear model: 5 values of ridge (l2) regularization - [0.001, 0.01, 0.1, 1, 10, 100, 1000]"
   ]
  },
  {
   "cell_type": "markdown",
   "id": "65631059-5c46-4c6f-9a51-ad7c5b4f1011",
   "metadata": {
    "tags": []
   },
   "source": [
    "### CREATE RUN FUNCTION ON ALL PARAMETERS"
   ]
  },
  {
   "cell_type": "code",
   "execution_count": 30,
   "id": "bbbb70c8-94e7-4571-82cf-26424ab48d81",
   "metadata": {},
   "outputs": [],
   "source": [
    "def createDataSet(DS_NAME,N,NL):\n",
    "    df:pd.DataFrame\n",
    "    if(DS_NAME == \"Moons\"):\n",
    "        df= make_moons_dataframe(N,NL)\n",
    "    else:\n",
    "        df= make_circles_dataframe(N,NL)\n",
    "    return df\n",
    "    \n"
   ]
  },
  {
   "cell_type": "markdown",
   "id": "f0b28e38-9135-4266-bf1a-2c623d0dab7a",
   "metadata": {},
   "source": []
  },
  {
   "cell_type": "code",
   "execution_count": 31,
   "id": "eb1f2ed0-bd81-4cca-b2f2-5e8de99189b6",
   "metadata": {
    "tags": []
   },
   "outputs": [],
   "source": [
    "def dateCreateAndModelRun(x_train,x_test,y_train,y_test,HP,RR):\n",
    "    return rgf_SVM_func(x_train,x_test,y_train,y_test,HP,RR)\n",
    "    \n"
   ]
  },
  {
   "cell_type": "code",
   "execution_count": 32,
   "id": "bee20784-0beb-4e20-9cc2-58cfc22ed2e3",
   "metadata": {},
   "outputs": [],
   "source": [
    "def calculationToEveryDataSet(DS_NAME,Ns,NLs,HPs,RRs):\n",
    "    results = pd.DataFrame(columns=['N_Sample','Noise_Level','Hyper_Params','ridge_regularization','k','TrainScore','TestScore','diffScore'])\n",
    "    k_folds = 10\n",
    "    for N in Ns:\n",
    "            for NL in NLs:\n",
    "                df=createDataSet(DS_NAME,N,NL)\n",
    "                x_train,x_test,y_train,y_test=train_test_split(df.loc[:,['x','y']],df.label,test_size=0.2,random_state=42)\n",
    "                training_data=pd.DataFrame({'x':x_train.x,'y':x_train.y,'target':y_train})\n",
    "                fold_size = int(len(x_train) / k_folds) \n",
    "                for k in range(k_folds):\n",
    "                    fold_data = training_data[k * fold_size: (k+1) * fold_size]\n",
    "                    train_data = training_data[~x_train.index.isin(fold_data)]\n",
    "                    for HP in HPs:\n",
    "                        for RR in RRs:\n",
    "                            score = dateCreateAndModelRun(train_data.loc[:,['x','y']],fold_data.loc[:,['x','y']],train_data['target'],fold_data['target'],HP,RR)\n",
    "                            results=results.append({'N_Sample': N, 'Noise_Level': NL, 'Hyper_Params': HP, 'ridge_regularization': RR,'k':k, 'TrainScore': score[1],'TestScore': score[0],'diffScore':score[1]-score[0]},ignore_index=True)\n",
    "    return results"
   ]
  },
  {
   "cell_type": "markdown",
   "id": "c592063a-aabc-4d12-9ea8-f13bf6f39878",
   "metadata": {},
   "source": [
    "#### Try To Run In Parallel"
   ]
  },
  {
   "cell_type": "code",
   "execution_count": 33,
   "id": "3942906b-4cfb-48c5-9eb3-51ab3b5cb8c2",
   "metadata": {},
   "outputs": [],
   "source": [
    "#process_data.py\n",
    "\n",
    "# import pandas as pd\n",
    "\n",
    "# def processed_data_func(N, NL, HP, RR):\n",
    "#     df = createDataSet(DS_NAME, N, NL)\n",
    "#     x_train, x_test, y_train, y_test = train_test_split(df.loc[:,['x','y']], df.label, test_size=0.2, random_state=42)\n",
    "#     training_data = pd.DataFrame({'x': x_train.x, 'y': x_train.y, 'target': y_train})\n",
    "#     fold_size = int(len(x_train) / k_folds)\n",
    "\n",
    "#     for k in range(k_folds):\n",
    "#         fold_data = training_data[k * fold_size: (k+1) * fold_size]\n",
    "#         train_data = training_data[~x_train.index.isin(fold_data)]\n",
    "#         score = dateCreateAndModelRun(train_data.loc[:,['x','y']], fold_data.loc[:,['x','y']], train_data['target'], fold_data['target'], HP, RR)\n",
    "#         results = results.append({'N_Sample': N, 'Noise_Level': NL, 'Hyper_Params': HP, 'ridge_regularization': RR, 'k': k, 'TrainScore': score[1], 'TestScore': score[0], 'diffScore': score[1] - score[0]}, ignore_index=True)"
   ]
  },
  {
   "cell_type": "code",
   "execution_count": 34,
   "id": "3cc2ea4d-e813-417e-96d4-237049a35e3b",
   "metadata": {},
   "outputs": [],
   "source": [
    "import pandas as pd\n",
    "import multiprocessing as mp\n",
    "\n",
    "class CalculationData:\n",
    "    def __init__(self,DS_NAME, Ns, NLs, HPs, RRs):\n",
    "        self.DS_NAME = DS_NAME\n",
    "        self.Ns = Ns\n",
    "    def processed_data_func(self,N, NL, HP, RR):\n",
    "            df = createDataSet(DS_NAME, N, NL)\n",
    "            x_train, x_test, y_train, y_test = train_test_split(df.loc[:,['x','y']], df.label, test_size=0.2, random_state=42)\n",
    "            training_data = pd.DataFrame({'x': x_train.x, 'y': x_train.y, 'target': y_train})\n",
    "            fold_size = int(len(x_train) / k_folds)\n",
    "\n",
    "            for k in range(k_folds):\n",
    "                fold_data = training_data[k * fold_size: (k+1) * fold_size]\n",
    "                train_data = training_data[~x_train.index.isin(fold_data)]\n",
    "                score = dateCreateAndModelRun(train_data.loc[:,['x','y']], fold_data.loc[:,['x','y']], train_data['target'], fold_data['target'], HP, RR)\n",
    "                results = results.append({'N_Sample': N, 'Noise_Level': NL, 'Hyper_Params': HP, 'ridge_regularization': RR, 'k': k, 'TrainScore': score[1], 'TestScore': score[0], 'diffScore': score[1] - score[0]}, ignore_index=True)\n",
    "\n",
    "    def calculationToEveryDataSet_parallel(self,DS_NAME, Ns, NLs, HPs, RRs):\n",
    "        results = pd.DataFrame(columns=['N_Sample','Noise_Level','Hyper_Params','ridge_regularization','k','TrainScore','TestScore','diffScore'])\n",
    "        k_folds = 10\n",
    "\n",
    "        pool = mp.Pool(mp.cpu_count())  # Create a pool of worker processes\n",
    "        tasks = []\n",
    "\n",
    "        for N in Ns:\n",
    "            for NL in NLs:\n",
    "                for HP in HPs:\n",
    "                    for RR in RRs:\n",
    "                        tasks.append(pool.apply_async(self.processed_data_func, args=(N, NL, HP, RR)))\n",
    "\n",
    "        # Wait for all processes to finish\n",
    "        pool.close()\n",
    "        pool.join()\n",
    "\n",
    "        # Get results from completed processes\n",
    "        for task in tasks:\n",
    "            task.get()\n",
    "\n",
    "        return results"
   ]
  },
  {
   "cell_type": "code",
   "execution_count": 35,
   "id": "8e881eeb-cba3-4f5d-8958-343d98cd8266",
   "metadata": {
    "tags": []
   },
   "outputs": [],
   "source": [
    "import warnings\n",
    "### FOR PARALLEL LOOPS\n",
    "import multiprocessing\n",
    "import joblib\n",
    "import asyncio\n",
    "import time\n",
    "from multiprocessing import Process, Queue\n",
    "\n",
    "pool_obj = multiprocessing.Pool()\n",
    "\n",
    "warnings.simplefilter(action='ignore', category=FutureWarning)\n",
    "models_functions=[logsticRegression_Func,rgf_SVM_func,knn_func,randomForest_func]\n",
    "DS_NAMEs = ['Moons', 'Circles']\n",
    "k_folds = 5\n",
    "Ns= [25, 50, 100, 1000]\n",
    "NLs=[0, 0.1, 0.2, 0.3, 0.4]\n",
    "HPs= [0.1,0.2,0.3,0.4]\n",
    "RRs= [0.001, 0.01, 0.1, 1, 10, 100]\n"
   ]
  },
  {
   "cell_type": "code",
   "execution_count": null,
   "id": "44f95fd5-81b2-43ff-95d1-204a4e1ee854",
   "metadata": {},
   "outputs": [],
   "source": []
  },
  {
   "cell_type": "markdown",
   "id": "959d63b6-6325-40ee-a6b7-15492f27374f",
   "metadata": {},
   "source": [
    "#### Result On Datas "
   ]
  },
  {
   "cell_type": "code",
   "execution_count": 36,
   "id": "f6b1c9fc-b5fc-49a0-be85-0ddd09d0dae3",
   "metadata": {},
   "outputs": [],
   "source": [
    "pool_obj = multiprocessing.Pool()\n",
    "# if __name__ == '__main__':\n",
    "#     freeze_support()\n",
    "calcObject = CalculationData('Moons',Ns,NLs,HPs,RRs)\n",
    "# results= calcObject.calculationToEveryDataSet_parallel('Moons',Ns,NLs,HPs,RRs)\n",
    "results= calculationToEveryDataSet('Circles',Ns,NLs,HPs,RRs)"
   ]
  },
  {
   "cell_type": "code",
   "execution_count": 37,
   "id": "223b4c2f-61b9-42b5-95cd-d568891c7f33",
   "metadata": {},
   "outputs": [
    {
     "data": {
      "text/html": [
       "<div>\n",
       "<style scoped>\n",
       "    .dataframe tbody tr th:only-of-type {\n",
       "        vertical-align: middle;\n",
       "    }\n",
       "\n",
       "    .dataframe tbody tr th {\n",
       "        vertical-align: top;\n",
       "    }\n",
       "\n",
       "    .dataframe thead th {\n",
       "        text-align: right;\n",
       "    }\n",
       "</style>\n",
       "<table border=\"1\" class=\"dataframe\">\n",
       "  <thead>\n",
       "    <tr style=\"text-align: right;\">\n",
       "      <th></th>\n",
       "      <th>N_Sample</th>\n",
       "      <th>Noise_Level</th>\n",
       "      <th>Hyper_Params</th>\n",
       "      <th>ridge_regularization</th>\n",
       "      <th>k</th>\n",
       "      <th>TrainScore</th>\n",
       "      <th>TestScore</th>\n",
       "      <th>diffScore</th>\n",
       "    </tr>\n",
       "  </thead>\n",
       "  <tbody>\n",
       "    <tr>\n",
       "      <th>120</th>\n",
       "      <td>25.0</td>\n",
       "      <td>0.0</td>\n",
       "      <td>0.1</td>\n",
       "      <td>0.001</td>\n",
       "      <td>5.0</td>\n",
       "      <td>1.00000</td>\n",
       "      <td>1.0000</td>\n",
       "      <td>0.00000</td>\n",
       "    </tr>\n",
       "    <tr>\n",
       "      <th>121</th>\n",
       "      <td>25.0</td>\n",
       "      <td>0.0</td>\n",
       "      <td>0.1</td>\n",
       "      <td>0.010</td>\n",
       "      <td>5.0</td>\n",
       "      <td>1.00000</td>\n",
       "      <td>1.0000</td>\n",
       "      <td>0.00000</td>\n",
       "    </tr>\n",
       "    <tr>\n",
       "      <th>122</th>\n",
       "      <td>25.0</td>\n",
       "      <td>0.0</td>\n",
       "      <td>0.1</td>\n",
       "      <td>0.100</td>\n",
       "      <td>5.0</td>\n",
       "      <td>0.55000</td>\n",
       "      <td>0.5000</td>\n",
       "      <td>0.05000</td>\n",
       "    </tr>\n",
       "    <tr>\n",
       "      <th>123</th>\n",
       "      <td>25.0</td>\n",
       "      <td>0.0</td>\n",
       "      <td>0.1</td>\n",
       "      <td>1.000</td>\n",
       "      <td>5.0</td>\n",
       "      <td>0.55000</td>\n",
       "      <td>0.5000</td>\n",
       "      <td>0.05000</td>\n",
       "    </tr>\n",
       "    <tr>\n",
       "      <th>124</th>\n",
       "      <td>25.0</td>\n",
       "      <td>0.0</td>\n",
       "      <td>0.1</td>\n",
       "      <td>10.000</td>\n",
       "      <td>5.0</td>\n",
       "      <td>0.55000</td>\n",
       "      <td>0.5000</td>\n",
       "      <td>0.05000</td>\n",
       "    </tr>\n",
       "    <tr>\n",
       "      <th>...</th>\n",
       "      <td>...</td>\n",
       "      <td>...</td>\n",
       "      <td>...</td>\n",
       "      <td>...</td>\n",
       "      <td>...</td>\n",
       "      <td>...</td>\n",
       "      <td>...</td>\n",
       "      <td>...</td>\n",
       "    </tr>\n",
       "    <tr>\n",
       "      <th>4699</th>\n",
       "      <td>1000.0</td>\n",
       "      <td>0.4</td>\n",
       "      <td>0.4</td>\n",
       "      <td>0.010</td>\n",
       "      <td>5.0</td>\n",
       "      <td>0.62500</td>\n",
       "      <td>0.5875</td>\n",
       "      <td>0.03750</td>\n",
       "    </tr>\n",
       "    <tr>\n",
       "      <th>4700</th>\n",
       "      <td>1000.0</td>\n",
       "      <td>0.4</td>\n",
       "      <td>0.4</td>\n",
       "      <td>0.100</td>\n",
       "      <td>5.0</td>\n",
       "      <td>0.63125</td>\n",
       "      <td>0.6000</td>\n",
       "      <td>0.03125</td>\n",
       "    </tr>\n",
       "    <tr>\n",
       "      <th>4701</th>\n",
       "      <td>1000.0</td>\n",
       "      <td>0.4</td>\n",
       "      <td>0.4</td>\n",
       "      <td>1.000</td>\n",
       "      <td>5.0</td>\n",
       "      <td>0.61375</td>\n",
       "      <td>0.5625</td>\n",
       "      <td>0.05125</td>\n",
       "    </tr>\n",
       "    <tr>\n",
       "      <th>4702</th>\n",
       "      <td>1000.0</td>\n",
       "      <td>0.4</td>\n",
       "      <td>0.4</td>\n",
       "      <td>10.000</td>\n",
       "      <td>5.0</td>\n",
       "      <td>0.60500</td>\n",
       "      <td>0.5875</td>\n",
       "      <td>0.01750</td>\n",
       "    </tr>\n",
       "    <tr>\n",
       "      <th>4703</th>\n",
       "      <td>1000.0</td>\n",
       "      <td>0.4</td>\n",
       "      <td>0.4</td>\n",
       "      <td>100.000</td>\n",
       "      <td>5.0</td>\n",
       "      <td>0.50125</td>\n",
       "      <td>0.5250</td>\n",
       "      <td>-0.02375</td>\n",
       "    </tr>\n",
       "  </tbody>\n",
       "</table>\n",
       "<p>480 rows × 8 columns</p>\n",
       "</div>"
      ],
      "text/plain": [
       "      N_Sample  Noise_Level  Hyper_Params  ridge_regularization    k  \\\n",
       "120       25.0          0.0           0.1                 0.001  5.0   \n",
       "121       25.0          0.0           0.1                 0.010  5.0   \n",
       "122       25.0          0.0           0.1                 0.100  5.0   \n",
       "123       25.0          0.0           0.1                 1.000  5.0   \n",
       "124       25.0          0.0           0.1                10.000  5.0   \n",
       "...        ...          ...           ...                   ...  ...   \n",
       "4699    1000.0          0.4           0.4                 0.010  5.0   \n",
       "4700    1000.0          0.4           0.4                 0.100  5.0   \n",
       "4701    1000.0          0.4           0.4                 1.000  5.0   \n",
       "4702    1000.0          0.4           0.4                10.000  5.0   \n",
       "4703    1000.0          0.4           0.4               100.000  5.0   \n",
       "\n",
       "      TrainScore  TestScore  diffScore  \n",
       "120      1.00000     1.0000    0.00000  \n",
       "121      1.00000     1.0000    0.00000  \n",
       "122      0.55000     0.5000    0.05000  \n",
       "123      0.55000     0.5000    0.05000  \n",
       "124      0.55000     0.5000    0.05000  \n",
       "...          ...        ...        ...  \n",
       "4699     0.62500     0.5875    0.03750  \n",
       "4700     0.63125     0.6000    0.03125  \n",
       "4701     0.61375     0.5625    0.05125  \n",
       "4702     0.60500     0.5875    0.01750  \n",
       "4703     0.50125     0.5250   -0.02375  \n",
       "\n",
       "[480 rows x 8 columns]"
      ]
     },
     "execution_count": 37,
     "metadata": {},
     "output_type": "execute_result"
    }
   ],
   "source": [
    "results.query('k==5')"
   ]
  },
  {
   "cell_type": "code",
   "execution_count": 38,
   "id": "adf203ec-6ab5-4481-960f-f8445ac20b54",
   "metadata": {},
   "outputs": [
    {
     "data": {
      "text/plain": [
       "N_Sample  Noise_Level  Hyper_Params  ridge_regularization\n",
       "25.0      0.0          0.1           0.001                   1.00000\n",
       "                                     0.010                   1.00000\n",
       "                                     0.100                   0.55000\n",
       "                                     1.000                   0.55000\n",
       "                                     10.000                  0.55000\n",
       "                                                              ...   \n",
       "1000.0    0.4          0.4           0.010                   0.62500\n",
       "                                     0.100                   0.63125\n",
       "                                     1.000                   0.61375\n",
       "                                     10.000                  0.60500\n",
       "                                     100.000                 0.50125\n",
       "Name: TestScore, Length: 480, dtype: float64"
      ]
     },
     "execution_count": 38,
     "metadata": {},
     "output_type": "execute_result"
    }
   ],
   "source": [
    "results.groupby(['N_Sample','Noise_Level','Hyper_Params','ridge_regularization'])['TestScore'].mean()"
   ]
  },
  {
   "cell_type": "code",
   "execution_count": 39,
   "id": "a9f1d628-d244-4326-8276-adc3ab24210e",
   "metadata": {},
   "outputs": [
    {
     "data": {
      "application/vnd.plotly.v1+json": {
       "config": {
        "plotlyServerURL": "https://plot.ly"
       },
       "data": [
        {
         "hovertemplate": "variable=TrainScore<br>N_Sample=%{x}<br>value=%{y}<extra></extra>",
         "legendgroup": "TrainScore",
         "line": {
          "color": "#636efa",
          "dash": "solid"
         },
         "marker": {
          "symbol": "circle"
         },
         "mode": "lines",
         "name": "TrainScore",
         "orientation": "v",
         "showlegend": true,
         "type": "scatter",
         "x": [
          25,
          50,
          100,
          1000
         ],
         "xaxis": "x",
         "y": [
          0.7333333333333333,
          0.7135416666666666,
          0.7317708333333334,
          0.7409374999999999
         ],
         "yaxis": "y"
        },
        {
         "hovertemplate": "variable=TestScore<br>N_Sample=%{x}<br>value=%{y}<extra></extra>",
         "legendgroup": "TestScore",
         "line": {
          "color": "#EF553B",
          "dash": "solid"
         },
         "marker": {
          "symbol": "circle"
         },
         "mode": "lines",
         "name": "TestScore",
         "orientation": "v",
         "showlegend": true,
         "type": "scatter",
         "x": [
          25,
          50,
          100,
          1000
         ],
         "xaxis": "x",
         "y": [
          0.7333333333333333,
          0.7135416666666666,
          0.7317708333333334,
          0.7409374999999999
         ],
         "yaxis": "y"
        }
       ],
       "layout": {
        "autosize": true,
        "legend": {
         "title": {
          "text": "variable"
         },
         "tracegroupgap": 0
        },
        "template": {
         "data": {
          "bar": [
           {
            "error_x": {
             "color": "#2a3f5f"
            },
            "error_y": {
             "color": "#2a3f5f"
            },
            "marker": {
             "line": {
              "color": "#E5ECF6",
              "width": 0.5
             },
             "pattern": {
              "fillmode": "overlay",
              "size": 10,
              "solidity": 0.2
             }
            },
            "type": "bar"
           }
          ],
          "barpolar": [
           {
            "marker": {
             "line": {
              "color": "#E5ECF6",
              "width": 0.5
             },
             "pattern": {
              "fillmode": "overlay",
              "size": 10,
              "solidity": 0.2
             }
            },
            "type": "barpolar"
           }
          ],
          "carpet": [
           {
            "aaxis": {
             "endlinecolor": "#2a3f5f",
             "gridcolor": "white",
             "linecolor": "white",
             "minorgridcolor": "white",
             "startlinecolor": "#2a3f5f"
            },
            "baxis": {
             "endlinecolor": "#2a3f5f",
             "gridcolor": "white",
             "linecolor": "white",
             "minorgridcolor": "white",
             "startlinecolor": "#2a3f5f"
            },
            "type": "carpet"
           }
          ],
          "choropleth": [
           {
            "colorbar": {
             "outlinewidth": 0,
             "ticks": ""
            },
            "type": "choropleth"
           }
          ],
          "contour": [
           {
            "colorbar": {
             "outlinewidth": 0,
             "ticks": ""
            },
            "colorscale": [
             [
              0,
              "#0d0887"
             ],
             [
              0.1111111111111111,
              "#46039f"
             ],
             [
              0.2222222222222222,
              "#7201a8"
             ],
             [
              0.3333333333333333,
              "#9c179e"
             ],
             [
              0.4444444444444444,
              "#bd3786"
             ],
             [
              0.5555555555555556,
              "#d8576b"
             ],
             [
              0.6666666666666666,
              "#ed7953"
             ],
             [
              0.7777777777777778,
              "#fb9f3a"
             ],
             [
              0.8888888888888888,
              "#fdca26"
             ],
             [
              1,
              "#f0f921"
             ]
            ],
            "type": "contour"
           }
          ],
          "contourcarpet": [
           {
            "colorbar": {
             "outlinewidth": 0,
             "ticks": ""
            },
            "type": "contourcarpet"
           }
          ],
          "heatmap": [
           {
            "colorbar": {
             "outlinewidth": 0,
             "ticks": ""
            },
            "colorscale": [
             [
              0,
              "#0d0887"
             ],
             [
              0.1111111111111111,
              "#46039f"
             ],
             [
              0.2222222222222222,
              "#7201a8"
             ],
             [
              0.3333333333333333,
              "#9c179e"
             ],
             [
              0.4444444444444444,
              "#bd3786"
             ],
             [
              0.5555555555555556,
              "#d8576b"
             ],
             [
              0.6666666666666666,
              "#ed7953"
             ],
             [
              0.7777777777777778,
              "#fb9f3a"
             ],
             [
              0.8888888888888888,
              "#fdca26"
             ],
             [
              1,
              "#f0f921"
             ]
            ],
            "type": "heatmap"
           }
          ],
          "heatmapgl": [
           {
            "colorbar": {
             "outlinewidth": 0,
             "ticks": ""
            },
            "colorscale": [
             [
              0,
              "#0d0887"
             ],
             [
              0.1111111111111111,
              "#46039f"
             ],
             [
              0.2222222222222222,
              "#7201a8"
             ],
             [
              0.3333333333333333,
              "#9c179e"
             ],
             [
              0.4444444444444444,
              "#bd3786"
             ],
             [
              0.5555555555555556,
              "#d8576b"
             ],
             [
              0.6666666666666666,
              "#ed7953"
             ],
             [
              0.7777777777777778,
              "#fb9f3a"
             ],
             [
              0.8888888888888888,
              "#fdca26"
             ],
             [
              1,
              "#f0f921"
             ]
            ],
            "type": "heatmapgl"
           }
          ],
          "histogram": [
           {
            "marker": {
             "pattern": {
              "fillmode": "overlay",
              "size": 10,
              "solidity": 0.2
             }
            },
            "type": "histogram"
           }
          ],
          "histogram2d": [
           {
            "colorbar": {
             "outlinewidth": 0,
             "ticks": ""
            },
            "colorscale": [
             [
              0,
              "#0d0887"
             ],
             [
              0.1111111111111111,
              "#46039f"
             ],
             [
              0.2222222222222222,
              "#7201a8"
             ],
             [
              0.3333333333333333,
              "#9c179e"
             ],
             [
              0.4444444444444444,
              "#bd3786"
             ],
             [
              0.5555555555555556,
              "#d8576b"
             ],
             [
              0.6666666666666666,
              "#ed7953"
             ],
             [
              0.7777777777777778,
              "#fb9f3a"
             ],
             [
              0.8888888888888888,
              "#fdca26"
             ],
             [
              1,
              "#f0f921"
             ]
            ],
            "type": "histogram2d"
           }
          ],
          "histogram2dcontour": [
           {
            "colorbar": {
             "outlinewidth": 0,
             "ticks": ""
            },
            "colorscale": [
             [
              0,
              "#0d0887"
             ],
             [
              0.1111111111111111,
              "#46039f"
             ],
             [
              0.2222222222222222,
              "#7201a8"
             ],
             [
              0.3333333333333333,
              "#9c179e"
             ],
             [
              0.4444444444444444,
              "#bd3786"
             ],
             [
              0.5555555555555556,
              "#d8576b"
             ],
             [
              0.6666666666666666,
              "#ed7953"
             ],
             [
              0.7777777777777778,
              "#fb9f3a"
             ],
             [
              0.8888888888888888,
              "#fdca26"
             ],
             [
              1,
              "#f0f921"
             ]
            ],
            "type": "histogram2dcontour"
           }
          ],
          "mesh3d": [
           {
            "colorbar": {
             "outlinewidth": 0,
             "ticks": ""
            },
            "type": "mesh3d"
           }
          ],
          "parcoords": [
           {
            "line": {
             "colorbar": {
              "outlinewidth": 0,
              "ticks": ""
             }
            },
            "type": "parcoords"
           }
          ],
          "pie": [
           {
            "automargin": true,
            "type": "pie"
           }
          ],
          "scatter": [
           {
            "fillpattern": {
             "fillmode": "overlay",
             "size": 10,
             "solidity": 0.2
            },
            "type": "scatter"
           }
          ],
          "scatter3d": [
           {
            "line": {
             "colorbar": {
              "outlinewidth": 0,
              "ticks": ""
             }
            },
            "marker": {
             "colorbar": {
              "outlinewidth": 0,
              "ticks": ""
             }
            },
            "type": "scatter3d"
           }
          ],
          "scattercarpet": [
           {
            "marker": {
             "colorbar": {
              "outlinewidth": 0,
              "ticks": ""
             }
            },
            "type": "scattercarpet"
           }
          ],
          "scattergeo": [
           {
            "marker": {
             "colorbar": {
              "outlinewidth": 0,
              "ticks": ""
             }
            },
            "type": "scattergeo"
           }
          ],
          "scattergl": [
           {
            "marker": {
             "colorbar": {
              "outlinewidth": 0,
              "ticks": ""
             }
            },
            "type": "scattergl"
           }
          ],
          "scattermapbox": [
           {
            "marker": {
             "colorbar": {
              "outlinewidth": 0,
              "ticks": ""
             }
            },
            "type": "scattermapbox"
           }
          ],
          "scatterpolar": [
           {
            "marker": {
             "colorbar": {
              "outlinewidth": 0,
              "ticks": ""
             }
            },
            "type": "scatterpolar"
           }
          ],
          "scatterpolargl": [
           {
            "marker": {
             "colorbar": {
              "outlinewidth": 0,
              "ticks": ""
             }
            },
            "type": "scatterpolargl"
           }
          ],
          "scatterternary": [
           {
            "marker": {
             "colorbar": {
              "outlinewidth": 0,
              "ticks": ""
             }
            },
            "type": "scatterternary"
           }
          ],
          "surface": [
           {
            "colorbar": {
             "outlinewidth": 0,
             "ticks": ""
            },
            "colorscale": [
             [
              0,
              "#0d0887"
             ],
             [
              0.1111111111111111,
              "#46039f"
             ],
             [
              0.2222222222222222,
              "#7201a8"
             ],
             [
              0.3333333333333333,
              "#9c179e"
             ],
             [
              0.4444444444444444,
              "#bd3786"
             ],
             [
              0.5555555555555556,
              "#d8576b"
             ],
             [
              0.6666666666666666,
              "#ed7953"
             ],
             [
              0.7777777777777778,
              "#fb9f3a"
             ],
             [
              0.8888888888888888,
              "#fdca26"
             ],
             [
              1,
              "#f0f921"
             ]
            ],
            "type": "surface"
           }
          ],
          "table": [
           {
            "cells": {
             "fill": {
              "color": "#EBF0F8"
             },
             "line": {
              "color": "white"
             }
            },
            "header": {
             "fill": {
              "color": "#C8D4E3"
             },
             "line": {
              "color": "white"
             }
            },
            "type": "table"
           }
          ]
         },
         "layout": {
          "annotationdefaults": {
           "arrowcolor": "#2a3f5f",
           "arrowhead": 0,
           "arrowwidth": 1
          },
          "autotypenumbers": "strict",
          "coloraxis": {
           "colorbar": {
            "outlinewidth": 0,
            "ticks": ""
           }
          },
          "colorscale": {
           "diverging": [
            [
             0,
             "#8e0152"
            ],
            [
             0.1,
             "#c51b7d"
            ],
            [
             0.2,
             "#de77ae"
            ],
            [
             0.3,
             "#f1b6da"
            ],
            [
             0.4,
             "#fde0ef"
            ],
            [
             0.5,
             "#f7f7f7"
            ],
            [
             0.6,
             "#e6f5d0"
            ],
            [
             0.7,
             "#b8e186"
            ],
            [
             0.8,
             "#7fbc41"
            ],
            [
             0.9,
             "#4d9221"
            ],
            [
             1,
             "#276419"
            ]
           ],
           "sequential": [
            [
             0,
             "#0d0887"
            ],
            [
             0.1111111111111111,
             "#46039f"
            ],
            [
             0.2222222222222222,
             "#7201a8"
            ],
            [
             0.3333333333333333,
             "#9c179e"
            ],
            [
             0.4444444444444444,
             "#bd3786"
            ],
            [
             0.5555555555555556,
             "#d8576b"
            ],
            [
             0.6666666666666666,
             "#ed7953"
            ],
            [
             0.7777777777777778,
             "#fb9f3a"
            ],
            [
             0.8888888888888888,
             "#fdca26"
            ],
            [
             1,
             "#f0f921"
            ]
           ],
           "sequentialminus": [
            [
             0,
             "#0d0887"
            ],
            [
             0.1111111111111111,
             "#46039f"
            ],
            [
             0.2222222222222222,
             "#7201a8"
            ],
            [
             0.3333333333333333,
             "#9c179e"
            ],
            [
             0.4444444444444444,
             "#bd3786"
            ],
            [
             0.5555555555555556,
             "#d8576b"
            ],
            [
             0.6666666666666666,
             "#ed7953"
            ],
            [
             0.7777777777777778,
             "#fb9f3a"
            ],
            [
             0.8888888888888888,
             "#fdca26"
            ],
            [
             1,
             "#f0f921"
            ]
           ]
          },
          "colorway": [
           "#636efa",
           "#EF553B",
           "#00cc96",
           "#ab63fa",
           "#FFA15A",
           "#19d3f3",
           "#FF6692",
           "#B6E880",
           "#FF97FF",
           "#FECB52"
          ],
          "font": {
           "color": "#2a3f5f"
          },
          "geo": {
           "bgcolor": "white",
           "lakecolor": "white",
           "landcolor": "#E5ECF6",
           "showlakes": true,
           "showland": true,
           "subunitcolor": "white"
          },
          "hoverlabel": {
           "align": "left"
          },
          "hovermode": "closest",
          "mapbox": {
           "style": "light"
          },
          "paper_bgcolor": "white",
          "plot_bgcolor": "#E5ECF6",
          "polar": {
           "angularaxis": {
            "gridcolor": "white",
            "linecolor": "white",
            "ticks": ""
           },
           "bgcolor": "#E5ECF6",
           "radialaxis": {
            "gridcolor": "white",
            "linecolor": "white",
            "ticks": ""
           }
          },
          "scene": {
           "xaxis": {
            "backgroundcolor": "#E5ECF6",
            "gridcolor": "white",
            "gridwidth": 2,
            "linecolor": "white",
            "showbackground": true,
            "ticks": "",
            "zerolinecolor": "white"
           },
           "yaxis": {
            "backgroundcolor": "#E5ECF6",
            "gridcolor": "white",
            "gridwidth": 2,
            "linecolor": "white",
            "showbackground": true,
            "ticks": "",
            "zerolinecolor": "white"
           },
           "zaxis": {
            "backgroundcolor": "#E5ECF6",
            "gridcolor": "white",
            "gridwidth": 2,
            "linecolor": "white",
            "showbackground": true,
            "ticks": "",
            "zerolinecolor": "white"
           }
          },
          "shapedefaults": {
           "line": {
            "color": "#2a3f5f"
           }
          },
          "ternary": {
           "aaxis": {
            "gridcolor": "white",
            "linecolor": "white",
            "ticks": ""
           },
           "baxis": {
            "gridcolor": "white",
            "linecolor": "white",
            "ticks": ""
           },
           "bgcolor": "#E5ECF6",
           "caxis": {
            "gridcolor": "white",
            "linecolor": "white",
            "ticks": ""
           }
          },
          "title": {
           "x": 0.05
          },
          "xaxis": {
           "automargin": true,
           "gridcolor": "white",
           "linecolor": "white",
           "ticks": "",
           "title": {
            "standoff": 15
           },
           "zerolinecolor": "white",
           "zerolinewidth": 2
          },
          "yaxis": {
           "automargin": true,
           "gridcolor": "white",
           "linecolor": "white",
           "ticks": "",
           "title": {
            "standoff": 15
           },
           "zerolinecolor": "white",
           "zerolinewidth": 2
          }
         }
        },
        "title": {
         "text": "Logistic reg change in accuracy over number of observations (Noise Level 0.1)"
        },
        "xaxis": {
         "anchor": "y",
         "autorange": true,
         "domain": [
          0,
          1
         ],
         "range": [
          25,
          1000
         ],
         "title": {
          "text": "N_Sample"
         },
         "type": "linear"
        },
        "yaxis": {
         "anchor": "x",
         "autorange": true,
         "domain": [
          0,
          1
         ],
         "range": [
          0.7120196759259259,
          0.7424594907407407
         ],
         "title": {
          "text": "value"
         },
         "type": "linear"
        }
       }
      },
      "image/png": "[encoded data removed]",
      "text/html": [
       "<div>                            <div id=\"dc9feba4-7404-497d-b98e-41c49e0d02a1\" class=\"plotly-graph-div\" style=\"height:525px; width:100%;\"></div>            <script type=\"text/javascript\">                require([\"plotly\"], function(Plotly) {                    window.PLOTLYENV=window.PLOTLYENV || {};                                    if (document.getElementById(\"dc9feba4-7404-497d-b98e-41c49e0d02a1\")) {                    Plotly.newPlot(                        \"dc9feba4-7404-497d-b98e-41c49e0d02a1\",                        [{\"hovertemplate\":\"variable=TrainScore<br>N_Sample=%{x}<br>value=%{y}<extra></extra>\",\"legendgroup\":\"TrainScore\",\"line\":{\"color\":\"#636efa\",\"dash\":\"solid\"},\"marker\":{\"symbol\":\"circle\"},\"mode\":\"lines\",\"name\":\"TrainScore\",\"orientation\":\"v\",\"showlegend\":true,\"x\":[25.0,50.0,100.0,1000.0],\"xaxis\":\"x\",\"y\":[0.7333333333333333,0.7135416666666666,0.7317708333333334,0.7409374999999999],\"yaxis\":\"y\",\"type\":\"scatter\"},{\"hovertemplate\":\"variable=TestScore<br>N_Sample=%{x}<br>value=%{y}<extra></extra>\",\"legendgroup\":\"TestScore\",\"line\":{\"color\":\"#EF553B\",\"dash\":\"solid\"},\"marker\":{\"symbol\":\"circle\"},\"mode\":\"lines\",\"name\":\"TestScore\",\"orientation\":\"v\",\"showlegend\":true,\"x\":[25.0,50.0,100.0,1000.0],\"xaxis\":\"x\",\"y\":[0.7333333333333333,0.7135416666666666,0.7317708333333334,0.7409374999999999],\"yaxis\":\"y\",\"type\":\"scatter\"}],                        {\"template\":{\"data\":{\"histogram2dcontour\":[{\"type\":\"histogram2dcontour\",\"colorbar\":{\"outlinewidth\":0,\"ticks\":\"\"},\"colorscale\":[[0.0,\"#0d0887\"],[0.1111111111111111,\"#46039f\"],[0.2222222222222222,\"#7201a8\"],[0.3333333333333333,\"#9c179e\"],[0.4444444444444444,\"#bd3786\"],[0.5555555555555556,\"#d8576b\"],[0.6666666666666666,\"#ed7953\"],[0.7777777777777778,\"#fb9f3a\"],[0.8888888888888888,\"#fdca26\"],[1.0,\"#f0f921\"]]}],\"choropleth\":[{\"type\":\"choropleth\",\"colorbar\":{\"outlinewidth\":0,\"ticks\":\"\"}}],\"histogram2d\":[{\"type\":\"histogram2d\",\"colorbar\":{\"outlinewidth\":0,\"ticks\":\"\"},\"colorscale\":[[0.0,\"#0d0887\"],[0.1111111111111111,\"#46039f\"],[0.2222222222222222,\"#7201a8\"],[0.3333333333333333,\"#9c179e\"],[0.4444444444444444,\"#bd3786\"],[0.5555555555555556,\"#d8576b\"],[0.6666666666666666,\"#ed7953\"],[0.7777777777777778,\"#fb9f3a\"],[0.8888888888888888,\"#fdca26\"],[1.0,\"#f0f921\"]]}],\"heatmap\":[{\"type\":\"heatmap\",\"colorbar\":{\"outlinewidth\":0,\"ticks\":\"\"},\"colorscale\":[[0.0,\"#0d0887\"],[0.1111111111111111,\"#46039f\"],[0.2222222222222222,\"#7201a8\"],[0.3333333333333333,\"#9c179e\"],[0.4444444444444444,\"#bd3786\"],[0.5555555555555556,\"#d8576b\"],[0.6666666666666666,\"#ed7953\"],[0.7777777777777778,\"#fb9f3a\"],[0.8888888888888888,\"#fdca26\"],[1.0,\"#f0f921\"]]}],\"heatmapgl\":[{\"type\":\"heatmapgl\",\"colorbar\":{\"outlinewidth\":0,\"ticks\":\"\"},\"colorscale\":[[0.0,\"#0d0887\"],[0.1111111111111111,\"#46039f\"],[0.2222222222222222,\"#7201a8\"],[0.3333333333333333,\"#9c179e\"],[0.4444444444444444,\"#bd3786\"],[0.5555555555555556,\"#d8576b\"],[0.6666666666666666,\"#ed7953\"],[0.7777777777777778,\"#fb9f3a\"],[0.8888888888888888,\"#fdca26\"],[1.0,\"#f0f921\"]]}],\"contourcarpet\":[{\"type\":\"contourcarpet\",\"colorbar\":{\"outlinewidth\":0,\"ticks\":\"\"}}],\"contour\":[{\"type\":\"contour\",\"colorbar\":{\"outlinewidth\":0,\"ticks\":\"\"},\"colorscale\":[[0.0,\"#0d0887\"],[0.1111111111111111,\"#46039f\"],[0.2222222222222222,\"#7201a8\"],[0.3333333333333333,\"#9c179e\"],[0.4444444444444444,\"#bd3786\"],[0.5555555555555556,\"#d8576b\"],[0.6666666666666666,\"#ed7953\"],[0.7777777777777778,\"#fb9f3a\"],[0.8888888888888888,\"#fdca26\"],[1.0,\"#f0f921\"]]}],\"surface\":[{\"type\":\"surface\",\"colorbar\":{\"outlinewidth\":0,\"ticks\":\"\"},\"colorscale\":[[0.0,\"#0d0887\"],[0.1111111111111111,\"#46039f\"],[0.2222222222222222,\"#7201a8\"],[0.3333333333333333,\"#9c179e\"],[0.4444444444444444,\"#bd3786\"],[0.5555555555555556,\"#d8576b\"],[0.6666666666666666,\"#ed7953\"],[0.7777777777777778,\"#fb9f3a\"],[0.8888888888888888,\"#fdca26\"],[1.0,\"#f0f921\"]]}],\"mesh3d\":[{\"type\":\"mesh3d\",\"colorbar\":{\"outlinewidth\":0,\"ticks\":\"\"}}],\"scatter\":[{\"fillpattern\":{\"fillmode\":\"overlay\",\"size\":10,\"solidity\":0.2},\"type\":\"scatter\"}],\"parcoords\":[{\"type\":\"parcoords\",\"line\":{\"colorbar\":{\"outlinewidth\":0,\"ticks\":\"\"}}}],\"scatterpolargl\":[{\"type\":\"scatterpolargl\",\"marker\":{\"colorbar\":{\"outlinewidth\":0,\"ticks\":\"\"}}}],\"bar\":[{\"error_x\":{\"color\":\"#2a3f5f\"},\"error_y\":{\"color\":\"#2a3f5f\"},\"marker\":{\"line\":{\"color\":\"#E5ECF6\",\"width\":0.5},\"pattern\":{\"fillmode\":\"overlay\",\"size\":10,\"solidity\":0.2}},\"type\":\"bar\"}],\"scattergeo\":[{\"type\":\"scattergeo\",\"marker\":{\"colorbar\":{\"outlinewidth\":0,\"ticks\":\"\"}}}],\"scatterpolar\":[{\"type\":\"scatterpolar\",\"marker\":{\"colorbar\":{\"outlinewidth\":0,\"ticks\":\"\"}}}],\"histogram\":[{\"marker\":{\"pattern\":{\"fillmode\":\"overlay\",\"size\":10,\"solidity\":0.2}},\"type\":\"histogram\"}],\"scattergl\":[{\"type\":\"scattergl\",\"marker\":{\"colorbar\":{\"outlinewidth\":0,\"ticks\":\"\"}}}],\"scatter3d\":[{\"type\":\"scatter3d\",\"line\":{\"colorbar\":{\"outlinewidth\":0,\"ticks\":\"\"}},\"marker\":{\"colorbar\":{\"outlinewidth\":0,\"ticks\":\"\"}}}],\"scattermapbox\":[{\"type\":\"scattermapbox\",\"marker\":{\"colorbar\":{\"outlinewidth\":0,\"ticks\":\"\"}}}],\"scatterternary\":[{\"type\":\"scatterternary\",\"marker\":{\"colorbar\":{\"outlinewidth\":0,\"ticks\":\"\"}}}],\"scattercarpet\":[{\"type\":\"scattercarpet\",\"marker\":{\"colorbar\":{\"outlinewidth\":0,\"ticks\":\"\"}}}],\"carpet\":[{\"aaxis\":{\"endlinecolor\":\"#2a3f5f\",\"gridcolor\":\"white\",\"linecolor\":\"white\",\"minorgridcolor\":\"white\",\"startlinecolor\":\"#2a3f5f\"},\"baxis\":{\"endlinecolor\":\"#2a3f5f\",\"gridcolor\":\"white\",\"linecolor\":\"white\",\"minorgridcolor\":\"white\",\"startlinecolor\":\"#2a3f5f\"},\"type\":\"carpet\"}],\"table\":[{\"cells\":{\"fill\":{\"color\":\"#EBF0F8\"},\"line\":{\"color\":\"white\"}},\"header\":{\"fill\":{\"color\":\"#C8D4E3\"},\"line\":{\"color\":\"white\"}},\"type\":\"table\"}],\"barpolar\":[{\"marker\":{\"line\":{\"color\":\"#E5ECF6\",\"width\":0.5},\"pattern\":{\"fillmode\":\"overlay\",\"size\":10,\"solidity\":0.2}},\"type\":\"barpolar\"}],\"pie\":[{\"automargin\":true,\"type\":\"pie\"}]},\"layout\":{\"autotypenumbers\":\"strict\",\"colorway\":[\"#636efa\",\"#EF553B\",\"#00cc96\",\"#ab63fa\",\"#FFA15A\",\"#19d3f3\",\"#FF6692\",\"#B6E880\",\"#FF97FF\",\"#FECB52\"],\"font\":{\"color\":\"#2a3f5f\"},\"hovermode\":\"closest\",\"hoverlabel\":{\"align\":\"left\"},\"paper_bgcolor\":\"white\",\"plot_bgcolor\":\"#E5ECF6\",\"polar\":{\"bgcolor\":\"#E5ECF6\",\"angularaxis\":{\"gridcolor\":\"white\",\"linecolor\":\"white\",\"ticks\":\"\"},\"radialaxis\":{\"gridcolor\":\"white\",\"linecolor\":\"white\",\"ticks\":\"\"}},\"ternary\":{\"bgcolor\":\"#E5ECF6\",\"aaxis\":{\"gridcolor\":\"white\",\"linecolor\":\"white\",\"ticks\":\"\"},\"baxis\":{\"gridcolor\":\"white\",\"linecolor\":\"white\",\"ticks\":\"\"},\"caxis\":{\"gridcolor\":\"white\",\"linecolor\":\"white\",\"ticks\":\"\"}},\"coloraxis\":{\"colorbar\":{\"outlinewidth\":0,\"ticks\":\"\"}},\"colorscale\":{\"sequential\":[[0.0,\"#0d0887\"],[0.1111111111111111,\"#46039f\"],[0.2222222222222222,\"#7201a8\"],[0.3333333333333333,\"#9c179e\"],[0.4444444444444444,\"#bd3786\"],[0.5555555555555556,\"#d8576b\"],[0.6666666666666666,\"#ed7953\"],[0.7777777777777778,\"#fb9f3a\"],[0.8888888888888888,\"#fdca26\"],[1.0,\"#f0f921\"]],\"sequentialminus\":[[0.0,\"#0d0887\"],[0.1111111111111111,\"#46039f\"],[0.2222222222222222,\"#7201a8\"],[0.3333333333333333,\"#9c179e\"],[0.4444444444444444,\"#bd3786\"],[0.5555555555555556,\"#d8576b\"],[0.6666666666666666,\"#ed7953\"],[0.7777777777777778,\"#fb9f3a\"],[0.8888888888888888,\"#fdca26\"],[1.0,\"#f0f921\"]],\"diverging\":[[0,\"#8e0152\"],[0.1,\"#c51b7d\"],[0.2,\"#de77ae\"],[0.3,\"#f1b6da\"],[0.4,\"#fde0ef\"],[0.5,\"#f7f7f7\"],[0.6,\"#e6f5d0\"],[0.7,\"#b8e186\"],[0.8,\"#7fbc41\"],[0.9,\"#4d9221\"],[1,\"#276419\"]]},\"xaxis\":{\"gridcolor\":\"white\",\"linecolor\":\"white\",\"ticks\":\"\",\"title\":{\"standoff\":15},\"zerolinecolor\":\"white\",\"automargin\":true,\"zerolinewidth\":2},\"yaxis\":{\"gridcolor\":\"white\",\"linecolor\":\"white\",\"ticks\":\"\",\"title\":{\"standoff\":15},\"zerolinecolor\":\"white\",\"automargin\":true,\"zerolinewidth\":2},\"scene\":{\"xaxis\":{\"backgroundcolor\":\"#E5ECF6\",\"gridcolor\":\"white\",\"linecolor\":\"white\",\"showbackground\":true,\"ticks\":\"\",\"zerolinecolor\":\"white\",\"gridwidth\":2},\"yaxis\":{\"backgroundcolor\":\"#E5ECF6\",\"gridcolor\":\"white\",\"linecolor\":\"white\",\"showbackground\":true,\"ticks\":\"\",\"zerolinecolor\":\"white\",\"gridwidth\":2},\"zaxis\":{\"backgroundcolor\":\"#E5ECF6\",\"gridcolor\":\"white\",\"linecolor\":\"white\",\"showbackground\":true,\"ticks\":\"\",\"zerolinecolor\":\"white\",\"gridwidth\":2}},\"shapedefaults\":{\"line\":{\"color\":\"#2a3f5f\"}},\"annotationdefaults\":{\"arrowcolor\":\"#2a3f5f\",\"arrowhead\":0,\"arrowwidth\":1},\"geo\":{\"bgcolor\":\"white\",\"landcolor\":\"#E5ECF6\",\"subunitcolor\":\"white\",\"showland\":true,\"showlakes\":true,\"lakecolor\":\"white\"},\"title\":{\"x\":0.05},\"mapbox\":{\"style\":\"light\"}}},\"xaxis\":{\"anchor\":\"y\",\"domain\":[0.0,1.0],\"title\":{\"text\":\"N_Sample\"}},\"yaxis\":{\"anchor\":\"x\",\"domain\":[0.0,1.0],\"title\":{\"text\":\"value\"}},\"legend\":{\"title\":{\"text\":\"variable\"},\"tracegroupgap\":0},\"title\":{\"text\":\"Logistic reg change in accuracy over number of observations (Noise Level 0.1)\"}},                        {\"responsive\": true}                    ).then(function(){\n",
       "                            \n",
       "var gd = document.getElementById('dc9feba4-7404-497d-b98e-41c49e0d02a1');\n",
       "var x = new MutationObserver(function (mutations, observer) {{\n",
       "        var display = window.getComputedStyle(gd).display;\n",
       "        if (!display || display === 'none') {{\n",
       "            console.log([gd, 'removed!']);\n",
       "            Plotly.purge(gd);\n",
       "            observer.disconnect();\n",
       "        }}\n",
       "}});\n",
       "\n",
       "// Listen for the removal of the full notebook cells\n",
       "var notebookContainer = gd.closest('#notebook-container');\n",
       "if (notebookContainer) {{\n",
       "    x.observe(notebookContainer, {childList: true});\n",
       "}}\n",
       "\n",
       "// Listen for the clearing of the current output cell\n",
       "var outputEl = gd.closest('.output');\n",
       "if (outputEl) {{\n",
       "    x.observe(outputEl, {childList: true});\n",
       "}}\n",
       "\n",
       "                        })                };                });            </script>        </div>"
      ]
     },
     "metadata": {},
     "output_type": "display_data"
    }
   ],
   "source": [
    "########### Q4\n",
    "\n",
    "by_noise = results.groupby([\"N_Sample\",\"Noise_Level\"]).mean()\n",
    "by_noise = by_noise.reset_index() \n",
    "px.line(by_noise.query(\"Noise_Level == 0.1\"),x = \"N_Sample\", y = ['TrainScore','TestScore'],title = \"Logistic reg change in accuracy over number of observations (Noise Level 0.1)\")"
   ]
  },
  {
   "cell_type": "code",
   "execution_count": 40,
   "id": "8374900f-e3cd-4be9-b81d-a3308f739dd5",
   "metadata": {},
   "outputs": [
    {
     "data": {
      "application/vnd.jupyter.widget-view+json": {
       "model_id": "b4dcfe86aa0142888cf52ec9a2c932a5",
       "version_major": 2,
       "version_minor": 0
      },
      "text/plain": [
       "interactive(children=(FloatSlider(value=0.0, description='noise_level', max=0.5), Output()), _dom_classes=('wi…"
      ]
     },
     "metadata": {},
     "output_type": "display_data"
    }
   ],
   "source": [
    "@widgets.interact\n",
    "def plot_noisy_result(noise_level = widgets.FloatSlider(value=0, min=0.0, max=0.5, step=0.1)):\n",
    "    by_noise = results.groupby([\"N_Sample\",\"Noise_Level\"]).mean()\n",
    "    by_noise = by_noise.reset_index() \n",
    "    query_string = f\"Noise_Level == {noise_level}\"\n",
    "    return px.line(by_noise.query(query_string),x = \"N_Sample\", y = ['TrainScore','TestScore','diffScore'],title = \"Logistic reg change in accuracy over number of observations (Noise Level 0.1)\")\n"
   ]
  },
  {
   "cell_type": "code",
   "execution_count": 41,
   "id": "e13f8b76-64c3-468c-aed5-ca7feec1c183",
   "metadata": {},
   "outputs": [],
   "source": [
    "import numpy as np\n",
    "import pandas as pd\n",
    "from sklearn.datasets import make_moons,make_circles\n",
    "from sklearn.model_selection import train_test_split, GridSearchCV\n",
    "from sklearn.ensemble import RandomForestClassifier\n",
    "from sklearn.linear_model import LogisticRegression\n",
    "from sklearn.svm import SVC\n",
    "from sklearn.metrics import accuracy_score\n",
    "\n",
    "\n",
    "def generate_data(n, noise_level, ds_name):\n",
    "    if ds_name == \"moons\":\n",
    "        X, y = make_moons(n_samples=n, noise=noise_level, random_state=42)\n",
    "    elif ds_name == \"circles\":  \n",
    "        X, y = make_circles(n_samples=n, noise=noise_level, random_state=42)\n",
    "    else:\n",
    "        print(\"Invalid dataset name\")\n",
    "        return None\n",
    "    return X, y\n",
    "\n",
    "\n",
    "\n",
    "def split_data(X, y):\n",
    "    X_train, X_val, y_train, y_val = train_test_split(X, y, test_size=0.2, random_state=42)\n",
    "    return X_train, X_val, y_train, y_val\n",
    "\n",
    "\n",
    "def optimize_model(X_train, y_train, X_val, y_val, clf_name):\n",
    "    if clf_name == 'svm':\n",
    "        param_grid = {'C': [0.1, 1, 10], 'gamma': [0.1, 1, 10]}\n",
    "        clf = SVC(kernel='rbf')\n",
    "    elif clf_name == 'logistic':\n",
    "        param_grid = {'C': [0.1, 1, 10]}\n",
    "        clf = LogisticRegression()\n",
    "    elif clf_name == 'randomforest':\n",
    "        param_grid = {'n_estimators': [50, 100, 200], 'max_depth': [5, 10, 15]}\n",
    "        clf = RandomForestClassifier()  \n",
    "\n",
    "    else:\n",
    "        print(\"Invalid classifier name\")\n",
    "        return None\n",
    "    \n",
    "    grid_search = GridSearchCV(clf, param_grid, cv=5, n_jobs=-1)\n",
    "    grid_search.fit(X_train, y_train)\n",
    "    \n",
    "    best_params = grid_search.best_params_\n",
    "    best_clf = grid_search.best_estimator_\n",
    "    \n",
    "    tre = accuracy_score(y_train, best_clf.predict(X_train))\n",
    "    teste = accuracy_score(y_val, best_clf.predict(X_val))\n",
    "    e_diff = abs(tre - teste)\n",
    "    \n",
    "    if clf_name == 'svm':\n",
    "            results = {'DS_NAME': ds, 'N': X_train.shape[0], 'NL': nl,\n",
    "               'CLF_NAME': clf_name, 'K': 'rbf', 'TRE': tre, 'TESTE': teste, 'E_DIFF': e_diff,\n",
    "               'Hyper_Parameters': str(best_params)}\n",
    "    else:\n",
    "        results = {'DS_NAME': ds, 'N': X_train.shape[0], 'NL': nl,\n",
    "               'CLF_NAME': clf_name, 'K': '-', 'TRE': tre, 'TESTE': teste, 'E_DIFF': e_diff,\n",
    "               'Hyper_Parameters': str(best_params)}\n",
    "        \n",
    "        \n",
    "\n",
    "    \n",
    "    return results\n",
    "\n",
    "\n",
    "# loop over different noise levels and sample sizes\n",
    "noise_levels = [0, 0.1, 0.2, 0.3, 0.4, 0.5]\n",
    "sample_sizes = [100, 500, 1000,10000]\n",
    "ds_names=['moons','circles']\n",
    "results = []\n",
    "clf_names=['svm','logistic','randomforest']\n",
    "\n",
    "for ds in ds_names:\n",
    "    for nl in noise_levels:\n",
    "        for n in sample_sizes:\n",
    "            X, y = generate_data(n, nl,ds)\n",
    "            X_train, X_val, y_train, y_val = split_data(X, y)\n",
    "            \n",
    "            for clf_name in clf_names:\n",
    "                clf_results = optimize_model(X_train, y_train, X_val, y_val, clf_name)\n",
    "                results.append(clf_results)\n",
    "\n",
    "\n",
    "# save results as a pandas dataframe\n",
    "df = pd.DataFrame(results)\n",
    "df_sorted = df.sort_values(by=['E_DIFF', 'TESTE'], ascending=True)\n",
    "df_sorted.to_csv('results.csv', index=False)"
   ]
  },
  {
   "cell_type": "code",
   "execution_count": 42,
   "id": "b8e53a34-3550-41d7-be16-31b29f2b979d",
   "metadata": {},
   "outputs": [],
   "source": [
    "# df_filtered = df[(df['N'] == 8000) & (df['CLF_NAME'] == 'svm')].sort_values(by=['E_DIFF', 'TESTE'], ascending=True)"
   ]
  },
  {
   "cell_type": "code",
   "execution_count": 56,
   "id": "01f7cd1f-13db-45ef-a102-a15dce0f0653",
   "metadata": {},
   "outputs": [],
   "source": [
    "df_filtered = df[(df['CLF_NAME'] == 'svm')].sort_values(by=['E_DIFF', 'TESTE'], ascending=True)"
   ]
  },
  {
   "cell_type": "code",
   "execution_count": 57,
   "id": "4cec05e4-564b-43e1-9cc9-442acbabfc19",
   "metadata": {},
   "outputs": [
    {
     "data": {
      "text/html": [
       "<div>\n",
       "<style scoped>\n",
       "    .dataframe tbody tr th:only-of-type {\n",
       "        vertical-align: middle;\n",
       "    }\n",
       "\n",
       "    .dataframe tbody tr th {\n",
       "        vertical-align: top;\n",
       "    }\n",
       "\n",
       "    .dataframe thead th {\n",
       "        text-align: right;\n",
       "    }\n",
       "</style>\n",
       "<table border=\"1\" class=\"dataframe\">\n",
       "  <thead>\n",
       "    <tr style=\"text-align: right;\">\n",
       "      <th></th>\n",
       "      <th>DS_NAME</th>\n",
       "      <th>N</th>\n",
       "      <th>NL</th>\n",
       "      <th>CLF_NAME</th>\n",
       "      <th>K</th>\n",
       "      <th>TRE</th>\n",
       "      <th>TESTE</th>\n",
       "      <th>E_DIFF</th>\n",
       "      <th>Hyper_Parameters</th>\n",
       "    </tr>\n",
       "  </thead>\n",
       "  <tbody>\n",
       "    <tr>\n",
       "      <th>0</th>\n",
       "      <td>moons</td>\n",
       "      <td>80</td>\n",
       "      <td>0.0</td>\n",
       "      <td>svm</td>\n",
       "      <td>rbf</td>\n",
       "      <td>1.000000</td>\n",
       "      <td>1.0000</td>\n",
       "      <td>0.000000</td>\n",
       "      <td>{'C': 1, 'gamma': 1}</td>\n",
       "    </tr>\n",
       "    <tr>\n",
       "      <th>3</th>\n",
       "      <td>moons</td>\n",
       "      <td>400</td>\n",
       "      <td>0.0</td>\n",
       "      <td>svm</td>\n",
       "      <td>rbf</td>\n",
       "      <td>1.000000</td>\n",
       "      <td>1.0000</td>\n",
       "      <td>0.000000</td>\n",
       "      <td>{'C': 0.1, 'gamma': 10}</td>\n",
       "    </tr>\n",
       "    <tr>\n",
       "      <th>6</th>\n",
       "      <td>moons</td>\n",
       "      <td>800</td>\n",
       "      <td>0.0</td>\n",
       "      <td>svm</td>\n",
       "      <td>rbf</td>\n",
       "      <td>1.000000</td>\n",
       "      <td>1.0000</td>\n",
       "      <td>0.000000</td>\n",
       "      <td>{'C': 0.1, 'gamma': 1}</td>\n",
       "    </tr>\n",
       "    <tr>\n",
       "      <th>9</th>\n",
       "      <td>moons</td>\n",
       "      <td>8000</td>\n",
       "      <td>0.0</td>\n",
       "      <td>svm</td>\n",
       "      <td>rbf</td>\n",
       "      <td>1.000000</td>\n",
       "      <td>1.0000</td>\n",
       "      <td>0.000000</td>\n",
       "      <td>{'C': 0.1, 'gamma': 1}</td>\n",
       "    </tr>\n",
       "    <tr>\n",
       "      <th>12</th>\n",
       "      <td>moons</td>\n",
       "      <td>80</td>\n",
       "      <td>0.1</td>\n",
       "      <td>svm</td>\n",
       "      <td>rbf</td>\n",
       "      <td>1.000000</td>\n",
       "      <td>1.0000</td>\n",
       "      <td>0.000000</td>\n",
       "      <td>{'C': 1, 'gamma': 10}</td>\n",
       "    </tr>\n",
       "    <tr>\n",
       "      <th>15</th>\n",
       "      <td>moons</td>\n",
       "      <td>400</td>\n",
       "      <td>0.1</td>\n",
       "      <td>svm</td>\n",
       "      <td>rbf</td>\n",
       "      <td>1.000000</td>\n",
       "      <td>1.0000</td>\n",
       "      <td>0.000000</td>\n",
       "      <td>{'C': 0.1, 'gamma': 10}</td>\n",
       "    </tr>\n",
       "    <tr>\n",
       "      <th>18</th>\n",
       "      <td>moons</td>\n",
       "      <td>800</td>\n",
       "      <td>0.1</td>\n",
       "      <td>svm</td>\n",
       "      <td>rbf</td>\n",
       "      <td>1.000000</td>\n",
       "      <td>1.0000</td>\n",
       "      <td>0.000000</td>\n",
       "      <td>{'C': 10, 'gamma': 1}</td>\n",
       "    </tr>\n",
       "    <tr>\n",
       "      <th>72</th>\n",
       "      <td>circles</td>\n",
       "      <td>80</td>\n",
       "      <td>0.0</td>\n",
       "      <td>svm</td>\n",
       "      <td>rbf</td>\n",
       "      <td>1.000000</td>\n",
       "      <td>1.0000</td>\n",
       "      <td>0.000000</td>\n",
       "      <td>{'C': 1, 'gamma': 10}</td>\n",
       "    </tr>\n",
       "    <tr>\n",
       "      <th>75</th>\n",
       "      <td>circles</td>\n",
       "      <td>400</td>\n",
       "      <td>0.0</td>\n",
       "      <td>svm</td>\n",
       "      <td>rbf</td>\n",
       "      <td>1.000000</td>\n",
       "      <td>1.0000</td>\n",
       "      <td>0.000000</td>\n",
       "      <td>{'C': 1, 'gamma': 1}</td>\n",
       "    </tr>\n",
       "    <tr>\n",
       "      <th>78</th>\n",
       "      <td>circles</td>\n",
       "      <td>800</td>\n",
       "      <td>0.0</td>\n",
       "      <td>svm</td>\n",
       "      <td>rbf</td>\n",
       "      <td>1.000000</td>\n",
       "      <td>1.0000</td>\n",
       "      <td>0.000000</td>\n",
       "      <td>{'C': 0.1, 'gamma': 10}</td>\n",
       "    </tr>\n",
       "    <tr>\n",
       "      <th>81</th>\n",
       "      <td>circles</td>\n",
       "      <td>8000</td>\n",
       "      <td>0.0</td>\n",
       "      <td>svm</td>\n",
       "      <td>rbf</td>\n",
       "      <td>1.000000</td>\n",
       "      <td>1.0000</td>\n",
       "      <td>0.000000</td>\n",
       "      <td>{'C': 0.1, 'gamma': 1}</td>\n",
       "    </tr>\n",
       "    <tr>\n",
       "      <th>21</th>\n",
       "      <td>moons</td>\n",
       "      <td>8000</td>\n",
       "      <td>0.1</td>\n",
       "      <td>svm</td>\n",
       "      <td>rbf</td>\n",
       "      <td>0.999500</td>\n",
       "      <td>0.9985</td>\n",
       "      <td>0.001000</td>\n",
       "      <td>{'C': 1, 'gamma': 10}</td>\n",
       "    </tr>\n",
       "    <tr>\n",
       "      <th>33</th>\n",
       "      <td>moons</td>\n",
       "      <td>8000</td>\n",
       "      <td>0.2</td>\n",
       "      <td>svm</td>\n",
       "      <td>rbf</td>\n",
       "      <td>0.973125</td>\n",
       "      <td>0.9760</td>\n",
       "      <td>0.002875</td>\n",
       "      <td>{'C': 10, 'gamma': 1}</td>\n",
       "    </tr>\n",
       "    <tr>\n",
       "      <th>57</th>\n",
       "      <td>moons</td>\n",
       "      <td>8000</td>\n",
       "      <td>0.4</td>\n",
       "      <td>svm</td>\n",
       "      <td>rbf</td>\n",
       "      <td>0.865625</td>\n",
       "      <td>0.8685</td>\n",
       "      <td>0.002875</td>\n",
       "      <td>{'C': 1, 'gamma': 10}</td>\n",
       "    </tr>\n",
       "    <tr>\n",
       "      <th>30</th>\n",
       "      <td>moons</td>\n",
       "      <td>800</td>\n",
       "      <td>0.2</td>\n",
       "      <td>svm</td>\n",
       "      <td>rbf</td>\n",
       "      <td>0.973750</td>\n",
       "      <td>0.9800</td>\n",
       "      <td>0.006250</td>\n",
       "      <td>{'C': 1, 'gamma': 10}</td>\n",
       "    </tr>\n",
       "    <tr>\n",
       "      <th>42</th>\n",
       "      <td>moons</td>\n",
       "      <td>800</td>\n",
       "      <td>0.3</td>\n",
       "      <td>svm</td>\n",
       "      <td>rbf</td>\n",
       "      <td>0.923750</td>\n",
       "      <td>0.9300</td>\n",
       "      <td>0.006250</td>\n",
       "      <td>{'C': 1, 'gamma': 10}</td>\n",
       "    </tr>\n",
       "    <tr>\n",
       "      <th>93</th>\n",
       "      <td>circles</td>\n",
       "      <td>8000</td>\n",
       "      <td>0.1</td>\n",
       "      <td>svm</td>\n",
       "      <td>rbf</td>\n",
       "      <td>0.837625</td>\n",
       "      <td>0.8310</td>\n",
       "      <td>0.006625</td>\n",
       "      <td>{'C': 1, 'gamma': 0.1}</td>\n",
       "    </tr>\n",
       "    <tr>\n",
       "      <th>69</th>\n",
       "      <td>moons</td>\n",
       "      <td>8000</td>\n",
       "      <td>0.5</td>\n",
       "      <td>svm</td>\n",
       "      <td>rbf</td>\n",
       "      <td>0.821125</td>\n",
       "      <td>0.8285</td>\n",
       "      <td>0.007375</td>\n",
       "      <td>{'C': 10, 'gamma': 0.1}</td>\n",
       "    </tr>\n",
       "    <tr>\n",
       "      <th>45</th>\n",
       "      <td>moons</td>\n",
       "      <td>8000</td>\n",
       "      <td>0.3</td>\n",
       "      <td>svm</td>\n",
       "      <td>rbf</td>\n",
       "      <td>0.918375</td>\n",
       "      <td>0.9270</td>\n",
       "      <td>0.008625</td>\n",
       "      <td>{'C': 1, 'gamma': 1}</td>\n",
       "    </tr>\n",
       "    <tr>\n",
       "      <th>84</th>\n",
       "      <td>circles</td>\n",
       "      <td>80</td>\n",
       "      <td>0.1</td>\n",
       "      <td>svm</td>\n",
       "      <td>rbf</td>\n",
       "      <td>0.837500</td>\n",
       "      <td>0.8500</td>\n",
       "      <td>0.012500</td>\n",
       "      <td>{'C': 10, 'gamma': 1}</td>\n",
       "    </tr>\n",
       "    <tr>\n",
       "      <th>27</th>\n",
       "      <td>moons</td>\n",
       "      <td>400</td>\n",
       "      <td>0.2</td>\n",
       "      <td>svm</td>\n",
       "      <td>rbf</td>\n",
       "      <td>0.982500</td>\n",
       "      <td>0.9700</td>\n",
       "      <td>0.012500</td>\n",
       "      <td>{'C': 0.1, 'gamma': 10}</td>\n",
       "    </tr>\n",
       "    <tr>\n",
       "      <th>54</th>\n",
       "      <td>moons</td>\n",
       "      <td>800</td>\n",
       "      <td>0.4</td>\n",
       "      <td>svm</td>\n",
       "      <td>rbf</td>\n",
       "      <td>0.865000</td>\n",
       "      <td>0.8500</td>\n",
       "      <td>0.015000</td>\n",
       "      <td>{'C': 10, 'gamma': 1}</td>\n",
       "    </tr>\n",
       "    <tr>\n",
       "      <th>129</th>\n",
       "      <td>circles</td>\n",
       "      <td>8000</td>\n",
       "      <td>0.4</td>\n",
       "      <td>svm</td>\n",
       "      <td>rbf</td>\n",
       "      <td>0.594125</td>\n",
       "      <td>0.5785</td>\n",
       "      <td>0.015625</td>\n",
       "      <td>{'C': 0.1, 'gamma': 1}</td>\n",
       "    </tr>\n",
       "    <tr>\n",
       "      <th>141</th>\n",
       "      <td>circles</td>\n",
       "      <td>8000</td>\n",
       "      <td>0.5</td>\n",
       "      <td>svm</td>\n",
       "      <td>rbf</td>\n",
       "      <td>0.575250</td>\n",
       "      <td>0.5585</td>\n",
       "      <td>0.016750</td>\n",
       "      <td>{'C': 10, 'gamma': 0.1}</td>\n",
       "    </tr>\n",
       "    <tr>\n",
       "      <th>117</th>\n",
       "      <td>circles</td>\n",
       "      <td>8000</td>\n",
       "      <td>0.3</td>\n",
       "      <td>svm</td>\n",
       "      <td>rbf</td>\n",
       "      <td>0.629625</td>\n",
       "      <td>0.6125</td>\n",
       "      <td>0.017125</td>\n",
       "      <td>{'C': 10, 'gamma': 1}</td>\n",
       "    </tr>\n",
       "    <tr>\n",
       "      <th>99</th>\n",
       "      <td>circles</td>\n",
       "      <td>400</td>\n",
       "      <td>0.2</td>\n",
       "      <td>svm</td>\n",
       "      <td>rbf</td>\n",
       "      <td>0.667500</td>\n",
       "      <td>0.6500</td>\n",
       "      <td>0.017500</td>\n",
       "      <td>{'C': 10, 'gamma': 0.1}</td>\n",
       "    </tr>\n",
       "    <tr>\n",
       "      <th>105</th>\n",
       "      <td>circles</td>\n",
       "      <td>8000</td>\n",
       "      <td>0.2</td>\n",
       "      <td>svm</td>\n",
       "      <td>rbf</td>\n",
       "      <td>0.692125</td>\n",
       "      <td>0.6720</td>\n",
       "      <td>0.020125</td>\n",
       "      <td>{'C': 1, 'gamma': 1}</td>\n",
       "    </tr>\n",
       "    <tr>\n",
       "      <th>66</th>\n",
       "      <td>moons</td>\n",
       "      <td>800</td>\n",
       "      <td>0.5</td>\n",
       "      <td>svm</td>\n",
       "      <td>rbf</td>\n",
       "      <td>0.831250</td>\n",
       "      <td>0.8050</td>\n",
       "      <td>0.026250</td>\n",
       "      <td>{'C': 10, 'gamma': 1}</td>\n",
       "    </tr>\n",
       "    <tr>\n",
       "      <th>87</th>\n",
       "      <td>circles</td>\n",
       "      <td>400</td>\n",
       "      <td>0.1</td>\n",
       "      <td>svm</td>\n",
       "      <td>rbf</td>\n",
       "      <td>0.817500</td>\n",
       "      <td>0.8500</td>\n",
       "      <td>0.032500</td>\n",
       "      <td>{'C': 10, 'gamma': 1}</td>\n",
       "    </tr>\n",
       "    <tr>\n",
       "      <th>135</th>\n",
       "      <td>circles</td>\n",
       "      <td>400</td>\n",
       "      <td>0.5</td>\n",
       "      <td>svm</td>\n",
       "      <td>rbf</td>\n",
       "      <td>0.577500</td>\n",
       "      <td>0.5400</td>\n",
       "      <td>0.037500</td>\n",
       "      <td>{'C': 1, 'gamma': 0.1}</td>\n",
       "    </tr>\n",
       "    <tr>\n",
       "      <th>24</th>\n",
       "      <td>moons</td>\n",
       "      <td>80</td>\n",
       "      <td>0.2</td>\n",
       "      <td>svm</td>\n",
       "      <td>rbf</td>\n",
       "      <td>0.962500</td>\n",
       "      <td>1.0000</td>\n",
       "      <td>0.037500</td>\n",
       "      <td>{'C': 1, 'gamma': 10}</td>\n",
       "    </tr>\n",
       "    <tr>\n",
       "      <th>63</th>\n",
       "      <td>moons</td>\n",
       "      <td>400</td>\n",
       "      <td>0.5</td>\n",
       "      <td>svm</td>\n",
       "      <td>rbf</td>\n",
       "      <td>0.840000</td>\n",
       "      <td>0.8000</td>\n",
       "      <td>0.040000</td>\n",
       "      <td>{'C': 0.1, 'gamma': 1}</td>\n",
       "    </tr>\n",
       "    <tr>\n",
       "      <th>39</th>\n",
       "      <td>moons</td>\n",
       "      <td>400</td>\n",
       "      <td>0.3</td>\n",
       "      <td>svm</td>\n",
       "      <td>rbf</td>\n",
       "      <td>0.927500</td>\n",
       "      <td>0.8800</td>\n",
       "      <td>0.047500</td>\n",
       "      <td>{'C': 1, 'gamma': 1}</td>\n",
       "    </tr>\n",
       "    <tr>\n",
       "      <th>60</th>\n",
       "      <td>moons</td>\n",
       "      <td>80</td>\n",
       "      <td>0.5</td>\n",
       "      <td>svm</td>\n",
       "      <td>rbf</td>\n",
       "      <td>0.850000</td>\n",
       "      <td>0.9000</td>\n",
       "      <td>0.050000</td>\n",
       "      <td>{'C': 1, 'gamma': 1}</td>\n",
       "    </tr>\n",
       "    <tr>\n",
       "      <th>111</th>\n",
       "      <td>circles</td>\n",
       "      <td>400</td>\n",
       "      <td>0.3</td>\n",
       "      <td>svm</td>\n",
       "      <td>rbf</td>\n",
       "      <td>0.632500</td>\n",
       "      <td>0.5700</td>\n",
       "      <td>0.062500</td>\n",
       "      <td>{'C': 10, 'gamma': 0.1}</td>\n",
       "    </tr>\n",
       "    <tr>\n",
       "      <th>51</th>\n",
       "      <td>moons</td>\n",
       "      <td>400</td>\n",
       "      <td>0.4</td>\n",
       "      <td>svm</td>\n",
       "      <td>rbf</td>\n",
       "      <td>0.872500</td>\n",
       "      <td>0.8100</td>\n",
       "      <td>0.062500</td>\n",
       "      <td>{'C': 1, 'gamma': 1}</td>\n",
       "    </tr>\n",
       "    <tr>\n",
       "      <th>123</th>\n",
       "      <td>circles</td>\n",
       "      <td>400</td>\n",
       "      <td>0.4</td>\n",
       "      <td>svm</td>\n",
       "      <td>rbf</td>\n",
       "      <td>0.602500</td>\n",
       "      <td>0.5300</td>\n",
       "      <td>0.072500</td>\n",
       "      <td>{'C': 10, 'gamma': 0.1}</td>\n",
       "    </tr>\n",
       "    <tr>\n",
       "      <th>126</th>\n",
       "      <td>circles</td>\n",
       "      <td>800</td>\n",
       "      <td>0.4</td>\n",
       "      <td>svm</td>\n",
       "      <td>rbf</td>\n",
       "      <td>0.603750</td>\n",
       "      <td>0.5200</td>\n",
       "      <td>0.083750</td>\n",
       "      <td>{'C': 1, 'gamma': 0.1}</td>\n",
       "    </tr>\n",
       "    <tr>\n",
       "      <th>48</th>\n",
       "      <td>moons</td>\n",
       "      <td>80</td>\n",
       "      <td>0.4</td>\n",
       "      <td>svm</td>\n",
       "      <td>rbf</td>\n",
       "      <td>0.862500</td>\n",
       "      <td>0.9500</td>\n",
       "      <td>0.087500</td>\n",
       "      <td>{'C': 1, 'gamma': 1}</td>\n",
       "    </tr>\n",
       "    <tr>\n",
       "      <th>138</th>\n",
       "      <td>circles</td>\n",
       "      <td>800</td>\n",
       "      <td>0.5</td>\n",
       "      <td>svm</td>\n",
       "      <td>rbf</td>\n",
       "      <td>0.583750</td>\n",
       "      <td>0.4800</td>\n",
       "      <td>0.103750</td>\n",
       "      <td>{'C': 10, 'gamma': 0.1}</td>\n",
       "    </tr>\n",
       "    <tr>\n",
       "      <th>90</th>\n",
       "      <td>circles</td>\n",
       "      <td>800</td>\n",
       "      <td>0.1</td>\n",
       "      <td>svm</td>\n",
       "      <td>rbf</td>\n",
       "      <td>0.857500</td>\n",
       "      <td>0.7450</td>\n",
       "      <td>0.112500</td>\n",
       "      <td>{'C': 10, 'gamma': 0.1}</td>\n",
       "    </tr>\n",
       "    <tr>\n",
       "      <th>114</th>\n",
       "      <td>circles</td>\n",
       "      <td>800</td>\n",
       "      <td>0.3</td>\n",
       "      <td>svm</td>\n",
       "      <td>rbf</td>\n",
       "      <td>0.643750</td>\n",
       "      <td>0.5300</td>\n",
       "      <td>0.113750</td>\n",
       "      <td>{'C': 10, 'gamma': 0.1}</td>\n",
       "    </tr>\n",
       "    <tr>\n",
       "      <th>36</th>\n",
       "      <td>moons</td>\n",
       "      <td>80</td>\n",
       "      <td>0.3</td>\n",
       "      <td>svm</td>\n",
       "      <td>rbf</td>\n",
       "      <td>0.937500</td>\n",
       "      <td>0.8000</td>\n",
       "      <td>0.137500</td>\n",
       "      <td>{'C': 10, 'gamma': 1}</td>\n",
       "    </tr>\n",
       "    <tr>\n",
       "      <th>102</th>\n",
       "      <td>circles</td>\n",
       "      <td>800</td>\n",
       "      <td>0.2</td>\n",
       "      <td>svm</td>\n",
       "      <td>rbf</td>\n",
       "      <td>0.750000</td>\n",
       "      <td>0.5500</td>\n",
       "      <td>0.200000</td>\n",
       "      <td>{'C': 10, 'gamma': 10}</td>\n",
       "    </tr>\n",
       "    <tr>\n",
       "      <th>108</th>\n",
       "      <td>circles</td>\n",
       "      <td>80</td>\n",
       "      <td>0.3</td>\n",
       "      <td>svm</td>\n",
       "      <td>rbf</td>\n",
       "      <td>0.612500</td>\n",
       "      <td>0.4000</td>\n",
       "      <td>0.212500</td>\n",
       "      <td>{'C': 10, 'gamma': 0.1}</td>\n",
       "    </tr>\n",
       "    <tr>\n",
       "      <th>96</th>\n",
       "      <td>circles</td>\n",
       "      <td>80</td>\n",
       "      <td>0.2</td>\n",
       "      <td>svm</td>\n",
       "      <td>rbf</td>\n",
       "      <td>0.712500</td>\n",
       "      <td>0.5000</td>\n",
       "      <td>0.212500</td>\n",
       "      <td>{'C': 1, 'gamma': 1}</td>\n",
       "    </tr>\n",
       "    <tr>\n",
       "      <th>120</th>\n",
       "      <td>circles</td>\n",
       "      <td>80</td>\n",
       "      <td>0.4</td>\n",
       "      <td>svm</td>\n",
       "      <td>rbf</td>\n",
       "      <td>0.600000</td>\n",
       "      <td>0.3000</td>\n",
       "      <td>0.300000</td>\n",
       "      <td>{'C': 10, 'gamma': 0.1}</td>\n",
       "    </tr>\n",
       "    <tr>\n",
       "      <th>132</th>\n",
       "      <td>circles</td>\n",
       "      <td>80</td>\n",
       "      <td>0.5</td>\n",
       "      <td>svm</td>\n",
       "      <td>rbf</td>\n",
       "      <td>0.625000</td>\n",
       "      <td>0.3000</td>\n",
       "      <td>0.325000</td>\n",
       "      <td>{'C': 10, 'gamma': 0.1}</td>\n",
       "    </tr>\n",
       "  </tbody>\n",
       "</table>\n",
       "</div>"
      ],
      "text/plain": [
       "     DS_NAME     N   NL CLF_NAME    K       TRE   TESTE    E_DIFF  \\\n",
       "0      moons    80  0.0      svm  rbf  1.000000  1.0000  0.000000   \n",
       "3      moons   400  0.0      svm  rbf  1.000000  1.0000  0.000000   \n",
       "6      moons   800  0.0      svm  rbf  1.000000  1.0000  0.000000   \n",
       "9      moons  8000  0.0      svm  rbf  1.000000  1.0000  0.000000   \n",
       "12     moons    80  0.1      svm  rbf  1.000000  1.0000  0.000000   \n",
       "15     moons   400  0.1      svm  rbf  1.000000  1.0000  0.000000   \n",
       "18     moons   800  0.1      svm  rbf  1.000000  1.0000  0.000000   \n",
       "72   circles    80  0.0      svm  rbf  1.000000  1.0000  0.000000   \n",
       "75   circles   400  0.0      svm  rbf  1.000000  1.0000  0.000000   \n",
       "78   circles   800  0.0      svm  rbf  1.000000  1.0000  0.000000   \n",
       "81   circles  8000  0.0      svm  rbf  1.000000  1.0000  0.000000   \n",
       "21     moons  8000  0.1      svm  rbf  0.999500  0.9985  0.001000   \n",
       "33     moons  8000  0.2      svm  rbf  0.973125  0.9760  0.002875   \n",
       "57     moons  8000  0.4      svm  rbf  0.865625  0.8685  0.002875   \n",
       "30     moons   800  0.2      svm  rbf  0.973750  0.9800  0.006250   \n",
       "42     moons   800  0.3      svm  rbf  0.923750  0.9300  0.006250   \n",
       "93   circles  8000  0.1      svm  rbf  0.837625  0.8310  0.006625   \n",
       "69     moons  8000  0.5      svm  rbf  0.821125  0.8285  0.007375   \n",
       "45     moons  8000  0.3      svm  rbf  0.918375  0.9270  0.008625   \n",
       "84   circles    80  0.1      svm  rbf  0.837500  0.8500  0.012500   \n",
       "27     moons   400  0.2      svm  rbf  0.982500  0.9700  0.012500   \n",
       "54     moons   800  0.4      svm  rbf  0.865000  0.8500  0.015000   \n",
       "129  circles  8000  0.4      svm  rbf  0.594125  0.5785  0.015625   \n",
       "141  circles  8000  0.5      svm  rbf  0.575250  0.5585  0.016750   \n",
       "117  circles  8000  0.3      svm  rbf  0.629625  0.6125  0.017125   \n",
       "99   circles   400  0.2      svm  rbf  0.667500  0.6500  0.017500   \n",
       "105  circles  8000  0.2      svm  rbf  0.692125  0.6720  0.020125   \n",
       "66     moons   800  0.5      svm  rbf  0.831250  0.8050  0.026250   \n",
       "87   circles   400  0.1      svm  rbf  0.817500  0.8500  0.032500   \n",
       "135  circles   400  0.5      svm  rbf  0.577500  0.5400  0.037500   \n",
       "24     moons    80  0.2      svm  rbf  0.962500  1.0000  0.037500   \n",
       "63     moons   400  0.5      svm  rbf  0.840000  0.8000  0.040000   \n",
       "39     moons   400  0.3      svm  rbf  0.927500  0.8800  0.047500   \n",
       "60     moons    80  0.5      svm  rbf  0.850000  0.9000  0.050000   \n",
       "111  circles   400  0.3      svm  rbf  0.632500  0.5700  0.062500   \n",
       "51     moons   400  0.4      svm  rbf  0.872500  0.8100  0.062500   \n",
       "123  circles   400  0.4      svm  rbf  0.602500  0.5300  0.072500   \n",
       "126  circles   800  0.4      svm  rbf  0.603750  0.5200  0.083750   \n",
       "48     moons    80  0.4      svm  rbf  0.862500  0.9500  0.087500   \n",
       "138  circles   800  0.5      svm  rbf  0.583750  0.4800  0.103750   \n",
       "90   circles   800  0.1      svm  rbf  0.857500  0.7450  0.112500   \n",
       "114  circles   800  0.3      svm  rbf  0.643750  0.5300  0.113750   \n",
       "36     moons    80  0.3      svm  rbf  0.937500  0.8000  0.137500   \n",
       "102  circles   800  0.2      svm  rbf  0.750000  0.5500  0.200000   \n",
       "108  circles    80  0.3      svm  rbf  0.612500  0.4000  0.212500   \n",
       "96   circles    80  0.2      svm  rbf  0.712500  0.5000  0.212500   \n",
       "120  circles    80  0.4      svm  rbf  0.600000  0.3000  0.300000   \n",
       "132  circles    80  0.5      svm  rbf  0.625000  0.3000  0.325000   \n",
       "\n",
       "            Hyper_Parameters  \n",
       "0       {'C': 1, 'gamma': 1}  \n",
       "3    {'C': 0.1, 'gamma': 10}  \n",
       "6     {'C': 0.1, 'gamma': 1}  \n",
       "9     {'C': 0.1, 'gamma': 1}  \n",
       "12     {'C': 1, 'gamma': 10}  \n",
       "15   {'C': 0.1, 'gamma': 10}  \n",
       "18     {'C': 10, 'gamma': 1}  \n",
       "72     {'C': 1, 'gamma': 10}  \n",
       "75      {'C': 1, 'gamma': 1}  \n",
       "78   {'C': 0.1, 'gamma': 10}  \n",
       "81    {'C': 0.1, 'gamma': 1}  \n",
       "21     {'C': 1, 'gamma': 10}  \n",
       "33     {'C': 10, 'gamma': 1}  \n",
       "57     {'C': 1, 'gamma': 10}  \n",
       "30     {'C': 1, 'gamma': 10}  \n",
       "42     {'C': 1, 'gamma': 10}  \n",
       "93    {'C': 1, 'gamma': 0.1}  \n",
       "69   {'C': 10, 'gamma': 0.1}  \n",
       "45      {'C': 1, 'gamma': 1}  \n",
       "84     {'C': 10, 'gamma': 1}  \n",
       "27   {'C': 0.1, 'gamma': 10}  \n",
       "54     {'C': 10, 'gamma': 1}  \n",
       "129   {'C': 0.1, 'gamma': 1}  \n",
       "141  {'C': 10, 'gamma': 0.1}  \n",
       "117    {'C': 10, 'gamma': 1}  \n",
       "99   {'C': 10, 'gamma': 0.1}  \n",
       "105     {'C': 1, 'gamma': 1}  \n",
       "66     {'C': 10, 'gamma': 1}  \n",
       "87     {'C': 10, 'gamma': 1}  \n",
       "135   {'C': 1, 'gamma': 0.1}  \n",
       "24     {'C': 1, 'gamma': 10}  \n",
       "63    {'C': 0.1, 'gamma': 1}  \n",
       "39      {'C': 1, 'gamma': 1}  \n",
       "60      {'C': 1, 'gamma': 1}  \n",
       "111  {'C': 10, 'gamma': 0.1}  \n",
       "51      {'C': 1, 'gamma': 1}  \n",
       "123  {'C': 10, 'gamma': 0.1}  \n",
       "126   {'C': 1, 'gamma': 0.1}  \n",
       "48      {'C': 1, 'gamma': 1}  \n",
       "138  {'C': 10, 'gamma': 0.1}  \n",
       "90   {'C': 10, 'gamma': 0.1}  \n",
       "114  {'C': 10, 'gamma': 0.1}  \n",
       "36     {'C': 10, 'gamma': 1}  \n",
       "102   {'C': 10, 'gamma': 10}  \n",
       "108  {'C': 10, 'gamma': 0.1}  \n",
       "96      {'C': 1, 'gamma': 1}  \n",
       "120  {'C': 10, 'gamma': 0.1}  \n",
       "132  {'C': 10, 'gamma': 0.1}  "
      ]
     },
     "execution_count": 57,
     "metadata": {},
     "output_type": "execute_result"
    }
   ],
   "source": [
    "df_filtered"
   ]
  },
  {
   "cell_type": "code",
   "execution_count": null,
   "id": "9134a64f-3068-464a-a2fb-c6ac7124c6ce",
   "metadata": {},
   "outputs": [],
   "source": []
  },
  {
   "cell_type": "code",
   "execution_count": 52,
   "id": "8dd92ef6-15c6-4158-99ee-cd8f9fe938e7",
   "metadata": {},
   "outputs": [
    {
     "data": {
      "application/vnd.jupyter.widget-view+json": {
       "model_id": "3f36fbc575ab4e2491ccffccbeae7712",
       "version_major": 2,
       "version_minor": 0
      },
      "text/plain": [
       "interactive(children=(FloatSlider(value=0.0, description='noise_level', max=0.5), Output()), _dom_classes=('wi…"
      ]
     },
     "metadata": {},
     "output_type": "display_data"
    }
   ],
   "source": [
    "@widgets.interact\n",
    "def plot_noisy_result(noise_level = widgets.FloatSlider(value=0, min=0.0, max=0.5, step=0.1)):\n",
    "    by_noise = df_filtered.groupby([\"N\",\"NL\"]).mean()\n",
    "    by_noise = by_noise.reset_index() \n",
    "    query_string = f\"NL == {noise_level}\"\n",
    "    return px.line(by_noise.query(query_string),x = \"N\", y = ['TRE','TESTE','E_DIFF'],title = \"Logistic reg change in accuracy over number of observations (Noise Level 0.1)\")\n"
   ]
  },
  {
   "cell_type": "code",
   "execution_count": 53,
   "id": "ebad83cd-5ceb-4d51-bbd4-e99e2a3fc500",
   "metadata": {},
   "outputs": [
    {
     "data": {
      "text/html": [
       "<div>\n",
       "<style scoped>\n",
       "    .dataframe tbody tr th:only-of-type {\n",
       "        vertical-align: middle;\n",
       "    }\n",
       "\n",
       "    .dataframe tbody tr th {\n",
       "        vertical-align: top;\n",
       "    }\n",
       "\n",
       "    .dataframe thead th {\n",
       "        text-align: right;\n",
       "    }\n",
       "</style>\n",
       "<table border=\"1\" class=\"dataframe\">\n",
       "  <thead>\n",
       "    <tr style=\"text-align: right;\">\n",
       "      <th></th>\n",
       "      <th>NL</th>\n",
       "      <th>Hyper_Parameters</th>\n",
       "      <th>N</th>\n",
       "      <th>TRE</th>\n",
       "      <th>TESTE</th>\n",
       "      <th>E_DIFF</th>\n",
       "    </tr>\n",
       "  </thead>\n",
       "  <tbody>\n",
       "    <tr>\n",
       "      <th>0</th>\n",
       "      <td>0.0</td>\n",
       "      <td>{'C': 0.1, 'gamma': 1}</td>\n",
       "      <td>8000.0</td>\n",
       "      <td>1.000000</td>\n",
       "      <td>1.0000</td>\n",
       "      <td>0.000000</td>\n",
       "    </tr>\n",
       "    <tr>\n",
       "      <th>1</th>\n",
       "      <td>0.1</td>\n",
       "      <td>{'C': 1, 'gamma': 10}</td>\n",
       "      <td>8000.0</td>\n",
       "      <td>0.999500</td>\n",
       "      <td>0.9985</td>\n",
       "      <td>0.001000</td>\n",
       "    </tr>\n",
       "    <tr>\n",
       "      <th>2</th>\n",
       "      <td>0.2</td>\n",
       "      <td>{'C': 10, 'gamma': 1}</td>\n",
       "      <td>8000.0</td>\n",
       "      <td>0.973125</td>\n",
       "      <td>0.9760</td>\n",
       "      <td>0.002875</td>\n",
       "    </tr>\n",
       "    <tr>\n",
       "      <th>3</th>\n",
       "      <td>0.4</td>\n",
       "      <td>{'C': 1, 'gamma': 10}</td>\n",
       "      <td>8000.0</td>\n",
       "      <td>0.865625</td>\n",
       "      <td>0.8685</td>\n",
       "      <td>0.002875</td>\n",
       "    </tr>\n",
       "    <tr>\n",
       "      <th>4</th>\n",
       "      <td>0.1</td>\n",
       "      <td>{'C': 1, 'gamma': 0.1}</td>\n",
       "      <td>8000.0</td>\n",
       "      <td>0.837625</td>\n",
       "      <td>0.8310</td>\n",
       "      <td>0.006625</td>\n",
       "    </tr>\n",
       "    <tr>\n",
       "      <th>5</th>\n",
       "      <td>0.3</td>\n",
       "      <td>{'C': 1, 'gamma': 1}</td>\n",
       "      <td>8000.0</td>\n",
       "      <td>0.918375</td>\n",
       "      <td>0.9270</td>\n",
       "      <td>0.008625</td>\n",
       "    </tr>\n",
       "    <tr>\n",
       "      <th>6</th>\n",
       "      <td>0.5</td>\n",
       "      <td>{'C': 10, 'gamma': 0.1}</td>\n",
       "      <td>8000.0</td>\n",
       "      <td>0.698187</td>\n",
       "      <td>0.6935</td>\n",
       "      <td>0.012063</td>\n",
       "    </tr>\n",
       "    <tr>\n",
       "      <th>7</th>\n",
       "      <td>0.4</td>\n",
       "      <td>{'C': 0.1, 'gamma': 1}</td>\n",
       "      <td>8000.0</td>\n",
       "      <td>0.594125</td>\n",
       "      <td>0.5785</td>\n",
       "      <td>0.015625</td>\n",
       "    </tr>\n",
       "    <tr>\n",
       "      <th>8</th>\n",
       "      <td>0.3</td>\n",
       "      <td>{'C': 10, 'gamma': 1}</td>\n",
       "      <td>8000.0</td>\n",
       "      <td>0.629625</td>\n",
       "      <td>0.6125</td>\n",
       "      <td>0.017125</td>\n",
       "    </tr>\n",
       "    <tr>\n",
       "      <th>9</th>\n",
       "      <td>0.2</td>\n",
       "      <td>{'C': 1, 'gamma': 1}</td>\n",
       "      <td>8000.0</td>\n",
       "      <td>0.692125</td>\n",
       "      <td>0.6720</td>\n",
       "      <td>0.020125</td>\n",
       "    </tr>\n",
       "  </tbody>\n",
       "</table>\n",
       "</div>"
      ],
      "text/plain": [
       "    NL         Hyper_Parameters       N       TRE   TESTE    E_DIFF\n",
       "0  0.0   {'C': 0.1, 'gamma': 1}  8000.0  1.000000  1.0000  0.000000\n",
       "1  0.1    {'C': 1, 'gamma': 10}  8000.0  0.999500  0.9985  0.001000\n",
       "2  0.2    {'C': 10, 'gamma': 1}  8000.0  0.973125  0.9760  0.002875\n",
       "3  0.4    {'C': 1, 'gamma': 10}  8000.0  0.865625  0.8685  0.002875\n",
       "4  0.1   {'C': 1, 'gamma': 0.1}  8000.0  0.837625  0.8310  0.006625\n",
       "5  0.3     {'C': 1, 'gamma': 1}  8000.0  0.918375  0.9270  0.008625\n",
       "6  0.5  {'C': 10, 'gamma': 0.1}  8000.0  0.698187  0.6935  0.012063\n",
       "7  0.4   {'C': 0.1, 'gamma': 1}  8000.0  0.594125  0.5785  0.015625\n",
       "8  0.3    {'C': 10, 'gamma': 1}  8000.0  0.629625  0.6125  0.017125\n",
       "9  0.2     {'C': 1, 'gamma': 1}  8000.0  0.692125  0.6720  0.020125"
      ]
     },
     "execution_count": 53,
     "metadata": {},
     "output_type": "execute_result"
    }
   ],
   "source": [
    "#For SVM only, For dataset of size 10k and for each dataset, What are the best model params? How stable is it?\n",
    "\n",
    "df_filtered=df[(df['N'] == 8000) & (df['CLF_NAME'] == 'svm')].sort_values(by=['E_DIFF', 'TESTE'], ascending=True)\n",
    "# TESTE\n",
    "# query_string =  f\"TESTE >= {}\"\n",
    "# df_filtered.query('')\n",
    "df_filtered.groupby(['NL','Hyper_Parameters']).mean().sort_values(by=['E_DIFF', 'TESTE'], ascending=True).reset_index()"
   ]
  },
  {
   "cell_type": "markdown",
   "id": "3f960177-c10f-4318-8d5b-45ff073ed21c",
   "metadata": {},
   "source": [
    "answer : \n"
   ]
  },
  {
   "cell_type": "code",
   "execution_count": 54,
   "id": "909ef2cd-a6cc-4c6d-a51d-5c6f3fd99044",
   "metadata": {},
   "outputs": [
    {
     "data": {
      "application/vnd.plotly.v1+json": {
       "config": {
        "plotlyServerURL": "https://plot.ly"
       },
       "data": [
        {
         "hovertemplate": "variable=TRE<br>NL=%{x}<br>value=%{y}<extra></extra>",
         "legendgroup": "TRE",
         "line": {
          "color": "#636efa",
          "dash": "solid"
         },
         "marker": {
          "symbol": "circle"
         },
         "mode": "lines",
         "name": "TRE",
         "orientation": "v",
         "showlegend": true,
         "type": "scatter",
         "x": [
          0,
          0.1,
          0.2,
          0.3,
          0.4,
          0.5
         ],
         "xaxis": "x",
         "y": [
          1,
          0.9185625,
          0.832625,
          0.774,
          0.729875,
          0.6981875
         ],
         "yaxis": "y"
        },
        {
         "hovertemplate": "variable=TESTE<br>NL=%{x}<br>value=%{y}<extra></extra>",
         "legendgroup": "TESTE",
         "line": {
          "color": "#EF553B",
          "dash": "solid"
         },
         "marker": {
          "symbol": "circle"
         },
         "mode": "lines",
         "name": "TESTE",
         "orientation": "v",
         "showlegend": true,
         "type": "scatter",
         "x": [
          0,
          0.1,
          0.2,
          0.3,
          0.4,
          0.5
         ],
         "xaxis": "x",
         "y": [
          1,
          0.91475,
          0.8240000000000001,
          0.76975,
          0.7235,
          0.6935
         ],
         "yaxis": "y"
        }
       ],
       "layout": {
        "autosize": true,
        "legend": {
         "title": {
          "text": "variable"
         },
         "tracegroupgap": 0
        },
        "template": {
         "data": {
          "bar": [
           {
            "error_x": {
             "color": "#2a3f5f"
            },
            "error_y": {
             "color": "#2a3f5f"
            },
            "marker": {
             "line": {
              "color": "#E5ECF6",
              "width": 0.5
             },
             "pattern": {
              "fillmode": "overlay",
              "size": 10,
              "solidity": 0.2
             }
            },
            "type": "bar"
           }
          ],
          "barpolar": [
           {
            "marker": {
             "line": {
              "color": "#E5ECF6",
              "width": 0.5
             },
             "pattern": {
              "fillmode": "overlay",
              "size": 10,
              "solidity": 0.2
             }
            },
            "type": "barpolar"
           }
          ],
          "carpet": [
           {
            "aaxis": {
             "endlinecolor": "#2a3f5f",
             "gridcolor": "white",
             "linecolor": "white",
             "minorgridcolor": "white",
             "startlinecolor": "#2a3f5f"
            },
            "baxis": {
             "endlinecolor": "#2a3f5f",
             "gridcolor": "white",
             "linecolor": "white",
             "minorgridcolor": "white",
             "startlinecolor": "#2a3f5f"
            },
            "type": "carpet"
           }
          ],
          "choropleth": [
           {
            "colorbar": {
             "outlinewidth": 0,
             "ticks": ""
            },
            "type": "choropleth"
           }
          ],
          "contour": [
           {
            "colorbar": {
             "outlinewidth": 0,
             "ticks": ""
            },
            "colorscale": [
             [
              0,
              "#0d0887"
             ],
             [
              0.1111111111111111,
              "#46039f"
             ],
             [
              0.2222222222222222,
              "#7201a8"
             ],
             [
              0.3333333333333333,
              "#9c179e"
             ],
             [
              0.4444444444444444,
              "#bd3786"
             ],
             [
              0.5555555555555556,
              "#d8576b"
             ],
             [
              0.6666666666666666,
              "#ed7953"
             ],
             [
              0.7777777777777778,
              "#fb9f3a"
             ],
             [
              0.8888888888888888,
              "#fdca26"
             ],
             [
              1,
              "#f0f921"
             ]
            ],
            "type": "contour"
           }
          ],
          "contourcarpet": [
           {
            "colorbar": {
             "outlinewidth": 0,
             "ticks": ""
            },
            "type": "contourcarpet"
           }
          ],
          "heatmap": [
           {
            "colorbar": {
             "outlinewidth": 0,
             "ticks": ""
            },
            "colorscale": [
             [
              0,
              "#0d0887"
             ],
             [
              0.1111111111111111,
              "#46039f"
             ],
             [
              0.2222222222222222,
              "#7201a8"
             ],
             [
              0.3333333333333333,
              "#9c179e"
             ],
             [
              0.4444444444444444,
              "#bd3786"
             ],
             [
              0.5555555555555556,
              "#d8576b"
             ],
             [
              0.6666666666666666,
              "#ed7953"
             ],
             [
              0.7777777777777778,
              "#fb9f3a"
             ],
             [
              0.8888888888888888,
              "#fdca26"
             ],
             [
              1,
              "#f0f921"
             ]
            ],
            "type": "heatmap"
           }
          ],
          "heatmapgl": [
           {
            "colorbar": {
             "outlinewidth": 0,
             "ticks": ""
            },
            "colorscale": [
             [
              0,
              "#0d0887"
             ],
             [
              0.1111111111111111,
              "#46039f"
             ],
             [
              0.2222222222222222,
              "#7201a8"
             ],
             [
              0.3333333333333333,
              "#9c179e"
             ],
             [
              0.4444444444444444,
              "#bd3786"
             ],
             [
              0.5555555555555556,
              "#d8576b"
             ],
             [
              0.6666666666666666,
              "#ed7953"
             ],
             [
              0.7777777777777778,
              "#fb9f3a"
             ],
             [
              0.8888888888888888,
              "#fdca26"
             ],
             [
              1,
              "#f0f921"
             ]
            ],
            "type": "heatmapgl"
           }
          ],
          "histogram": [
           {
            "marker": {
             "pattern": {
              "fillmode": "overlay",
              "size": 10,
              "solidity": 0.2
             }
            },
            "type": "histogram"
           }
          ],
          "histogram2d": [
           {
            "colorbar": {
             "outlinewidth": 0,
             "ticks": ""
            },
            "colorscale": [
             [
              0,
              "#0d0887"
             ],
             [
              0.1111111111111111,
              "#46039f"
             ],
             [
              0.2222222222222222,
              "#7201a8"
             ],
             [
              0.3333333333333333,
              "#9c179e"
             ],
             [
              0.4444444444444444,
              "#bd3786"
             ],
             [
              0.5555555555555556,
              "#d8576b"
             ],
             [
              0.6666666666666666,
              "#ed7953"
             ],
             [
              0.7777777777777778,
              "#fb9f3a"
             ],
             [
              0.8888888888888888,
              "#fdca26"
             ],
             [
              1,
              "#f0f921"
             ]
            ],
            "type": "histogram2d"
           }
          ],
          "histogram2dcontour": [
           {
            "colorbar": {
             "outlinewidth": 0,
             "ticks": ""
            },
            "colorscale": [
             [
              0,
              "#0d0887"
             ],
             [
              0.1111111111111111,
              "#46039f"
             ],
             [
              0.2222222222222222,
              "#7201a8"
             ],
             [
              0.3333333333333333,
              "#9c179e"
             ],
             [
              0.4444444444444444,
              "#bd3786"
             ],
             [
              0.5555555555555556,
              "#d8576b"
             ],
             [
              0.6666666666666666,
              "#ed7953"
             ],
             [
              0.7777777777777778,
              "#fb9f3a"
             ],
             [
              0.8888888888888888,
              "#fdca26"
             ],
             [
              1,
              "#f0f921"
             ]
            ],
            "type": "histogram2dcontour"
           }
          ],
          "mesh3d": [
           {
            "colorbar": {
             "outlinewidth": 0,
             "ticks": ""
            },
            "type": "mesh3d"
           }
          ],
          "parcoords": [
           {
            "line": {
             "colorbar": {
              "outlinewidth": 0,
              "ticks": ""
             }
            },
            "type": "parcoords"
           }
          ],
          "pie": [
           {
            "automargin": true,
            "type": "pie"
           }
          ],
          "scatter": [
           {
            "fillpattern": {
             "fillmode": "overlay",
             "size": 10,
             "solidity": 0.2
            },
            "type": "scatter"
           }
          ],
          "scatter3d": [
           {
            "line": {
             "colorbar": {
              "outlinewidth": 0,
              "ticks": ""
             }
            },
            "marker": {
             "colorbar": {
              "outlinewidth": 0,
              "ticks": ""
             }
            },
            "type": "scatter3d"
           }
          ],
          "scattercarpet": [
           {
            "marker": {
             "colorbar": {
              "outlinewidth": 0,
              "ticks": ""
             }
            },
            "type": "scattercarpet"
           }
          ],
          "scattergeo": [
           {
            "marker": {
             "colorbar": {
              "outlinewidth": 0,
              "ticks": ""
             }
            },
            "type": "scattergeo"
           }
          ],
          "scattergl": [
           {
            "marker": {
             "colorbar": {
              "outlinewidth": 0,
              "ticks": ""
             }
            },
            "type": "scattergl"
           }
          ],
          "scattermapbox": [
           {
            "marker": {
             "colorbar": {
              "outlinewidth": 0,
              "ticks": ""
             }
            },
            "type": "scattermapbox"
           }
          ],
          "scatterpolar": [
           {
            "marker": {
             "colorbar": {
              "outlinewidth": 0,
              "ticks": ""
             }
            },
            "type": "scatterpolar"
           }
          ],
          "scatterpolargl": [
           {
            "marker": {
             "colorbar": {
              "outlinewidth": 0,
              "ticks": ""
             }
            },
            "type": "scatterpolargl"
           }
          ],
          "scatterternary": [
           {
            "marker": {
             "colorbar": {
              "outlinewidth": 0,
              "ticks": ""
             }
            },
            "type": "scatterternary"
           }
          ],
          "surface": [
           {
            "colorbar": {
             "outlinewidth": 0,
             "ticks": ""
            },
            "colorscale": [
             [
              0,
              "#0d0887"
             ],
             [
              0.1111111111111111,
              "#46039f"
             ],
             [
              0.2222222222222222,
              "#7201a8"
             ],
             [
              0.3333333333333333,
              "#9c179e"
             ],
             [
              0.4444444444444444,
              "#bd3786"
             ],
             [
              0.5555555555555556,
              "#d8576b"
             ],
             [
              0.6666666666666666,
              "#ed7953"
             ],
             [
              0.7777777777777778,
              "#fb9f3a"
             ],
             [
              0.8888888888888888,
              "#fdca26"
             ],
             [
              1,
              "#f0f921"
             ]
            ],
            "type": "surface"
           }
          ],
          "table": [
           {
            "cells": {
             "fill": {
              "color": "#EBF0F8"
             },
             "line": {
              "color": "white"
             }
            },
            "header": {
             "fill": {
              "color": "#C8D4E3"
             },
             "line": {
              "color": "white"
             }
            },
            "type": "table"
           }
          ]
         },
         "layout": {
          "annotationdefaults": {
           "arrowcolor": "#2a3f5f",
           "arrowhead": 0,
           "arrowwidth": 1
          },
          "autotypenumbers": "strict",
          "coloraxis": {
           "colorbar": {
            "outlinewidth": 0,
            "ticks": ""
           }
          },
          "colorscale": {
           "diverging": [
            [
             0,
             "#8e0152"
            ],
            [
             0.1,
             "#c51b7d"
            ],
            [
             0.2,
             "#de77ae"
            ],
            [
             0.3,
             "#f1b6da"
            ],
            [
             0.4,
             "#fde0ef"
            ],
            [
             0.5,
             "#f7f7f7"
            ],
            [
             0.6,
             "#e6f5d0"
            ],
            [
             0.7,
             "#b8e186"
            ],
            [
             0.8,
             "#7fbc41"
            ],
            [
             0.9,
             "#4d9221"
            ],
            [
             1,
             "#276419"
            ]
           ],
           "sequential": [
            [
             0,
             "#0d0887"
            ],
            [
             0.1111111111111111,
             "#46039f"
            ],
            [
             0.2222222222222222,
             "#7201a8"
            ],
            [
             0.3333333333333333,
             "#9c179e"
            ],
            [
             0.4444444444444444,
             "#bd3786"
            ],
            [
             0.5555555555555556,
             "#d8576b"
            ],
            [
             0.6666666666666666,
             "#ed7953"
            ],
            [
             0.7777777777777778,
             "#fb9f3a"
            ],
            [
             0.8888888888888888,
             "#fdca26"
            ],
            [
             1,
             "#f0f921"
            ]
           ],
           "sequentialminus": [
            [
             0,
             "#0d0887"
            ],
            [
             0.1111111111111111,
             "#46039f"
            ],
            [
             0.2222222222222222,
             "#7201a8"
            ],
            [
             0.3333333333333333,
             "#9c179e"
            ],
            [
             0.4444444444444444,
             "#bd3786"
            ],
            [
             0.5555555555555556,
             "#d8576b"
            ],
            [
             0.6666666666666666,
             "#ed7953"
            ],
            [
             0.7777777777777778,
             "#fb9f3a"
            ],
            [
             0.8888888888888888,
             "#fdca26"
            ],
            [
             1,
             "#f0f921"
            ]
           ]
          },
          "colorway": [
           "#636efa",
           "#EF553B",
           "#00cc96",
           "#ab63fa",
           "#FFA15A",
           "#19d3f3",
           "#FF6692",
           "#B6E880",
           "#FF97FF",
           "#FECB52"
          ],
          "font": {
           "color": "#2a3f5f"
          },
          "geo": {
           "bgcolor": "white",
           "lakecolor": "white",
           "landcolor": "#E5ECF6",
           "showlakes": true,
           "showland": true,
           "subunitcolor": "white"
          },
          "hoverlabel": {
           "align": "left"
          },
          "hovermode": "closest",
          "mapbox": {
           "style": "light"
          },
          "paper_bgcolor": "white",
          "plot_bgcolor": "#E5ECF6",
          "polar": {
           "angularaxis": {
            "gridcolor": "white",
            "linecolor": "white",
            "ticks": ""
           },
           "bgcolor": "#E5ECF6",
           "radialaxis": {
            "gridcolor": "white",
            "linecolor": "white",
            "ticks": ""
           }
          },
          "scene": {
           "xaxis": {
            "backgroundcolor": "#E5ECF6",
            "gridcolor": "white",
            "gridwidth": 2,
            "linecolor": "white",
            "showbackground": true,
            "ticks": "",
            "zerolinecolor": "white"
           },
           "yaxis": {
            "backgroundcolor": "#E5ECF6",
            "gridcolor": "white",
            "gridwidth": 2,
            "linecolor": "white",
            "showbackground": true,
            "ticks": "",
            "zerolinecolor": "white"
           },
           "zaxis": {
            "backgroundcolor": "#E5ECF6",
            "gridcolor": "white",
            "gridwidth": 2,
            "linecolor": "white",
            "showbackground": true,
            "ticks": "",
            "zerolinecolor": "white"
           }
          },
          "shapedefaults": {
           "line": {
            "color": "#2a3f5f"
           }
          },
          "ternary": {
           "aaxis": {
            "gridcolor": "white",
            "linecolor": "white",
            "ticks": ""
           },
           "baxis": {
            "gridcolor": "white",
            "linecolor": "white",
            "ticks": ""
           },
           "bgcolor": "#E5ECF6",
           "caxis": {
            "gridcolor": "white",
            "linecolor": "white",
            "ticks": ""
           }
          },
          "title": {
           "x": 0.05
          },
          "xaxis": {
           "automargin": true,
           "gridcolor": "white",
           "linecolor": "white",
           "ticks": "",
           "title": {
            "standoff": 15
           },
           "zerolinecolor": "white",
           "zerolinewidth": 2
          },
          "yaxis": {
           "automargin": true,
           "gridcolor": "white",
           "linecolor": "white",
           "ticks": "",
           "title": {
            "standoff": 15
           },
           "zerolinecolor": "white",
           "zerolinewidth": 2
          }
         }
        },
        "title": {
         "text": "SVM change in accuracy over number of observations (Noise Level 0.1)"
        },
        "xaxis": {
         "anchor": "y",
         "autorange": true,
         "domain": [
          0,
          1
         ],
         "range": [
          0,
          0.5
         ],
         "title": {
          "text": "NL"
         },
         "type": "linear"
        },
        "yaxis": {
         "anchor": "x",
         "autorange": true,
         "domain": [
          0,
          1
         ],
         "range": [
          0.6764722222222223,
          1.0170277777777779
         ],
         "title": {
          "text": "value"
         },
         "type": "linear"
        }
       }
      },
      "image/png": "[encoded data removed]",
      "text/html": [
       "<div>                            <div id=\"d4bff9c8-a0b1-4391-ae67-ee1fe0ca96c0\" class=\"plotly-graph-div\" style=\"height:525px; width:100%;\"></div>            <script type=\"text/javascript\">                require([\"plotly\"], function(Plotly) {                    window.PLOTLYENV=window.PLOTLYENV || {};                                    if (document.getElementById(\"d4bff9c8-a0b1-4391-ae67-ee1fe0ca96c0\")) {                    Plotly.newPlot(                        \"d4bff9c8-a0b1-4391-ae67-ee1fe0ca96c0\",                        [{\"hovertemplate\":\"variable=TRE<br>NL=%{x}<br>value=%{y}<extra></extra>\",\"legendgroup\":\"TRE\",\"line\":{\"color\":\"#636efa\",\"dash\":\"solid\"},\"marker\":{\"symbol\":\"circle\"},\"mode\":\"lines\",\"name\":\"TRE\",\"orientation\":\"v\",\"showlegend\":true,\"x\":[0.0,0.1,0.2,0.3,0.4,0.5],\"xaxis\":\"x\",\"y\":[1.0,0.9185625,0.832625,0.774,0.729875,0.6981875],\"yaxis\":\"y\",\"type\":\"scatter\"},{\"hovertemplate\":\"variable=TESTE<br>NL=%{x}<br>value=%{y}<extra></extra>\",\"legendgroup\":\"TESTE\",\"line\":{\"color\":\"#EF553B\",\"dash\":\"solid\"},\"marker\":{\"symbol\":\"circle\"},\"mode\":\"lines\",\"name\":\"TESTE\",\"orientation\":\"v\",\"showlegend\":true,\"x\":[0.0,0.1,0.2,0.3,0.4,0.5],\"xaxis\":\"x\",\"y\":[1.0,0.91475,0.8240000000000001,0.76975,0.7235,0.6935],\"yaxis\":\"y\",\"type\":\"scatter\"}],                        {\"template\":{\"data\":{\"histogram2dcontour\":[{\"type\":\"histogram2dcontour\",\"colorbar\":{\"outlinewidth\":0,\"ticks\":\"\"},\"colorscale\":[[0.0,\"#0d0887\"],[0.1111111111111111,\"#46039f\"],[0.2222222222222222,\"#7201a8\"],[0.3333333333333333,\"#9c179e\"],[0.4444444444444444,\"#bd3786\"],[0.5555555555555556,\"#d8576b\"],[0.6666666666666666,\"#ed7953\"],[0.7777777777777778,\"#fb9f3a\"],[0.8888888888888888,\"#fdca26\"],[1.0,\"#f0f921\"]]}],\"choropleth\":[{\"type\":\"choropleth\",\"colorbar\":{\"outlinewidth\":0,\"ticks\":\"\"}}],\"histogram2d\":[{\"type\":\"histogram2d\",\"colorbar\":{\"outlinewidth\":0,\"ticks\":\"\"},\"colorscale\":[[0.0,\"#0d0887\"],[0.1111111111111111,\"#46039f\"],[0.2222222222222222,\"#7201a8\"],[0.3333333333333333,\"#9c179e\"],[0.4444444444444444,\"#bd3786\"],[0.5555555555555556,\"#d8576b\"],[0.6666666666666666,\"#ed7953\"],[0.7777777777777778,\"#fb9f3a\"],[0.8888888888888888,\"#fdca26\"],[1.0,\"#f0f921\"]]}],\"heatmap\":[{\"type\":\"heatmap\",\"colorbar\":{\"outlinewidth\":0,\"ticks\":\"\"},\"colorscale\":[[0.0,\"#0d0887\"],[0.1111111111111111,\"#46039f\"],[0.2222222222222222,\"#7201a8\"],[0.3333333333333333,\"#9c179e\"],[0.4444444444444444,\"#bd3786\"],[0.5555555555555556,\"#d8576b\"],[0.6666666666666666,\"#ed7953\"],[0.7777777777777778,\"#fb9f3a\"],[0.8888888888888888,\"#fdca26\"],[1.0,\"#f0f921\"]]}],\"heatmapgl\":[{\"type\":\"heatmapgl\",\"colorbar\":{\"outlinewidth\":0,\"ticks\":\"\"},\"colorscale\":[[0.0,\"#0d0887\"],[0.1111111111111111,\"#46039f\"],[0.2222222222222222,\"#7201a8\"],[0.3333333333333333,\"#9c179e\"],[0.4444444444444444,\"#bd3786\"],[0.5555555555555556,\"#d8576b\"],[0.6666666666666666,\"#ed7953\"],[0.7777777777777778,\"#fb9f3a\"],[0.8888888888888888,\"#fdca26\"],[1.0,\"#f0f921\"]]}],\"contourcarpet\":[{\"type\":\"contourcarpet\",\"colorbar\":{\"outlinewidth\":0,\"ticks\":\"\"}}],\"contour\":[{\"type\":\"contour\",\"colorbar\":{\"outlinewidth\":0,\"ticks\":\"\"},\"colorscale\":[[0.0,\"#0d0887\"],[0.1111111111111111,\"#46039f\"],[0.2222222222222222,\"#7201a8\"],[0.3333333333333333,\"#9c179e\"],[0.4444444444444444,\"#bd3786\"],[0.5555555555555556,\"#d8576b\"],[0.6666666666666666,\"#ed7953\"],[0.7777777777777778,\"#fb9f3a\"],[0.8888888888888888,\"#fdca26\"],[1.0,\"#f0f921\"]]}],\"surface\":[{\"type\":\"surface\",\"colorbar\":{\"outlinewidth\":0,\"ticks\":\"\"},\"colorscale\":[[0.0,\"#0d0887\"],[0.1111111111111111,\"#46039f\"],[0.2222222222222222,\"#7201a8\"],[0.3333333333333333,\"#9c179e\"],[0.4444444444444444,\"#bd3786\"],[0.5555555555555556,\"#d8576b\"],[0.6666666666666666,\"#ed7953\"],[0.7777777777777778,\"#fb9f3a\"],[0.8888888888888888,\"#fdca26\"],[1.0,\"#f0f921\"]]}],\"mesh3d\":[{\"type\":\"mesh3d\",\"colorbar\":{\"outlinewidth\":0,\"ticks\":\"\"}}],\"scatter\":[{\"fillpattern\":{\"fillmode\":\"overlay\",\"size\":10,\"solidity\":0.2},\"type\":\"scatter\"}],\"parcoords\":[{\"type\":\"parcoords\",\"line\":{\"colorbar\":{\"outlinewidth\":0,\"ticks\":\"\"}}}],\"scatterpolargl\":[{\"type\":\"scatterpolargl\",\"marker\":{\"colorbar\":{\"outlinewidth\":0,\"ticks\":\"\"}}}],\"bar\":[{\"error_x\":{\"color\":\"#2a3f5f\"},\"error_y\":{\"color\":\"#2a3f5f\"},\"marker\":{\"line\":{\"color\":\"#E5ECF6\",\"width\":0.5},\"pattern\":{\"fillmode\":\"overlay\",\"size\":10,\"solidity\":0.2}},\"type\":\"bar\"}],\"scattergeo\":[{\"type\":\"scattergeo\",\"marker\":{\"colorbar\":{\"outlinewidth\":0,\"ticks\":\"\"}}}],\"scatterpolar\":[{\"type\":\"scatterpolar\",\"marker\":{\"colorbar\":{\"outlinewidth\":0,\"ticks\":\"\"}}}],\"histogram\":[{\"marker\":{\"pattern\":{\"fillmode\":\"overlay\",\"size\":10,\"solidity\":0.2}},\"type\":\"histogram\"}],\"scattergl\":[{\"type\":\"scattergl\",\"marker\":{\"colorbar\":{\"outlinewidth\":0,\"ticks\":\"\"}}}],\"scatter3d\":[{\"type\":\"scatter3d\",\"line\":{\"colorbar\":{\"outlinewidth\":0,\"ticks\":\"\"}},\"marker\":{\"colorbar\":{\"outlinewidth\":0,\"ticks\":\"\"}}}],\"scattermapbox\":[{\"type\":\"scattermapbox\",\"marker\":{\"colorbar\":{\"outlinewidth\":0,\"ticks\":\"\"}}}],\"scatterternary\":[{\"type\":\"scatterternary\",\"marker\":{\"colorbar\":{\"outlinewidth\":0,\"ticks\":\"\"}}}],\"scattercarpet\":[{\"type\":\"scattercarpet\",\"marker\":{\"colorbar\":{\"outlinewidth\":0,\"ticks\":\"\"}}}],\"carpet\":[{\"aaxis\":{\"endlinecolor\":\"#2a3f5f\",\"gridcolor\":\"white\",\"linecolor\":\"white\",\"minorgridcolor\":\"white\",\"startlinecolor\":\"#2a3f5f\"},\"baxis\":{\"endlinecolor\":\"#2a3f5f\",\"gridcolor\":\"white\",\"linecolor\":\"white\",\"minorgridcolor\":\"white\",\"startlinecolor\":\"#2a3f5f\"},\"type\":\"carpet\"}],\"table\":[{\"cells\":{\"fill\":{\"color\":\"#EBF0F8\"},\"line\":{\"color\":\"white\"}},\"header\":{\"fill\":{\"color\":\"#C8D4E3\"},\"line\":{\"color\":\"white\"}},\"type\":\"table\"}],\"barpolar\":[{\"marker\":{\"line\":{\"color\":\"#E5ECF6\",\"width\":0.5},\"pattern\":{\"fillmode\":\"overlay\",\"size\":10,\"solidity\":0.2}},\"type\":\"barpolar\"}],\"pie\":[{\"automargin\":true,\"type\":\"pie\"}]},\"layout\":{\"autotypenumbers\":\"strict\",\"colorway\":[\"#636efa\",\"#EF553B\",\"#00cc96\",\"#ab63fa\",\"#FFA15A\",\"#19d3f3\",\"#FF6692\",\"#B6E880\",\"#FF97FF\",\"#FECB52\"],\"font\":{\"color\":\"#2a3f5f\"},\"hovermode\":\"closest\",\"hoverlabel\":{\"align\":\"left\"},\"paper_bgcolor\":\"white\",\"plot_bgcolor\":\"#E5ECF6\",\"polar\":{\"bgcolor\":\"#E5ECF6\",\"angularaxis\":{\"gridcolor\":\"white\",\"linecolor\":\"white\",\"ticks\":\"\"},\"radialaxis\":{\"gridcolor\":\"white\",\"linecolor\":\"white\",\"ticks\":\"\"}},\"ternary\":{\"bgcolor\":\"#E5ECF6\",\"aaxis\":{\"gridcolor\":\"white\",\"linecolor\":\"white\",\"ticks\":\"\"},\"baxis\":{\"gridcolor\":\"white\",\"linecolor\":\"white\",\"ticks\":\"\"},\"caxis\":{\"gridcolor\":\"white\",\"linecolor\":\"white\",\"ticks\":\"\"}},\"coloraxis\":{\"colorbar\":{\"outlinewidth\":0,\"ticks\":\"\"}},\"colorscale\":{\"sequential\":[[0.0,\"#0d0887\"],[0.1111111111111111,\"#46039f\"],[0.2222222222222222,\"#7201a8\"],[0.3333333333333333,\"#9c179e\"],[0.4444444444444444,\"#bd3786\"],[0.5555555555555556,\"#d8576b\"],[0.6666666666666666,\"#ed7953\"],[0.7777777777777778,\"#fb9f3a\"],[0.8888888888888888,\"#fdca26\"],[1.0,\"#f0f921\"]],\"sequentialminus\":[[0.0,\"#0d0887\"],[0.1111111111111111,\"#46039f\"],[0.2222222222222222,\"#7201a8\"],[0.3333333333333333,\"#9c179e\"],[0.4444444444444444,\"#bd3786\"],[0.5555555555555556,\"#d8576b\"],[0.6666666666666666,\"#ed7953\"],[0.7777777777777778,\"#fb9f3a\"],[0.8888888888888888,\"#fdca26\"],[1.0,\"#f0f921\"]],\"diverging\":[[0,\"#8e0152\"],[0.1,\"#c51b7d\"],[0.2,\"#de77ae\"],[0.3,\"#f1b6da\"],[0.4,\"#fde0ef\"],[0.5,\"#f7f7f7\"],[0.6,\"#e6f5d0\"],[0.7,\"#b8e186\"],[0.8,\"#7fbc41\"],[0.9,\"#4d9221\"],[1,\"#276419\"]]},\"xaxis\":{\"gridcolor\":\"white\",\"linecolor\":\"white\",\"ticks\":\"\",\"title\":{\"standoff\":15},\"zerolinecolor\":\"white\",\"automargin\":true,\"zerolinewidth\":2},\"yaxis\":{\"gridcolor\":\"white\",\"linecolor\":\"white\",\"ticks\":\"\",\"title\":{\"standoff\":15},\"zerolinecolor\":\"white\",\"automargin\":true,\"zerolinewidth\":2},\"scene\":{\"xaxis\":{\"backgroundcolor\":\"#E5ECF6\",\"gridcolor\":\"white\",\"linecolor\":\"white\",\"showbackground\":true,\"ticks\":\"\",\"zerolinecolor\":\"white\",\"gridwidth\":2},\"yaxis\":{\"backgroundcolor\":\"#E5ECF6\",\"gridcolor\":\"white\",\"linecolor\":\"white\",\"showbackground\":true,\"ticks\":\"\",\"zerolinecolor\":\"white\",\"gridwidth\":2},\"zaxis\":{\"backgroundcolor\":\"#E5ECF6\",\"gridcolor\":\"white\",\"linecolor\":\"white\",\"showbackground\":true,\"ticks\":\"\",\"zerolinecolor\":\"white\",\"gridwidth\":2}},\"shapedefaults\":{\"line\":{\"color\":\"#2a3f5f\"}},\"annotationdefaults\":{\"arrowcolor\":\"#2a3f5f\",\"arrowhead\":0,\"arrowwidth\":1},\"geo\":{\"bgcolor\":\"white\",\"landcolor\":\"#E5ECF6\",\"subunitcolor\":\"white\",\"showland\":true,\"showlakes\":true,\"lakecolor\":\"white\"},\"title\":{\"x\":0.05},\"mapbox\":{\"style\":\"light\"}}},\"xaxis\":{\"anchor\":\"y\",\"domain\":[0.0,1.0],\"title\":{\"text\":\"NL\"}},\"yaxis\":{\"anchor\":\"x\",\"domain\":[0.0,1.0],\"title\":{\"text\":\"value\"}},\"legend\":{\"title\":{\"text\":\"variable\"},\"tracegroupgap\":0},\"title\":{\"text\":\"SVM change in accuracy over number of observations (Noise Level 0.1)\"}},                        {\"responsive\": true}                    ).then(function(){\n",
       "                            \n",
       "var gd = document.getElementById('d4bff9c8-a0b1-4391-ae67-ee1fe0ca96c0');\n",
       "var x = new MutationObserver(function (mutations, observer) {{\n",
       "        var display = window.getComputedStyle(gd).display;\n",
       "        if (!display || display === 'none') {{\n",
       "            console.log([gd, 'removed!']);\n",
       "            Plotly.purge(gd);\n",
       "            observer.disconnect();\n",
       "        }}\n",
       "}});\n",
       "\n",
       "// Listen for the removal of the full notebook cells\n",
       "var notebookContainer = gd.closest('#notebook-container');\n",
       "if (notebookContainer) {{\n",
       "    x.observe(notebookContainer, {childList: true});\n",
       "}}\n",
       "\n",
       "// Listen for the clearing of the current output cell\n",
       "var outputEl = gd.closest('.output');\n",
       "if (outputEl) {{\n",
       "    x.observe(outputEl, {childList: true});\n",
       "}}\n",
       "\n",
       "                        })                };                });            </script>        </div>"
      ]
     },
     "metadata": {},
     "output_type": "display_data"
    }
   ],
   "source": [
    "byNoise = df_filtered.groupby(['NL']).mean().sort_values(by=['E_DIFF', 'TESTE'], ascending=True).reset_index()\n",
    "px.line(by_noise,x = \"NL\", y = ['TRE','TESTE'],title = \"SVM change in accuracy over number of observations (Noise Level 0.1)\")"
   ]
  },
  {
   "cell_type": "markdown",
   "id": "1518eb5d-ebe7-43be-a138-e033e9b04142",
   "metadata": {},
   "source": [
    "#### For SVM only, For dataset of size 10k and for each dataset, What is the most stable model and model params? How good is it in comparison to other models? Explain using bias and variance terminoligy.\n",
    "\n",
    "\n",
    "From my result we can see good stabiliy for c=10 and gamma equal to 1\n",
    "\n",
    "\n",
    "\n",
    "\n"
   ]
  },
  {
   "cell_type": "markdown",
   "id": "016787e0-04d7-445a-841d-12ea21a8123f",
   "metadata": {},
   "source": [
    "#### Does regularization help for linear models? consider different datasets sizes. \n",
    "\n",
    "\n",
    "we can see that regularization not help to linear models when the capacity of the model is not enough.\n"
   ]
  },
  {
   "cell_type": "markdown",
   "id": "43e30d8e-fc6b-4735-9b42-10e089317eb0",
   "metadata": {},
   "source": [
    "#### For a given noise level of your chioce, How does the train, test and difference error changes with increasing data sizes? (answer for svm and LR seperatly)"
   ]
  },
  {
   "cell_type": "code",
   "execution_count": 58,
   "id": "2e44ffec-0f39-46e0-91c0-007bffd5d196",
   "metadata": {},
   "outputs": [
    {
     "data": {
      "application/vnd.plotly.v1+json": {
       "config": {
        "plotlyServerURL": "https://plot.ly"
       },
       "data": [
        {
         "hovertemplate": "variable=TRE<br>N=%{x}<br>value=%{y}<extra></extra>",
         "legendgroup": "TRE",
         "line": {
          "color": "#636efa",
          "dash": "solid"
         },
         "marker": {
          "symbol": "circle"
         },
         "mode": "lines",
         "name": "TRE",
         "orientation": "v",
         "showlegend": true,
         "type": "scatter",
         "x": [
          80,
          400,
          800,
          8000
         ],
         "xaxis": "x",
         "y": [
          0.91875,
          0.90875,
          0.92875,
          0.9185625
         ],
         "yaxis": "y"
        },
        {
         "hovertemplate": "variable=TESTE<br>N=%{x}<br>value=%{y}<extra></extra>",
         "legendgroup": "TESTE",
         "line": {
          "color": "#EF553B",
          "dash": "solid"
         },
         "marker": {
          "symbol": "circle"
         },
         "mode": "lines",
         "name": "TESTE",
         "orientation": "v",
         "showlegend": true,
         "type": "scatter",
         "x": [
          80,
          400,
          800,
          8000
         ],
         "xaxis": "x",
         "y": [
          0.925,
          0.925,
          0.8725,
          0.91475
         ],
         "yaxis": "y"
        }
       ],
       "layout": {
        "autosize": true,
        "legend": {
         "title": {
          "text": "variable"
         },
         "tracegroupgap": 0
        },
        "template": {
         "data": {
          "bar": [
           {
            "error_x": {
             "color": "#2a3f5f"
            },
            "error_y": {
             "color": "#2a3f5f"
            },
            "marker": {
             "line": {
              "color": "#E5ECF6",
              "width": 0.5
             },
             "pattern": {
              "fillmode": "overlay",
              "size": 10,
              "solidity": 0.2
             }
            },
            "type": "bar"
           }
          ],
          "barpolar": [
           {
            "marker": {
             "line": {
              "color": "#E5ECF6",
              "width": 0.5
             },
             "pattern": {
              "fillmode": "overlay",
              "size": 10,
              "solidity": 0.2
             }
            },
            "type": "barpolar"
           }
          ],
          "carpet": [
           {
            "aaxis": {
             "endlinecolor": "#2a3f5f",
             "gridcolor": "white",
             "linecolor": "white",
             "minorgridcolor": "white",
             "startlinecolor": "#2a3f5f"
            },
            "baxis": {
             "endlinecolor": "#2a3f5f",
             "gridcolor": "white",
             "linecolor": "white",
             "minorgridcolor": "white",
             "startlinecolor": "#2a3f5f"
            },
            "type": "carpet"
           }
          ],
          "choropleth": [
           {
            "colorbar": {
             "outlinewidth": 0,
             "ticks": ""
            },
            "type": "choropleth"
           }
          ],
          "contour": [
           {
            "colorbar": {
             "outlinewidth": 0,
             "ticks": ""
            },
            "colorscale": [
             [
              0,
              "#0d0887"
             ],
             [
              0.1111111111111111,
              "#46039f"
             ],
             [
              0.2222222222222222,
              "#7201a8"
             ],
             [
              0.3333333333333333,
              "#9c179e"
             ],
             [
              0.4444444444444444,
              "#bd3786"
             ],
             [
              0.5555555555555556,
              "#d8576b"
             ],
             [
              0.6666666666666666,
              "#ed7953"
             ],
             [
              0.7777777777777778,
              "#fb9f3a"
             ],
             [
              0.8888888888888888,
              "#fdca26"
             ],
             [
              1,
              "#f0f921"
             ]
            ],
            "type": "contour"
           }
          ],
          "contourcarpet": [
           {
            "colorbar": {
             "outlinewidth": 0,
             "ticks": ""
            },
            "type": "contourcarpet"
           }
          ],
          "heatmap": [
           {
            "colorbar": {
             "outlinewidth": 0,
             "ticks": ""
            },
            "colorscale": [
             [
              0,
              "#0d0887"
             ],
             [
              0.1111111111111111,
              "#46039f"
             ],
             [
              0.2222222222222222,
              "#7201a8"
             ],
             [
              0.3333333333333333,
              "#9c179e"
             ],
             [
              0.4444444444444444,
              "#bd3786"
             ],
             [
              0.5555555555555556,
              "#d8576b"
             ],
             [
              0.6666666666666666,
              "#ed7953"
             ],
             [
              0.7777777777777778,
              "#fb9f3a"
             ],
             [
              0.8888888888888888,
              "#fdca26"
             ],
             [
              1,
              "#f0f921"
             ]
            ],
            "type": "heatmap"
           }
          ],
          "heatmapgl": [
           {
            "colorbar": {
             "outlinewidth": 0,
             "ticks": ""
            },
            "colorscale": [
             [
              0,
              "#0d0887"
             ],
             [
              0.1111111111111111,
              "#46039f"
             ],
             [
              0.2222222222222222,
              "#7201a8"
             ],
             [
              0.3333333333333333,
              "#9c179e"
             ],
             [
              0.4444444444444444,
              "#bd3786"
             ],
             [
              0.5555555555555556,
              "#d8576b"
             ],
             [
              0.6666666666666666,
              "#ed7953"
             ],
             [
              0.7777777777777778,
              "#fb9f3a"
             ],
             [
              0.8888888888888888,
              "#fdca26"
             ],
             [
              1,
              "#f0f921"
             ]
            ],
            "type": "heatmapgl"
           }
          ],
          "histogram": [
           {
            "marker": {
             "pattern": {
              "fillmode": "overlay",
              "size": 10,
              "solidity": 0.2
             }
            },
            "type": "histogram"
           }
          ],
          "histogram2d": [
           {
            "colorbar": {
             "outlinewidth": 0,
             "ticks": ""
            },
            "colorscale": [
             [
              0,
              "#0d0887"
             ],
             [
              0.1111111111111111,
              "#46039f"
             ],
             [
              0.2222222222222222,
              "#7201a8"
             ],
             [
              0.3333333333333333,
              "#9c179e"
             ],
             [
              0.4444444444444444,
              "#bd3786"
             ],
             [
              0.5555555555555556,
              "#d8576b"
             ],
             [
              0.6666666666666666,
              "#ed7953"
             ],
             [
              0.7777777777777778,
              "#fb9f3a"
             ],
             [
              0.8888888888888888,
              "#fdca26"
             ],
             [
              1,
              "#f0f921"
             ]
            ],
            "type": "histogram2d"
           }
          ],
          "histogram2dcontour": [
           {
            "colorbar": {
             "outlinewidth": 0,
             "ticks": ""
            },
            "colorscale": [
             [
              0,
              "#0d0887"
             ],
             [
              0.1111111111111111,
              "#46039f"
             ],
             [
              0.2222222222222222,
              "#7201a8"
             ],
             [
              0.3333333333333333,
              "#9c179e"
             ],
             [
              0.4444444444444444,
              "#bd3786"
             ],
             [
              0.5555555555555556,
              "#d8576b"
             ],
             [
              0.6666666666666666,
              "#ed7953"
             ],
             [
              0.7777777777777778,
              "#fb9f3a"
             ],
             [
              0.8888888888888888,
              "#fdca26"
             ],
             [
              1,
              "#f0f921"
             ]
            ],
            "type": "histogram2dcontour"
           }
          ],
          "mesh3d": [
           {
            "colorbar": {
             "outlinewidth": 0,
             "ticks": ""
            },
            "type": "mesh3d"
           }
          ],
          "parcoords": [
           {
            "line": {
             "colorbar": {
              "outlinewidth": 0,
              "ticks": ""
             }
            },
            "type": "parcoords"
           }
          ],
          "pie": [
           {
            "automargin": true,
            "type": "pie"
           }
          ],
          "scatter": [
           {
            "fillpattern": {
             "fillmode": "overlay",
             "size": 10,
             "solidity": 0.2
            },
            "type": "scatter"
           }
          ],
          "scatter3d": [
           {
            "line": {
             "colorbar": {
              "outlinewidth": 0,
              "ticks": ""
             }
            },
            "marker": {
             "colorbar": {
              "outlinewidth": 0,
              "ticks": ""
             }
            },
            "type": "scatter3d"
           }
          ],
          "scattercarpet": [
           {
            "marker": {
             "colorbar": {
              "outlinewidth": 0,
              "ticks": ""
             }
            },
            "type": "scattercarpet"
           }
          ],
          "scattergeo": [
           {
            "marker": {
             "colorbar": {
              "outlinewidth": 0,
              "ticks": ""
             }
            },
            "type": "scattergeo"
           }
          ],
          "scattergl": [
           {
            "marker": {
             "colorbar": {
              "outlinewidth": 0,
              "ticks": ""
             }
            },
            "type": "scattergl"
           }
          ],
          "scattermapbox": [
           {
            "marker": {
             "colorbar": {
              "outlinewidth": 0,
              "ticks": ""
             }
            },
            "type": "scattermapbox"
           }
          ],
          "scatterpolar": [
           {
            "marker": {
             "colorbar": {
              "outlinewidth": 0,
              "ticks": ""
             }
            },
            "type": "scatterpolar"
           }
          ],
          "scatterpolargl": [
           {
            "marker": {
             "colorbar": {
              "outlinewidth": 0,
              "ticks": ""
             }
            },
            "type": "scatterpolargl"
           }
          ],
          "scatterternary": [
           {
            "marker": {
             "colorbar": {
              "outlinewidth": 0,
              "ticks": ""
             }
            },
            "type": "scatterternary"
           }
          ],
          "surface": [
           {
            "colorbar": {
             "outlinewidth": 0,
             "ticks": ""
            },
            "colorscale": [
             [
              0,
              "#0d0887"
             ],
             [
              0.1111111111111111,
              "#46039f"
             ],
             [
              0.2222222222222222,
              "#7201a8"
             ],
             [
              0.3333333333333333,
              "#9c179e"
             ],
             [
              0.4444444444444444,
              "#bd3786"
             ],
             [
              0.5555555555555556,
              "#d8576b"
             ],
             [
              0.6666666666666666,
              "#ed7953"
             ],
             [
              0.7777777777777778,
              "#fb9f3a"
             ],
             [
              0.8888888888888888,
              "#fdca26"
             ],
             [
              1,
              "#f0f921"
             ]
            ],
            "type": "surface"
           }
          ],
          "table": [
           {
            "cells": {
             "fill": {
              "color": "#EBF0F8"
             },
             "line": {
              "color": "white"
             }
            },
            "header": {
             "fill": {
              "color": "#C8D4E3"
             },
             "line": {
              "color": "white"
             }
            },
            "type": "table"
           }
          ]
         },
         "layout": {
          "annotationdefaults": {
           "arrowcolor": "#2a3f5f",
           "arrowhead": 0,
           "arrowwidth": 1
          },
          "autotypenumbers": "strict",
          "coloraxis": {
           "colorbar": {
            "outlinewidth": 0,
            "ticks": ""
           }
          },
          "colorscale": {
           "diverging": [
            [
             0,
             "#8e0152"
            ],
            [
             0.1,
             "#c51b7d"
            ],
            [
             0.2,
             "#de77ae"
            ],
            [
             0.3,
             "#f1b6da"
            ],
            [
             0.4,
             "#fde0ef"
            ],
            [
             0.5,
             "#f7f7f7"
            ],
            [
             0.6,
             "#e6f5d0"
            ],
            [
             0.7,
             "#b8e186"
            ],
            [
             0.8,
             "#7fbc41"
            ],
            [
             0.9,
             "#4d9221"
            ],
            [
             1,
             "#276419"
            ]
           ],
           "sequential": [
            [
             0,
             "#0d0887"
            ],
            [
             0.1111111111111111,
             "#46039f"
            ],
            [
             0.2222222222222222,
             "#7201a8"
            ],
            [
             0.3333333333333333,
             "#9c179e"
            ],
            [
             0.4444444444444444,
             "#bd3786"
            ],
            [
             0.5555555555555556,
             "#d8576b"
            ],
            [
             0.6666666666666666,
             "#ed7953"
            ],
            [
             0.7777777777777778,
             "#fb9f3a"
            ],
            [
             0.8888888888888888,
             "#fdca26"
            ],
            [
             1,
             "#f0f921"
            ]
           ],
           "sequentialminus": [
            [
             0,
             "#0d0887"
            ],
            [
             0.1111111111111111,
             "#46039f"
            ],
            [
             0.2222222222222222,
             "#7201a8"
            ],
            [
             0.3333333333333333,
             "#9c179e"
            ],
            [
             0.4444444444444444,
             "#bd3786"
            ],
            [
             0.5555555555555556,
             "#d8576b"
            ],
            [
             0.6666666666666666,
             "#ed7953"
            ],
            [
             0.7777777777777778,
             "#fb9f3a"
            ],
            [
             0.8888888888888888,
             "#fdca26"
            ],
            [
             1,
             "#f0f921"
            ]
           ]
          },
          "colorway": [
           "#636efa",
           "#EF553B",
           "#00cc96",
           "#ab63fa",
           "#FFA15A",
           "#19d3f3",
           "#FF6692",
           "#B6E880",
           "#FF97FF",
           "#FECB52"
          ],
          "font": {
           "color": "#2a3f5f"
          },
          "geo": {
           "bgcolor": "white",
           "lakecolor": "white",
           "landcolor": "#E5ECF6",
           "showlakes": true,
           "showland": true,
           "subunitcolor": "white"
          },
          "hoverlabel": {
           "align": "left"
          },
          "hovermode": "closest",
          "mapbox": {
           "style": "light"
          },
          "paper_bgcolor": "white",
          "plot_bgcolor": "#E5ECF6",
          "polar": {
           "angularaxis": {
            "gridcolor": "white",
            "linecolor": "white",
            "ticks": ""
           },
           "bgcolor": "#E5ECF6",
           "radialaxis": {
            "gridcolor": "white",
            "linecolor": "white",
            "ticks": ""
           }
          },
          "scene": {
           "xaxis": {
            "backgroundcolor": "#E5ECF6",
            "gridcolor": "white",
            "gridwidth": 2,
            "linecolor": "white",
            "showbackground": true,
            "ticks": "",
            "zerolinecolor": "white"
           },
           "yaxis": {
            "backgroundcolor": "#E5ECF6",
            "gridcolor": "white",
            "gridwidth": 2,
            "linecolor": "white",
            "showbackground": true,
            "ticks": "",
            "zerolinecolor": "white"
           },
           "zaxis": {
            "backgroundcolor": "#E5ECF6",
            "gridcolor": "white",
            "gridwidth": 2,
            "linecolor": "white",
            "showbackground": true,
            "ticks": "",
            "zerolinecolor": "white"
           }
          },
          "shapedefaults": {
           "line": {
            "color": "#2a3f5f"
           }
          },
          "ternary": {
           "aaxis": {
            "gridcolor": "white",
            "linecolor": "white",
            "ticks": ""
           },
           "baxis": {
            "gridcolor": "white",
            "linecolor": "white",
            "ticks": ""
           },
           "bgcolor": "#E5ECF6",
           "caxis": {
            "gridcolor": "white",
            "linecolor": "white",
            "ticks": ""
           }
          },
          "title": {
           "x": 0.05
          },
          "xaxis": {
           "automargin": true,
           "gridcolor": "white",
           "linecolor": "white",
           "ticks": "",
           "title": {
            "standoff": 15
           },
           "zerolinecolor": "white",
           "zerolinewidth": 2
          },
          "yaxis": {
           "automargin": true,
           "gridcolor": "white",
           "linecolor": "white",
           "ticks": "",
           "title": {
            "standoff": 15
           },
           "zerolinecolor": "white",
           "zerolinewidth": 2
          }
         }
        },
        "title": {
         "text": "Logistic reg change in accuracy over number of observations (Noise Level 0.1)"
        },
        "xaxis": {
         "anchor": "y",
         "autorange": true,
         "domain": [
          0,
          1
         ],
         "range": [
          80,
          8000
         ],
         "title": {
          "text": "N"
         },
         "type": "linear"
        },
        "yaxis": {
         "anchor": "x",
         "autorange": true,
         "domain": [
          0,
          1
         ],
         "range": [
          0.869375,
          0.931875
         ],
         "title": {
          "text": "value"
         },
         "type": "linear"
        }
       }
      },
      "image/png": "[encoded data removed]",
      "text/html": [
       "<div>                            <div id=\"a3523d83-f860-4492-a504-a49016dd08eb\" class=\"plotly-graph-div\" style=\"height:525px; width:100%;\"></div>            <script type=\"text/javascript\">                require([\"plotly\"], function(Plotly) {                    window.PLOTLYENV=window.PLOTLYENV || {};                                    if (document.getElementById(\"a3523d83-f860-4492-a504-a49016dd08eb\")) {                    Plotly.newPlot(                        \"a3523d83-f860-4492-a504-a49016dd08eb\",                        [{\"hovertemplate\":\"variable=TRE<br>N=%{x}<br>value=%{y}<extra></extra>\",\"legendgroup\":\"TRE\",\"line\":{\"color\":\"#636efa\",\"dash\":\"solid\"},\"marker\":{\"symbol\":\"circle\"},\"mode\":\"lines\",\"name\":\"TRE\",\"orientation\":\"v\",\"showlegend\":true,\"x\":[80,400,800,8000],\"xaxis\":\"x\",\"y\":[0.91875,0.90875,0.92875,0.9185625],\"yaxis\":\"y\",\"type\":\"scatter\"},{\"hovertemplate\":\"variable=TESTE<br>N=%{x}<br>value=%{y}<extra></extra>\",\"legendgroup\":\"TESTE\",\"line\":{\"color\":\"#EF553B\",\"dash\":\"solid\"},\"marker\":{\"symbol\":\"circle\"},\"mode\":\"lines\",\"name\":\"TESTE\",\"orientation\":\"v\",\"showlegend\":true,\"x\":[80,400,800,8000],\"xaxis\":\"x\",\"y\":[0.925,0.925,0.8725,0.91475],\"yaxis\":\"y\",\"type\":\"scatter\"}],                        {\"template\":{\"data\":{\"histogram2dcontour\":[{\"type\":\"histogram2dcontour\",\"colorbar\":{\"outlinewidth\":0,\"ticks\":\"\"},\"colorscale\":[[0.0,\"#0d0887\"],[0.1111111111111111,\"#46039f\"],[0.2222222222222222,\"#7201a8\"],[0.3333333333333333,\"#9c179e\"],[0.4444444444444444,\"#bd3786\"],[0.5555555555555556,\"#d8576b\"],[0.6666666666666666,\"#ed7953\"],[0.7777777777777778,\"#fb9f3a\"],[0.8888888888888888,\"#fdca26\"],[1.0,\"#f0f921\"]]}],\"choropleth\":[{\"type\":\"choropleth\",\"colorbar\":{\"outlinewidth\":0,\"ticks\":\"\"}}],\"histogram2d\":[{\"type\":\"histogram2d\",\"colorbar\":{\"outlinewidth\":0,\"ticks\":\"\"},\"colorscale\":[[0.0,\"#0d0887\"],[0.1111111111111111,\"#46039f\"],[0.2222222222222222,\"#7201a8\"],[0.3333333333333333,\"#9c179e\"],[0.4444444444444444,\"#bd3786\"],[0.5555555555555556,\"#d8576b\"],[0.6666666666666666,\"#ed7953\"],[0.7777777777777778,\"#fb9f3a\"],[0.8888888888888888,\"#fdca26\"],[1.0,\"#f0f921\"]]}],\"heatmap\":[{\"type\":\"heatmap\",\"colorbar\":{\"outlinewidth\":0,\"ticks\":\"\"},\"colorscale\":[[0.0,\"#0d0887\"],[0.1111111111111111,\"#46039f\"],[0.2222222222222222,\"#7201a8\"],[0.3333333333333333,\"#9c179e\"],[0.4444444444444444,\"#bd3786\"],[0.5555555555555556,\"#d8576b\"],[0.6666666666666666,\"#ed7953\"],[0.7777777777777778,\"#fb9f3a\"],[0.8888888888888888,\"#fdca26\"],[1.0,\"#f0f921\"]]}],\"heatmapgl\":[{\"type\":\"heatmapgl\",\"colorbar\":{\"outlinewidth\":0,\"ticks\":\"\"},\"colorscale\":[[0.0,\"#0d0887\"],[0.1111111111111111,\"#46039f\"],[0.2222222222222222,\"#7201a8\"],[0.3333333333333333,\"#9c179e\"],[0.4444444444444444,\"#bd3786\"],[0.5555555555555556,\"#d8576b\"],[0.6666666666666666,\"#ed7953\"],[0.7777777777777778,\"#fb9f3a\"],[0.8888888888888888,\"#fdca26\"],[1.0,\"#f0f921\"]]}],\"contourcarpet\":[{\"type\":\"contourcarpet\",\"colorbar\":{\"outlinewidth\":0,\"ticks\":\"\"}}],\"contour\":[{\"type\":\"contour\",\"colorbar\":{\"outlinewidth\":0,\"ticks\":\"\"},\"colorscale\":[[0.0,\"#0d0887\"],[0.1111111111111111,\"#46039f\"],[0.2222222222222222,\"#7201a8\"],[0.3333333333333333,\"#9c179e\"],[0.4444444444444444,\"#bd3786\"],[0.5555555555555556,\"#d8576b\"],[0.6666666666666666,\"#ed7953\"],[0.7777777777777778,\"#fb9f3a\"],[0.8888888888888888,\"#fdca26\"],[1.0,\"#f0f921\"]]}],\"surface\":[{\"type\":\"surface\",\"colorbar\":{\"outlinewidth\":0,\"ticks\":\"\"},\"colorscale\":[[0.0,\"#0d0887\"],[0.1111111111111111,\"#46039f\"],[0.2222222222222222,\"#7201a8\"],[0.3333333333333333,\"#9c179e\"],[0.4444444444444444,\"#bd3786\"],[0.5555555555555556,\"#d8576b\"],[0.6666666666666666,\"#ed7953\"],[0.7777777777777778,\"#fb9f3a\"],[0.8888888888888888,\"#fdca26\"],[1.0,\"#f0f921\"]]}],\"mesh3d\":[{\"type\":\"mesh3d\",\"colorbar\":{\"outlinewidth\":0,\"ticks\":\"\"}}],\"scatter\":[{\"fillpattern\":{\"fillmode\":\"overlay\",\"size\":10,\"solidity\":0.2},\"type\":\"scatter\"}],\"parcoords\":[{\"type\":\"parcoords\",\"line\":{\"colorbar\":{\"outlinewidth\":0,\"ticks\":\"\"}}}],\"scatterpolargl\":[{\"type\":\"scatterpolargl\",\"marker\":{\"colorbar\":{\"outlinewidth\":0,\"ticks\":\"\"}}}],\"bar\":[{\"error_x\":{\"color\":\"#2a3f5f\"},\"error_y\":{\"color\":\"#2a3f5f\"},\"marker\":{\"line\":{\"color\":\"#E5ECF6\",\"width\":0.5},\"pattern\":{\"fillmode\":\"overlay\",\"size\":10,\"solidity\":0.2}},\"type\":\"bar\"}],\"scattergeo\":[{\"type\":\"scattergeo\",\"marker\":{\"colorbar\":{\"outlinewidth\":0,\"ticks\":\"\"}}}],\"scatterpolar\":[{\"type\":\"scatterpolar\",\"marker\":{\"colorbar\":{\"outlinewidth\":0,\"ticks\":\"\"}}}],\"histogram\":[{\"marker\":{\"pattern\":{\"fillmode\":\"overlay\",\"size\":10,\"solidity\":0.2}},\"type\":\"histogram\"}],\"scattergl\":[{\"type\":\"scattergl\",\"marker\":{\"colorbar\":{\"outlinewidth\":0,\"ticks\":\"\"}}}],\"scatter3d\":[{\"type\":\"scatter3d\",\"line\":{\"colorbar\":{\"outlinewidth\":0,\"ticks\":\"\"}},\"marker\":{\"colorbar\":{\"outlinewidth\":0,\"ticks\":\"\"}}}],\"scattermapbox\":[{\"type\":\"scattermapbox\",\"marker\":{\"colorbar\":{\"outlinewidth\":0,\"ticks\":\"\"}}}],\"scatterternary\":[{\"type\":\"scatterternary\",\"marker\":{\"colorbar\":{\"outlinewidth\":0,\"ticks\":\"\"}}}],\"scattercarpet\":[{\"type\":\"scattercarpet\",\"marker\":{\"colorbar\":{\"outlinewidth\":0,\"ticks\":\"\"}}}],\"carpet\":[{\"aaxis\":{\"endlinecolor\":\"#2a3f5f\",\"gridcolor\":\"white\",\"linecolor\":\"white\",\"minorgridcolor\":\"white\",\"startlinecolor\":\"#2a3f5f\"},\"baxis\":{\"endlinecolor\":\"#2a3f5f\",\"gridcolor\":\"white\",\"linecolor\":\"white\",\"minorgridcolor\":\"white\",\"startlinecolor\":\"#2a3f5f\"},\"type\":\"carpet\"}],\"table\":[{\"cells\":{\"fill\":{\"color\":\"#EBF0F8\"},\"line\":{\"color\":\"white\"}},\"header\":{\"fill\":{\"color\":\"#C8D4E3\"},\"line\":{\"color\":\"white\"}},\"type\":\"table\"}],\"barpolar\":[{\"marker\":{\"line\":{\"color\":\"#E5ECF6\",\"width\":0.5},\"pattern\":{\"fillmode\":\"overlay\",\"size\":10,\"solidity\":0.2}},\"type\":\"barpolar\"}],\"pie\":[{\"automargin\":true,\"type\":\"pie\"}]},\"layout\":{\"autotypenumbers\":\"strict\",\"colorway\":[\"#636efa\",\"#EF553B\",\"#00cc96\",\"#ab63fa\",\"#FFA15A\",\"#19d3f3\",\"#FF6692\",\"#B6E880\",\"#FF97FF\",\"#FECB52\"],\"font\":{\"color\":\"#2a3f5f\"},\"hovermode\":\"closest\",\"hoverlabel\":{\"align\":\"left\"},\"paper_bgcolor\":\"white\",\"plot_bgcolor\":\"#E5ECF6\",\"polar\":{\"bgcolor\":\"#E5ECF6\",\"angularaxis\":{\"gridcolor\":\"white\",\"linecolor\":\"white\",\"ticks\":\"\"},\"radialaxis\":{\"gridcolor\":\"white\",\"linecolor\":\"white\",\"ticks\":\"\"}},\"ternary\":{\"bgcolor\":\"#E5ECF6\",\"aaxis\":{\"gridcolor\":\"white\",\"linecolor\":\"white\",\"ticks\":\"\"},\"baxis\":{\"gridcolor\":\"white\",\"linecolor\":\"white\",\"ticks\":\"\"},\"caxis\":{\"gridcolor\":\"white\",\"linecolor\":\"white\",\"ticks\":\"\"}},\"coloraxis\":{\"colorbar\":{\"outlinewidth\":0,\"ticks\":\"\"}},\"colorscale\":{\"sequential\":[[0.0,\"#0d0887\"],[0.1111111111111111,\"#46039f\"],[0.2222222222222222,\"#7201a8\"],[0.3333333333333333,\"#9c179e\"],[0.4444444444444444,\"#bd3786\"],[0.5555555555555556,\"#d8576b\"],[0.6666666666666666,\"#ed7953\"],[0.7777777777777778,\"#fb9f3a\"],[0.8888888888888888,\"#fdca26\"],[1.0,\"#f0f921\"]],\"sequentialminus\":[[0.0,\"#0d0887\"],[0.1111111111111111,\"#46039f\"],[0.2222222222222222,\"#7201a8\"],[0.3333333333333333,\"#9c179e\"],[0.4444444444444444,\"#bd3786\"],[0.5555555555555556,\"#d8576b\"],[0.6666666666666666,\"#ed7953\"],[0.7777777777777778,\"#fb9f3a\"],[0.8888888888888888,\"#fdca26\"],[1.0,\"#f0f921\"]],\"diverging\":[[0,\"#8e0152\"],[0.1,\"#c51b7d\"],[0.2,\"#de77ae\"],[0.3,\"#f1b6da\"],[0.4,\"#fde0ef\"],[0.5,\"#f7f7f7\"],[0.6,\"#e6f5d0\"],[0.7,\"#b8e186\"],[0.8,\"#7fbc41\"],[0.9,\"#4d9221\"],[1,\"#276419\"]]},\"xaxis\":{\"gridcolor\":\"white\",\"linecolor\":\"white\",\"ticks\":\"\",\"title\":{\"standoff\":15},\"zerolinecolor\":\"white\",\"automargin\":true,\"zerolinewidth\":2},\"yaxis\":{\"gridcolor\":\"white\",\"linecolor\":\"white\",\"ticks\":\"\",\"title\":{\"standoff\":15},\"zerolinecolor\":\"white\",\"automargin\":true,\"zerolinewidth\":2},\"scene\":{\"xaxis\":{\"backgroundcolor\":\"#E5ECF6\",\"gridcolor\":\"white\",\"linecolor\":\"white\",\"showbackground\":true,\"ticks\":\"\",\"zerolinecolor\":\"white\",\"gridwidth\":2},\"yaxis\":{\"backgroundcolor\":\"#E5ECF6\",\"gridcolor\":\"white\",\"linecolor\":\"white\",\"showbackground\":true,\"ticks\":\"\",\"zerolinecolor\":\"white\",\"gridwidth\":2},\"zaxis\":{\"backgroundcolor\":\"#E5ECF6\",\"gridcolor\":\"white\",\"linecolor\":\"white\",\"showbackground\":true,\"ticks\":\"\",\"zerolinecolor\":\"white\",\"gridwidth\":2}},\"shapedefaults\":{\"line\":{\"color\":\"#2a3f5f\"}},\"annotationdefaults\":{\"arrowcolor\":\"#2a3f5f\",\"arrowhead\":0,\"arrowwidth\":1},\"geo\":{\"bgcolor\":\"white\",\"landcolor\":\"#E5ECF6\",\"subunitcolor\":\"white\",\"showland\":true,\"showlakes\":true,\"lakecolor\":\"white\"},\"title\":{\"x\":0.05},\"mapbox\":{\"style\":\"light\"}}},\"xaxis\":{\"anchor\":\"y\",\"domain\":[0.0,1.0],\"title\":{\"text\":\"N\"}},\"yaxis\":{\"anchor\":\"x\",\"domain\":[0.0,1.0],\"title\":{\"text\":\"value\"}},\"legend\":{\"title\":{\"text\":\"variable\"},\"tracegroupgap\":0},\"title\":{\"text\":\"Logistic reg change in accuracy over number of observations (Noise Level 0.1)\"}},                        {\"responsive\": true}                    ).then(function(){\n",
       "                            \n",
       "var gd = document.getElementById('a3523d83-f860-4492-a504-a49016dd08eb');\n",
       "var x = new MutationObserver(function (mutations, observer) {{\n",
       "        var display = window.getComputedStyle(gd).display;\n",
       "        if (!display || display === 'none') {{\n",
       "            console.log([gd, 'removed!']);\n",
       "            Plotly.purge(gd);\n",
       "            observer.disconnect();\n",
       "        }}\n",
       "}});\n",
       "\n",
       "// Listen for the removal of the full notebook cells\n",
       "var notebookContainer = gd.closest('#notebook-container');\n",
       "if (notebookContainer) {{\n",
       "    x.observe(notebookContainer, {childList: true});\n",
       "}}\n",
       "\n",
       "// Listen for the clearing of the current output cell\n",
       "var outputEl = gd.closest('.output');\n",
       "if (outputEl) {{\n",
       "    x.observe(outputEl, {childList: true});\n",
       "}}\n",
       "\n",
       "                        })                };                });            </script>        </div>"
      ]
     },
     "metadata": {},
     "output_type": "display_data"
    }
   ],
   "source": [
    "df_filtered = df[(df['CLF_NAME'] == 'svm')].sort_values(by=['E_DIFF', 'TESTE'], ascending=True)\n",
    "by_noise = df_filtered.groupby([\"N\",\"NL\"]).mean()\n",
    "by_noise = by_noise.reset_index() \n",
    "px.line(by_noise.query(\"NL == 0.1\"),x = \"N\", y = ['TRE','TESTE'],title = \"Logistic reg change in accuracy over number of observations (Noise Level 0.1)\")"
   ]
  },
  {
   "cell_type": "markdown",
   "id": "4696e365-c6af-4e06-9a7e-0ac24848e543",
   "metadata": {},
   "source": [
    "we can see that for increasing size the test error is smaller"
   ]
  },
  {
   "cell_type": "markdown",
   "id": "03789d19-a41e-4e03-9786-6770f4e9d89e",
   "metadata": {},
   "source": [
    "#### For a given noise level of your chioce, How does the train, test and difference error changes with increasing model complexity? (answer for svm and LR seperatly)\n",
    "\n",
    "one can see that the error difference is smaller when the database is bigger\n",
    "\n"
   ]
  },
  {
   "cell_type": "markdown",
   "id": "244f1876-3933-4cfc-bb01-f1f6f18a8f7e",
   "metadata": {},
   "source": [
    " #### Are the noise level effect the number of datapoints needed to reach optimal test results? \n",
    " \n",
    " \n",
    " yes, with noise level the size is changed "
   ]
  },
  {
   "cell_type": "markdown",
   "id": "8480cef7-5cac-4253-8dcd-a320e532a23d",
   "metadata": {},
   "source": []
  },
  {
   "cell_type": "markdown",
   "id": "ed7e0146-9c7a-4cf1-a83e-da9a11bcc796",
   "metadata": {
    "tags": []
   },
   "source": [
    "### Analysing the expermient results"
   ]
  },
  {
   "cell_type": "markdown",
   "id": "0f39e9c4-0332-4564-a674-52b99332ecfd",
   "metadata": {
    "tags": []
   },
   "source": [
    "1. For SVM only, For dataset of size 10k and for each dataset, What are the best model params? How stable is it? \n",
    "1. For SVM only, For dataset of size 10k and for each dataset, What is the most stable model and model params? How good is it in comparison to other models? Explain using bias and variance terminoligy.\n",
    "1. Does regularization help for linear models? consider different datasets sizes. \n",
    "1. For a given noise level of your chioce, How does the train, test and difference error changes with increasing data sizes? (answer for svm and LR seperatly)\n",
    "1. For a given noise level of your chioce, How does the train, test and difference error changes with increasing model complexity? (answer for svm and LR seperatly)\n",
    "1. Are the noise level effect the number of datapoints needed to reach optimal test results? "
   ]
  },
  {
   "cell_type": "markdown",
   "id": "237fa350-4106-419c-9020-51986a0a716d",
   "metadata": {
    "tags": []
   },
   "source": [
    "Bonus:\n",
    "\n",
    "* For SVM: Select one dataset and with 0.2 noise level. Identify the optimal model params, and visualize the decision boundry learned. \n",
    "  * Hint: Use a grid. See classification models notebook "
   ]
  },
  {
   "cell_type": "markdown",
   "id": "e8bf7262-12b1-4417-acd2-eb8365b04b11",
   "metadata": {
    "tags": []
   },
   "source": [
    "## Tips and Hints"
   ]
  },
  {
   "cell_type": "markdown",
   "id": "aca4522e-a8e9-4476-90ac-d1a2679085f4",
   "metadata": {},
   "source": [
    "For buliding the experiment:\n",
    "\n",
    "* Start with one dataframe holding all the data for both datastes with different noise level. Use the `make_<dataset_name>_dataframe()` functions below, and add two columns, dataset_name and noise_level, before appending the new dataset to the rest of the datasets. Use `df = pd.DataFrame()` to start with an empty dataframe and using a loop, add data to it using `df = df.append(<the needed df here>)`. Verify that you have 10k samples for each dataset type and noise level by a proper `.value_counts()`. You can modify the \n",
    "* When you'll need an N samples data with a specific noise level, use `query()` and `head(n)` to get the needed dataset. \n",
    "* Use sklearn `train_test_split()` method to split the data with `test_size` and `random_state` parameters set correctly to ensure you are always splitting the data the same why for a given fold `k`. Read [the docs](https://scikit-learn.org/stable/modules/generated/sklearn.model_selection.train_test_split.html) if needed. \n",
    "* You can also not create your own data splitter, and instead use `model_selection.cross_validate()` from sklearn. You'll need to ask for the train erros as well as the test errors, see [here](https://scikit-learn.org/stable/modules/generated/sklearn.model_selection.cross_validate.html).\n",
    "* Use prints in proper location to ensure the progress of the experiment. "
   ]
  },
  {
   "cell_type": "markdown",
   "id": "b4f130c6-62ba-4490-983d-1d63470dc615",
   "metadata": {},
   "source": [
    "**If you get stuck, and need refernce, scroll to the end of the notebook to see more hints!**"
   ]
  },
  {
   "cell_type": "markdown",
   "id": "ad8ffe8f-8c0b-4dc3-9cc2-9c3dc02852d7",
   "metadata": {
    "jp-MarkdownHeadingCollapsed": true,
    "tags": []
   },
   "source": [
    "## Moons dataset"
   ]
  },
  {
   "cell_type": "code",
   "execution_count": 37,
   "id": "7a6b4c61-454e-4887-963f-61d5ec6bc19f",
   "metadata": {
    "jupyter": {
     "source_hidden": true
    },
    "tags": []
   },
   "outputs": [],
   "source": [
    "from sklearn.datasets import make_moons"
   ]
  },
  {
   "cell_type": "code",
   "execution_count": 38,
   "id": "7392ae8f-32a7-4c77-a5be-34043ecd09ec",
   "metadata": {
    "collapsed": true,
    "jupyter": {
     "outputs_hidden": true,
     "source_hidden": true
    },
    "tags": []
   },
   "outputs": [
    {
     "data": {
      "text/html": [
       "<div>\n",
       "<style scoped>\n",
       "    .dataframe tbody tr th:only-of-type {\n",
       "        vertical-align: middle;\n",
       "    }\n",
       "\n",
       "    .dataframe tbody tr th {\n",
       "        vertical-align: top;\n",
       "    }\n",
       "\n",
       "    .dataframe thead th {\n",
       "        text-align: right;\n",
       "    }\n",
       "</style>\n",
       "<table border=\"1\" class=\"dataframe\">\n",
       "  <thead>\n",
       "    <tr style=\"text-align: right;\">\n",
       "      <th></th>\n",
       "      <th>x</th>\n",
       "      <th>y</th>\n",
       "      <th>label</th>\n",
       "    </tr>\n",
       "  </thead>\n",
       "  <tbody>\n",
       "    <tr>\n",
       "      <th>0</th>\n",
       "      <td>0.917089</td>\n",
       "      <td>0.154399</td>\n",
       "      <td>A</td>\n",
       "    </tr>\n",
       "    <tr>\n",
       "      <th>1</th>\n",
       "      <td>0.771049</td>\n",
       "      <td>0.618307</td>\n",
       "      <td>A</td>\n",
       "    </tr>\n",
       "    <tr>\n",
       "      <th>2</th>\n",
       "      <td>1.125509</td>\n",
       "      <td>-0.606562</td>\n",
       "      <td>B</td>\n",
       "    </tr>\n",
       "    <tr>\n",
       "      <th>3</th>\n",
       "      <td>0.320468</td>\n",
       "      <td>-0.036045</td>\n",
       "      <td>B</td>\n",
       "    </tr>\n",
       "    <tr>\n",
       "      <th>4</th>\n",
       "      <td>-0.789438</td>\n",
       "      <td>0.579297</td>\n",
       "      <td>A</td>\n",
       "    </tr>\n",
       "  </tbody>\n",
       "</table>\n",
       "</div>"
      ],
      "text/plain": [
       "          x         y label\n",
       "0  0.917089  0.154399     A\n",
       "1  0.771049  0.618307     A\n",
       "2  1.125509 -0.606562     B\n",
       "3  0.320468 -0.036045     B\n",
       "4 -0.789438  0.579297     A"
      ]
     },
     "execution_count": 38,
     "metadata": {},
     "output_type": "execute_result"
    }
   ],
   "source": [
    "moons_df = make_moons_dataframe(n_samples=1000, noise_level=0.1)\n",
    "moons_df.head()"
   ]
  },
  {
   "cell_type": "code",
   "execution_count": 39,
   "id": "48c4d95c-3cad-4596-a8b3-29d67aa9859c",
   "metadata": {},
   "outputs": [
    {
     "data": {
      "application/vnd.jupyter.widget-view+json": {
       "model_id": "12f352e61fca467b8d90f27b16a345c9",
       "version_major": 2,
       "version_minor": 0
      },
      "text/plain": [
       "interactive(children=(FloatSlider(value=0.0, description='noise_level', max=0.5, step=0.05), Output()), _dom_c…"
      ]
     },
     "metadata": {},
     "output_type": "display_data"
    }
   ],
   "source": [
    "@widgets.interact\n",
    "def plot_noisy_moons(noise_level = widgets.FloatSlider(value=0, min=0, max=0.5, step=0.05)):\n",
    "    moons_df = make_moons_dataframe(n_samples=1000, noise_level=noise_level)\n",
    "    return px.scatter(moons_df, x='x', y='y', color = 'label')"
   ]
  },
  {
   "cell_type": "markdown",
   "id": "a3299f00-00b8-4703-8568-35de2913a487",
   "metadata": {
    "jp-MarkdownHeadingCollapsed": true,
    "tags": []
   },
   "source": [
    "## Circles Dataset"
   ]
  },
  {
   "cell_type": "code",
   "execution_count": 40,
   "id": "14b1498d-60e1-429e-a122-f120f5ed5720",
   "metadata": {},
   "outputs": [
    {
     "data": {
      "text/html": [
       "<div>\n",
       "<style scoped>\n",
       "    .dataframe tbody tr th:only-of-type {\n",
       "        vertical-align: middle;\n",
       "    }\n",
       "\n",
       "    .dataframe tbody tr th {\n",
       "        vertical-align: top;\n",
       "    }\n",
       "\n",
       "    .dataframe thead th {\n",
       "        text-align: right;\n",
       "    }\n",
       "</style>\n",
       "<table border=\"1\" class=\"dataframe\">\n",
       "  <thead>\n",
       "    <tr style=\"text-align: right;\">\n",
       "      <th></th>\n",
       "      <th>x</th>\n",
       "      <th>y</th>\n",
       "      <th>label</th>\n",
       "    </tr>\n",
       "  </thead>\n",
       "  <tbody>\n",
       "    <tr>\n",
       "      <th>0</th>\n",
       "      <td>0.750987</td>\n",
       "      <td>0.275714</td>\n",
       "      <td>B</td>\n",
       "    </tr>\n",
       "    <tr>\n",
       "      <th>1</th>\n",
       "      <td>-0.492727</td>\n",
       "      <td>0.870184</td>\n",
       "      <td>A</td>\n",
       "    </tr>\n",
       "    <tr>\n",
       "      <th>2</th>\n",
       "      <td>-0.863923</td>\n",
       "      <td>-0.503623</td>\n",
       "      <td>A</td>\n",
       "    </tr>\n",
       "    <tr>\n",
       "      <th>3</th>\n",
       "      <td>0.637424</td>\n",
       "      <td>-0.770513</td>\n",
       "      <td>A</td>\n",
       "    </tr>\n",
       "    <tr>\n",
       "      <th>4</th>\n",
       "      <td>0.228015</td>\n",
       "      <td>-0.766817</td>\n",
       "      <td>B</td>\n",
       "    </tr>\n",
       "  </tbody>\n",
       "</table>\n",
       "</div>"
      ],
      "text/plain": [
       "          x         y label\n",
       "0  0.750987  0.275714     B\n",
       "1 -0.492727  0.870184     A\n",
       "2 -0.863923 -0.503623     A\n",
       "3  0.637424 -0.770513     A\n",
       "4  0.228015 -0.766817     B"
      ]
     },
     "execution_count": 40,
     "metadata": {},
     "output_type": "execute_result"
    }
   ],
   "source": [
    "circles_df = make_circles_dataframe(n_samples=500, noise_level=0)\n",
    "circles_df.head()"
   ]
  },
  {
   "cell_type": "code",
   "execution_count": 41,
   "id": "52ef522a-e381-42e1-b321-31b3d2f3b0de",
   "metadata": {},
   "outputs": [
    {
     "data": {
      "application/vnd.jupyter.widget-view+json": {
       "model_id": "24aae1249d84474db1385229e63ef828",
       "version_major": 2,
       "version_minor": 0
      },
      "text/plain": [
       "interactive(children=(FloatSlider(value=0.0, description='noise_level', max=0.5, step=0.05), Output()), _dom_c…"
      ]
     },
     "metadata": {},
     "output_type": "display_data"
    }
   ],
   "source": [
    "@widgets.interact\n",
    "def plot_noisy_circles(noise_level = widgets.FloatSlider(value=0, min=0, max=0.5, step=0.05)):\n",
    "    df = make_circles_dataframe(1000, noise_level)\n",
    "    return px.scatter(df, x='x', y='y', color = 'label')"
   ]
  },
  {
   "cell_type": "markdown",
   "id": "68124026-b4bc-4022-81ee-158175f9e732",
   "metadata": {
    "tags": []
   },
   "source": [
    "## Appendix"
   ]
  },
  {
   "cell_type": "markdown",
   "id": "ac7c6e0b-b513-4bb7-b39e-ae3baa5b3e68",
   "metadata": {},
   "source": [
    "### More hints!"
   ]
  },
  {
   "cell_type": "markdown",
   "id": "c2ad0ce4-d598-4e30-ab43-dd9a064d8dd8",
   "metadata": {},
   "source": [
    "If you'll build the datasets dataframe correctly, you'll have **one** dataframe that has dataset_name and noise_level colmuns, as well as the regular x,y,label colmns. To unsure you've appended everything correctly, groupby the proper colmuns and look at the size:"
   ]
  },
  {
   "cell_type": "code",
   "execution_count": null,
   "id": "4b5d99fc-102f-4b04-8962-1e85e8909cee",
   "metadata": {},
   "outputs": [],
   "source": [
    "# Use proper groupby statement to ensure the datasets dataframe contains data as expected. You should see the following result:"
   ]
  },
  {
   "cell_type": "markdown",
   "id": "8f9e1094-232b-46f2-ba89-856e14fab58b",
   "metadata": {},
   "source": [
    "Your "
   ]
  },
  {
   "cell_type": "markdown",
   "id": "fc58ae49-7d87-462b-b681-61536ae4bca8",
   "metadata": {},
   "source": [
    "You experiment code should look something like that:"
   ]
  },
  {
   "cell_type": "code",
   "execution_count": null,
   "id": "6b6dca06-01af-437e-8eb1-d559cdb96741",
   "metadata": {
    "tags": []
   },
   "outputs": [
    {
     "ename": "SyntaxError",
     "evalue": "invalid syntax (3386946450.py, line 6)",
     "output_type": "error",
     "traceback": [
      "\u001b[0;36m  File \u001b[0;32m\"/var/folders/y9/5q7dx2j91_x2pwj_s_kllqc80000gp/T/ipykernel_7491/3386946450.py\"\u001b[0;36m, line \u001b[0;32m6\u001b[0m\n\u001b[0;31m    hp_range = <'Your hyper parameters ranges here'>\u001b[0m\n\u001b[0m               ^\u001b[0m\n\u001b[0;31mSyntaxError\u001b[0m\u001b[0;31m:\u001b[0m invalid syntax\n"
     ]
    }
   ],
   "source": [
    "# datasets_type = ['circles', 'moons']\n",
    "# k_folds = 10\n",
    "# n_samples = [10, 50, 100, 1000, 10000]\n",
    "# noise_levels = [0, 0.1, 0.2, 0.3, 0.4, 0.5]\n",
    "# clf_types = ['log_reg', 'svm']\n",
    "# hp_range = <'Your hyper parameters ranges here'>\n",
    "# regularization_values = <'Your regularization values here'>\n",
    "# results = []\n",
    "# for ds_type in datasets_type:\n",
    "#     print(f'Working on {ds_type}')\n",
    "#     for nl in noise_levels:\n",
    "#         for n in n_samples:\n",
    "#             ds = datasets.query(<'your query here'>).head(n)\n",
    "#             print(f'Starting {k_folds}-fold cross validation for {ds_type} datasets with {n} samples and noise level {nl}. Going to train {clf_types} classifiers.')\n",
    "#             for k in range(k_folds):\n",
    "#                 X, Y = <'Your code here'>\n",
    "#                 x_train,x_test,y_train,y_test= <'Your code here'>\n",
    "#                 for clf_type in clf_types:\n",
    "#                     if clf_type == 'log_reg':\n",
    "#                         for regularization_value in regularization_values:\n",
    "#                             train_acc, test_acc = <'Your code here'>\n",
    "#                             results.append(<'Your code here'>)\n",
    "#                     if clf_type == 'svm':\n",
    "#                         for gamma in hp_range:\n",
    "#                             train_acc, test_acc = <'Your code here'>\n",
    "#                             results.append(<'Your code here'>)"
   ]
  },
  {
   "cell_type": "code",
   "execution_count": null,
   "id": "880b3180-1995-4ebe-abfc-6c165912330c",
   "metadata": {},
   "outputs": [],
   "source": [
    "########## OLD #####################\n",
    "\n",
    "# results = pd.DataFrame(columns=['N_Sample','Noise_Level','Hyper_Params','ridge_regularization','Score'])\n",
    "\n",
    "\n",
    "##### WITH FUNCTIONS\n",
    "\n",
    "# for f in models_functions:\n",
    "#     for DS_NAME in DS_NAMEs:\n",
    "#         for N in Ns:\n",
    "#             for NL in NLs:\n",
    "#                 for k in range(k_folds):\n",
    "#                     for HP in HPs:\n",
    "#                         for RR in RRs:\n",
    "#                             dateCreateAndModelRun(f,DS_NAME,N,NL,HP,RR)\n",
    "                        \n",
    "\n",
    "###### ONLY LOGISTIC \n",
    "\n",
    "# for DS_NAME in DS_NAMEs:\n",
    "#         for N in Ns:\n",
    "#             for NL in NLs:\n",
    "#                 df=createDataSet(DS_NAME,N,NL)\n",
    "#                 x_train,x_test,y_train,y_test=train_test_split(df.loc[:,['x','y']],df.label,test_size=0.2,random_state=42)\n",
    "#                 training_data=pd.DataFrame({'x':x_train.x,'y':x_train.y,'target':y_train})\n",
    "#                 fold_size = int(len(x_train) / k_folds) \n",
    "#                 for k in range(k_folds):\n",
    "#                     fold_data = training_data[k * fold_size: (k+1) * fold_size]\n",
    "#                     t_data = training_data[~x_train.index.isin(fold_data)]\n",
    "#                     for HP in HPs:\n",
    "#                         for RR in RRs:\n",
    "#                             results.append([N,NL,HP,RR,dateCreateAndModelRun(t_data.loc[:,['x','y']],fold_data.loc[:,['x','y']],t_data['target'],fold_data['target'],HP,RR)])\n",
    "    \n",
    "    \n",
    "\n",
    "# ans = pool_obj.map(printVal,range(0,2))  \n",
    "# pool_obj.map(DS_NAMEs)\n",
    "# pool_obj.close()\n",
    "\n",
    "# p = Process(target=calculationToEveryDataSet, args=(DS_NAMEs))\n",
    "# p.start()\n",
    "# p.join()\n",
    "\n",
    "\n",
    "\n"
   ]
  }
 ],
 "metadata": {
  "kernelspec": {
   "display_name": "Python 3 (ipykernel)",
   "language": "python",
   "name": "python3"
  },
  "language_info": {
   "codemirror_mode": {
    "name": "ipython",
    "version": 3
   },
   "file_extension": ".py",
   "mimetype": "text/x-python",
   "name": "python",
   "nbconvert_exporter": "python",
   "pygments_lexer": "ipython3",
   "version": "3.9.13"
  }
 },
 "nbformat": 4,
 "nbformat_minor": 5
}
